{
  "nbformat": 4,
  "nbformat_minor": 0,
  "metadata": {
    "colab": {
      "provenance": []
    },
    "kernelspec": {
      "name": "python3",
      "display_name": "Python 3"
    },
    "language_info": {
      "name": "python"
    }
  },
  "cells": [
    {
      "cell_type": "code",
      "execution_count": null,
      "metadata": {
        "colab": {
          "base_uri": "https://localhost:8080/"
        },
        "id": "wbmlIwqUYj_h",
        "outputId": "d269d708-c694-4aa4-b007-148ab18cf0b9"
      },
      "outputs": [
        {
          "output_type": "stream",
          "name": "stdout",
          "text": [
            "Looking in links: https://download.pytorch.org/whl/torch_stable.html\n",
            "Requirement already satisfied: torch in /usr/local/lib/python3.11/dist-packages (2.5.1+cu124)\n",
            "Requirement already satisfied: torchvision in /usr/local/lib/python3.11/dist-packages (0.20.1+cu124)\n",
            "Requirement already satisfied: filelock in /usr/local/lib/python3.11/dist-packages (from torch) (3.17.0)\n",
            "Requirement already satisfied: typing-extensions>=4.8.0 in /usr/local/lib/python3.11/dist-packages (from torch) (4.12.2)\n",
            "Requirement already satisfied: networkx in /usr/local/lib/python3.11/dist-packages (from torch) (3.4.2)\n",
            "Requirement already satisfied: jinja2 in /usr/local/lib/python3.11/dist-packages (from torch) (3.1.5)\n",
            "Requirement already satisfied: fsspec in /usr/local/lib/python3.11/dist-packages (from torch) (2024.10.0)\n",
            "Requirement already satisfied: nvidia-cuda-nvrtc-cu12==12.4.127 in /usr/local/lib/python3.11/dist-packages (from torch) (12.4.127)\n",
            "Requirement already satisfied: nvidia-cuda-runtime-cu12==12.4.127 in /usr/local/lib/python3.11/dist-packages (from torch) (12.4.127)\n",
            "Requirement already satisfied: nvidia-cuda-cupti-cu12==12.4.127 in /usr/local/lib/python3.11/dist-packages (from torch) (12.4.127)\n",
            "Requirement already satisfied: nvidia-cudnn-cu12==9.1.0.70 in /usr/local/lib/python3.11/dist-packages (from torch) (9.1.0.70)\n",
            "Requirement already satisfied: nvidia-cublas-cu12==12.4.5.8 in /usr/local/lib/python3.11/dist-packages (from torch) (12.4.5.8)\n",
            "Requirement already satisfied: nvidia-cufft-cu12==11.2.1.3 in /usr/local/lib/python3.11/dist-packages (from torch) (11.2.1.3)\n",
            "Requirement already satisfied: nvidia-curand-cu12==10.3.5.147 in /usr/local/lib/python3.11/dist-packages (from torch) (10.3.5.147)\n",
            "Requirement already satisfied: nvidia-cusolver-cu12==11.6.1.9 in /usr/local/lib/python3.11/dist-packages (from torch) (11.6.1.9)\n",
            "Requirement already satisfied: nvidia-cusparse-cu12==12.3.1.170 in /usr/local/lib/python3.11/dist-packages (from torch) (12.3.1.170)\n",
            "Requirement already satisfied: nvidia-nccl-cu12==2.21.5 in /usr/local/lib/python3.11/dist-packages (from torch) (2.21.5)\n",
            "Requirement already satisfied: nvidia-nvtx-cu12==12.4.127 in /usr/local/lib/python3.11/dist-packages (from torch) (12.4.127)\n",
            "Requirement already satisfied: nvidia-nvjitlink-cu12==12.4.127 in /usr/local/lib/python3.11/dist-packages (from torch) (12.4.127)\n",
            "Requirement already satisfied: triton==3.1.0 in /usr/local/lib/python3.11/dist-packages (from torch) (3.1.0)\n",
            "Requirement already satisfied: sympy==1.13.1 in /usr/local/lib/python3.11/dist-packages (from torch) (1.13.1)\n",
            "Requirement already satisfied: mpmath<1.4,>=1.1.0 in /usr/local/lib/python3.11/dist-packages (from sympy==1.13.1->torch) (1.3.0)\n",
            "Requirement already satisfied: numpy in /usr/local/lib/python3.11/dist-packages (from torchvision) (1.26.4)\n",
            "Requirement already satisfied: pillow!=8.3.*,>=5.3.0 in /usr/local/lib/python3.11/dist-packages (from torchvision) (11.1.0)\n",
            "Requirement already satisfied: MarkupSafe>=2.0 in /usr/local/lib/python3.11/dist-packages (from jinja2->torch) (3.0.2)\n"
          ]
        }
      ],
      "source": [
        "!pip3 install torch torchvision -f https://download.pytorch.org/whl/torch_stable.html"
      ]
    },
    {
      "cell_type": "code",
      "source": [
        "import torch\n",
        "from torch.utils.data import Dataset\n",
        "from torchvision import datasets\n",
        "from torchvision.transforms import ToTensor\n",
        "import matplotlib.pyplot as plt\n",
        "\n",
        "\n",
        "cifar10_train  = datasets.CIFAR10(\n",
        "    root=\"data\",\n",
        "    train=True,\n",
        "    download=True,\n",
        "    transform=ToTensor()\n",
        ")\n",
        "\n",
        "cifar10_test = datasets.CIFAR10(\n",
        "    root=\"data\",\n",
        "    train=False,\n",
        "    download=True,\n",
        "    transform=ToTensor()\n",
        ")\n",
        "\n"
      ],
      "metadata": {
        "colab": {
          "base_uri": "https://localhost:8080/"
        },
        "id": "0t_3TalcZ9v5",
        "outputId": "70291012-4077-45ac-e5ef-c3a1f10245c2"
      },
      "execution_count": null,
      "outputs": [
        {
          "output_type": "stream",
          "name": "stdout",
          "text": [
            "Downloading https://www.cs.toronto.edu/~kriz/cifar-10-python.tar.gz to data/cifar-10-python.tar.gz\n"
          ]
        },
        {
          "output_type": "stream",
          "name": "stderr",
          "text": [
            "100%|██████████| 170M/170M [00:03<00:00, 46.3MB/s]\n"
          ]
        },
        {
          "output_type": "stream",
          "name": "stdout",
          "text": [
            "Extracting data/cifar-10-python.tar.gz to data\n",
            "Files already downloaded and verified\n"
          ]
        }
      ]
    },
    {
      "cell_type": "code",
      "source": [
        "cifar10_train"
      ],
      "metadata": {
        "colab": {
          "base_uri": "https://localhost:8080/"
        },
        "id": "Ugxod-JNbFsB",
        "outputId": "af1958ce-687b-4d89-fee2-dd36ef0e1e58"
      },
      "execution_count": null,
      "outputs": [
        {
          "output_type": "execute_result",
          "data": {
            "text/plain": [
              "Dataset CIFAR10\n",
              "    Number of datapoints: 50000\n",
              "    Root location: data\n",
              "    Split: Train\n",
              "    StandardTransform\n",
              "Transform: ToTensor()"
            ]
          },
          "metadata": {},
          "execution_count": 4
        }
      ]
    },
    {
      "cell_type": "code",
      "source": [
        "from PIL import Image\n",
        "import numpy as np\n",
        "import matplotlib.pyplot as plt\n",
        "\n",
        "idx = 4\n",
        "\n",
        "sample = cifar10_train[idx]\n",
        "plt.imshow(np.transpose(sample[0].numpy(), (1, 2, 0)), cmap=\"gray\")\n",
        "print(\"Label: %d\" % sample[1])\n",
        "\n"
      ],
      "metadata": {
        "colab": {
          "base_uri": "https://localhost:8080/",
          "height": 447
        },
        "id": "os2WH8yCb5VK",
        "outputId": "67d78146-0a33-43c1-a0d6-b5abdeda383f"
      },
      "execution_count": null,
      "outputs": [
        {
          "output_type": "stream",
          "name": "stdout",
          "text": [
            "Label: 1\n"
          ]
        },
        {
          "output_type": "display_data",
          "data": {
            "text/plain": [
              "<Figure size 640x480 with 1 Axes>"
            ],
            "image/png": "[encoded data removed]"
          },
          "metadata": {}
        }
      ]
    },
    {
      "cell_type": "code",
      "source": [
        "def flatten_image(x, label=False):\n",
        "    print(x)\n",
        "    x, labels = zip(*x)\n",
        "\n",
        "    if label:\n",
        "        labels = torch.stack(labels)\n",
        "        return torch.flatten(x[0],1), labels\n",
        "\n",
        "    else:\n",
        "\n",
        "        return torch.flatten(x[0],1)"
      ],
      "metadata": {
        "id": "MhOAJ1die9ja"
      },
      "execution_count": null,
      "outputs": []
    },
    {
      "cell_type": "code",
      "source": [
        "out = flatten_image([cifar10_train[0],cifar10_train[1]])\n",
        "out"
      ],
      "metadata": {
        "colab": {
          "base_uri": "https://localhost:8080/"
        },
        "id": "qYYkYkE7f0gF",
        "outputId": "9e03954f-73ab-4576-fa9e-3bfacfa69333"
      },
      "execution_count": null,
      "outputs": [
        {
          "output_type": "stream",
          "name": "stdout",
          "text": [
            "[(tensor([[[0.2314, 0.1686, 0.1961,  ..., 0.6196, 0.5961, 0.5804],\n",
            "         [0.0627, 0.0000, 0.0706,  ..., 0.4824, 0.4667, 0.4784],\n",
            "         [0.0980, 0.0627, 0.1922,  ..., 0.4627, 0.4706, 0.4275],\n",
            "         ...,\n",
            "         [0.8157, 0.7882, 0.7765,  ..., 0.6275, 0.2196, 0.2078],\n",
            "         [0.7059, 0.6784, 0.7294,  ..., 0.7216, 0.3804, 0.3255],\n",
            "         [0.6941, 0.6588, 0.7020,  ..., 0.8471, 0.5922, 0.4824]],\n",
            "\n",
            "        [[0.2431, 0.1804, 0.1882,  ..., 0.5176, 0.4902, 0.4863],\n",
            "         [0.0784, 0.0000, 0.0314,  ..., 0.3451, 0.3255, 0.3412],\n",
            "         [0.0941, 0.0275, 0.1059,  ..., 0.3294, 0.3294, 0.2863],\n",
            "         ...,\n",
            "         [0.6667, 0.6000, 0.6314,  ..., 0.5216, 0.1216, 0.1333],\n",
            "         [0.5451, 0.4824, 0.5647,  ..., 0.5804, 0.2431, 0.2078],\n",
            "         [0.5647, 0.5059, 0.5569,  ..., 0.7216, 0.4627, 0.3608]],\n",
            "\n",
            "        [[0.2471, 0.1765, 0.1686,  ..., 0.4235, 0.4000, 0.4039],\n",
            "         [0.0784, 0.0000, 0.0000,  ..., 0.2157, 0.1961, 0.2235],\n",
            "         [0.0824, 0.0000, 0.0314,  ..., 0.1961, 0.1961, 0.1647],\n",
            "         ...,\n",
            "         [0.3765, 0.1333, 0.1020,  ..., 0.2745, 0.0275, 0.0784],\n",
            "         [0.3765, 0.1647, 0.1176,  ..., 0.3686, 0.1333, 0.1333],\n",
            "         [0.4549, 0.3686, 0.3412,  ..., 0.5490, 0.3294, 0.2824]]]), 6), (tensor([[[0.6039, 0.4941, 0.4118,  ..., 0.3569, 0.3412, 0.3098],\n",
            "         [0.5490, 0.5686, 0.4902,  ..., 0.3765, 0.3020, 0.2784],\n",
            "         [0.5490, 0.5451, 0.4510,  ..., 0.3098, 0.2667, 0.2627],\n",
            "         ...,\n",
            "         [0.6863, 0.6118, 0.6039,  ..., 0.1647, 0.2392, 0.3647],\n",
            "         [0.6471, 0.6118, 0.6235,  ..., 0.4039, 0.4824, 0.5137],\n",
            "         [0.6392, 0.6196, 0.6392,  ..., 0.5608, 0.5608, 0.5608]],\n",
            "\n",
            "        [[0.6941, 0.5373, 0.4078,  ..., 0.3725, 0.3529, 0.3176],\n",
            "         [0.6275, 0.6000, 0.4902,  ..., 0.3882, 0.3137, 0.2863],\n",
            "         [0.6078, 0.5725, 0.4510,  ..., 0.3216, 0.2745, 0.2706],\n",
            "         ...,\n",
            "         [0.6549, 0.6039, 0.6275,  ..., 0.1333, 0.2078, 0.3255],\n",
            "         [0.6039, 0.5961, 0.6314,  ..., 0.3647, 0.4471, 0.4745],\n",
            "         [0.5804, 0.5804, 0.6118,  ..., 0.5216, 0.5255, 0.5216]],\n",
            "\n",
            "        [[0.7333, 0.5333, 0.3725,  ..., 0.2784, 0.2784, 0.2745],\n",
            "         [0.6627, 0.6039, 0.4627,  ..., 0.3059, 0.2431, 0.2392],\n",
            "         [0.6431, 0.5843, 0.4392,  ..., 0.2510, 0.2157, 0.2157],\n",
            "         ...,\n",
            "         [0.6510, 0.6275, 0.6667,  ..., 0.1412, 0.2235, 0.3569],\n",
            "         [0.5020, 0.5098, 0.5569,  ..., 0.3765, 0.4706, 0.5137],\n",
            "         [0.4706, 0.4784, 0.5216,  ..., 0.5451, 0.5569, 0.5647]]]), 9)]\n"
          ]
        },
        {
          "output_type": "execute_result",
          "data": {
            "text/plain": [
              "tensor([[0.2314, 0.1686, 0.1961,  ..., 0.8471, 0.5922, 0.4824],\n",
              "        [0.2431, 0.1804, 0.1882,  ..., 0.7216, 0.4627, 0.3608],\n",
              "        [0.2471, 0.1765, 0.1686,  ..., 0.5490, 0.3294, 0.2824]])"
            ]
          },
          "metadata": {},
          "execution_count": 120
        }
      ]
    },
    {
      "cell_type": "code",
      "source": [
        "! pip install keras-core\n",
        "\n"
      ],
      "metadata": {
        "colab": {
          "base_uri": "https://localhost:8080/"
        },
        "id": "0zZ0H0xffES4",
        "outputId": "e2473d8d-8d2e-40ac-9c45-b8b8189b95e4"
      },
      "execution_count": null,
      "outputs": [
        {
          "output_type": "stream",
          "name": "stdout",
          "text": [
            "Collecting keras-core\n",
            "  Downloading keras_core-0.1.7-py3-none-any.whl.metadata (4.3 kB)\n",
            "Requirement already satisfied: absl-py in /usr/local/lib/python3.11/dist-packages (from keras-core) (1.4.0)\n",
            "Requirement already satisfied: numpy in /usr/local/lib/python3.11/dist-packages (from keras-core) (1.26.4)\n",
            "Requirement already satisfied: rich in /usr/local/lib/python3.11/dist-packages (from keras-core) (13.9.4)\n",
            "Requirement already satisfied: namex in /usr/local/lib/python3.11/dist-packages (from keras-core) (0.0.8)\n",
            "Requirement already satisfied: h5py in /usr/local/lib/python3.11/dist-packages (from keras-core) (3.12.1)\n",
            "Requirement already satisfied: dm-tree in /usr/local/lib/python3.11/dist-packages (from keras-core) (0.1.9)\n",
            "Requirement already satisfied: attrs>=18.2.0 in /usr/local/lib/python3.11/dist-packages (from dm-tree->keras-core) (25.1.0)\n",
            "Requirement already satisfied: wrapt>=1.11.2 in /usr/local/lib/python3.11/dist-packages (from dm-tree->keras-core) (1.17.2)\n",
            "Requirement already satisfied: markdown-it-py>=2.2.0 in /usr/local/lib/python3.11/dist-packages (from rich->keras-core) (3.0.0)\n",
            "Requirement already satisfied: pygments<3.0.0,>=2.13.0 in /usr/local/lib/python3.11/dist-packages (from rich->keras-core) (2.18.0)\n",
            "Requirement already satisfied: mdurl~=0.1 in /usr/local/lib/python3.11/dist-packages (from markdown-it-py>=2.2.0->rich->keras-core) (0.1.2)\n",
            "Downloading keras_core-0.1.7-py3-none-any.whl (950 kB)\n",
            "\u001b[?25l   \u001b[90m━━━━━━━━━━━━━━━━━━━━━━━━━━━━━━━━━━━━━━━━\u001b[0m \u001b[32m0.0/950.8 kB\u001b[0m \u001b[31m?\u001b[0m eta \u001b[36m-:--:--\u001b[0m\r\u001b[2K   \u001b[91m━━━━━━━━\u001b[0m\u001b[91m╸\u001b[0m\u001b[90m━━━━━━━━━━━━━━━━━━━━━━━━━━━━━━━\u001b[0m \u001b[32m204.8/950.8 kB\u001b[0m \u001b[31m6.3 MB/s\u001b[0m eta \u001b[36m0:00:01\u001b[0m\r\u001b[2K   \u001b[91m━━━━━━━━━━━━━━━━━━━━━━━━━━━━━━━━━━━━━━━\u001b[0m\u001b[91m╸\u001b[0m \u001b[32m942.1/950.8 kB\u001b[0m \u001b[31m17.3 MB/s\u001b[0m eta \u001b[36m0:00:01\u001b[0m\r\u001b[2K   \u001b[90m━━━━━━━━━━━━━━━━━━━━━━━━━━━━━━━━━━━━━━━━\u001b[0m \u001b[32m950.8/950.8 kB\u001b[0m \u001b[31m13.2 MB/s\u001b[0m eta \u001b[36m0:00:00\u001b[0m\n",
            "\u001b[?25hInstalling collected packages: keras-core\n",
            "Successfully installed keras-core-0.1.7\n"
          ]
        }
      ]
    },
    {
      "cell_type": "code",
      "source": [
        "import numpy as np\n",
        "import os\n",
        "os.environ[\"KERAS_BACKEND\"] = \"torch\"\n",
        "\n",
        "import keras_core as keras\n",
        "\n",
        "class BernoulliMLP(keras.Model):\n",
        "\n",
        "    def __init__(self, input_shape, name='BernoulliMLP', hidden_dim=10, latent_dim=10, **kwargs):\n",
        "\n",
        "        super().__init__(name=name, **kwargs)\n",
        "\n",
        "        self._h = keras.layers.Dense(hidden_dim,\n",
        "\n",
        "                                        activation='tanh')\n",
        "\n",
        "        self._y = keras.layers.Dense(latent_dim,\n",
        "\n",
        "                                        activation='sigmoid')\n",
        "\n",
        "    def call(self, x):\n",
        "\n",
        "        return self._y(self._h(x)), None, None\n",
        "\n",
        "class GaussianMLP(keras.Model):\n",
        "\n",
        "    def __init__(self, input_shape, name='GaussianMLP', hidden_dim=10, latent_dim=10, iaf=False, **kwargs):\n",
        "\n",
        "        super().__init__(name=name, **kwargs)\n",
        "\n",
        "        self._h = keras.layers.Dense(hidden_dim,\n",
        "\n",
        "                                        activation='tanh')\n",
        "\n",
        "        self._mean = keras.layers.Dense(latent_dim)\n",
        "\n",
        "        self._logvar = keras.layers.Dense(latent_dim)\n",
        "\n",
        "        self._iaf_output = None\n",
        "\n",
        "        if iaf:\n",
        "\n",
        "            self._iaf_output = keras.layers.Dense(latent_dim)\n",
        "\n",
        "    def call(self, x):\n",
        "\n",
        "        if self._iaf_output:\n",
        "\n",
        "            return self._mean(self._h(x)), self._logvar(self._h(x)), self._iaf_output(self._h(x))\n",
        "\n",
        "        else:\n",
        "\n",
        "            return self._mean(self._h(x)), self._logvar(self._h(x)),  None"
      ],
      "metadata": {
        "id": "YWqw9lkJh5pA",
        "colab": {
          "base_uri": "https://localhost:8080/"
        },
        "outputId": "9fe4bb35-dc72-4f40-98bb-c94e7abc8f8a"
      },
      "execution_count": null,
      "outputs": [
        {
          "output_type": "stream",
          "name": "stdout",
          "text": [
            "Using PyTorch backend.\n"
          ]
        }
      ]
    },
    {
      "cell_type": "code",
      "source": [
        "class VAE(keras.Model):\n",
        "\n",
        "    def __init__(self, input_shape, name='variational_autoencoder',\n",
        "\n",
        "                 latent_dim=10, hidden_dim=10, encoder='GaussianMLP',\n",
        "\n",
        "                 decoder='BernoulliMLP', iaf_model=None,\n",
        "\n",
        "                 number_iaf_networks=0,\n",
        "\n",
        "                 iaf_params={},\n",
        "\n",
        "                 num_samples=100, **kwargs):\n",
        "\n",
        "        super().__init__(name=name, **kwargs)\n",
        "\n",
        "        self._latent_dim = latent_dim\n",
        "\n",
        "        self._num_samples = num_samples\n",
        "\n",
        "        self._iaf = []\n",
        "\n",
        "        if encoder == 'GaussianMLP':\n",
        "\n",
        "            self._encoder = GaussianMLP(input_shape=input_shape,\n",
        "\n",
        "                                        latent_dim=latent_dim,\n",
        "\n",
        "                                        iaf=(iaf_model is not None),\n",
        "\n",
        "                                        hidden_dim=hidden_dim)\n",
        "\n",
        "        else:\n",
        "\n",
        "            raise ValueError(\"Unknown encoder type: {}\".format(encoder))\n",
        "\n",
        "        if decoder == 'BernoulliMLP':\n",
        "\n",
        "            self._decoder = BernoulliMLP(input_shape=(1,latent_dim),\n",
        "\n",
        "                                         latent_dim=input_shape[1],\n",
        "\n",
        "                                         hidden_dim=hidden_dim)\n",
        "\n",
        "        elif decoder == 'GaussianMLP':\n",
        "\n",
        "            self._encoder = GaussianMLP(input_shape=(1,latent_dim),\n",
        "\n",
        "                                        latent_dim=input_shape[1],\n",
        "\n",
        "                                        iaf=(iaf_model is not None),\n",
        "\n",
        "                                        hidden_dim=hidden_dim)\n",
        "\n",
        "        else:\n",
        "\n",
        "            raise ValueError(\"Unknown decoder type: {}\".format(decoder))\n",
        "\n",
        "        if iaf_model:\n",
        "\n",
        "            self._iaf = []\n",
        "\n",
        "            for t in range(number_iaf_networks):\n",
        "\n",
        "                self._iaf.append(\n",
        "\n",
        "                    iaf_model(input_shape==(1,latent_dim*2),\n",
        "\n",
        "                              **iaf_params))\n",
        "\n",
        "    def encode(self, x):\n",
        "\n",
        "          return self._encoder.call(x)\n",
        "\n",
        "\n",
        "    def decode(self, z, apply_sigmoid=False):\n",
        "\n",
        "        logits, _, _ = self._decoder.call(z)\n",
        "\n",
        "        if apply_sigmoid:\n",
        "\n",
        "            probs = torch.sigmoid(logits)\n",
        "\n",
        "            return probs\n",
        "\n",
        "        return logits\n",
        "\n",
        "\n",
        "    def sample(self, eps=None):\n",
        "\n",
        "        if eps is None:\n",
        "\n",
        "            eps = torch.randn((self._num_samples,\n",
        "\n",
        "                                          self.latent_dim))\n",
        "\n",
        "        return self._decoder.call(eps, apply_sigmoid=False)\n",
        "\n",
        "\n",
        "    def reparameterize(self, mean, logvar):\n",
        "\n",
        "        eps = torch.randn(mean.shape)\n",
        "\n",
        "        return eps * torch.exp(logvar * .5) + mean\n",
        "\n",
        "    @property\n",
        "    def iaf(self):\n",
        "\n",
        "        return self._iaf\n",
        "\n",
        "def log_normal_pdf(sample, mean, logvar, raxis=1):\n",
        "\n",
        "  log2pi = torch.log(torch.tensor([2. * np.pi]))\n",
        "\n",
        "  return -.5 * ((sample - mean) ** 2. * torch.exp(-logvar) + logvar + log2pi).detach().numpy()\n",
        "\n",
        "\n",
        "def compute_loss(model, x):\n",
        "\n",
        "  mean, logvar, h = model.encode(x)\n",
        "\n",
        "  z = model.reparameterize(mean, logvar)\n",
        "\n",
        "  logqz_x = log_normal_pdf(z, mean, logvar)\n",
        "\n",
        "  for iaf_model in model.iaf:\n",
        "\n",
        "      mean, logvar, _ = iaf_model.call(torch.concat([z, h], 1))\n",
        "\n",
        "      s = torch.sigmoid(logvar)\n",
        "\n",
        "      z = torch.add(torch.multiply(z,s), torch.multiply(mean,(1-s)))\n",
        "\n",
        "      logqz_x -= torch.sum(torch.log(s)).detach().numpy()\n",
        "\n",
        "\n",
        "  x_logit = model.decode(z)\n",
        "\n",
        "  cross_ent = torch.nn.BCEWithLogitsLoss().forward(x_logit, x)\n",
        "\n",
        "  logpx_z = -torch.sum(cross_ent)\n",
        "\n",
        "  logpz = log_normal_pdf(z, torch.tensor([0.]), torch.tensor([0.]))\n",
        "\n",
        "  return -torch.sum(logpx_z + logpz - logqz_x.detach())\n",
        "\n",
        "def compute_apply_gradients(model, x, optimizer):\n",
        "  x=x.detach()\n",
        "  x=x.view(-1,32*32*3)\n",
        "  loss = compute_loss(model, x)\n",
        "  optimizer.zero_grad()\n",
        "  loss.backward()\n",
        "  optimizer.step()\n",
        "\n"
      ],
      "metadata": {
        "id": "Ioe63ZNxikQq"
      },
      "execution_count": null,
      "outputs": []
    },
    {
      "cell_type": "code",
      "source": [
        "model = VAE(input_shape=(1,3072), hidden_dim=500, latent_dim=500)\n",
        "model = VAE(input_shape=(1,3072), hidden_dim=500, latent_dim=500,\n",
        "\n",
        "    iaf_model=GaussianMLP, number_iaf_networks=3,\n",
        "\n",
        "    iaf_params={'latent_dim': 500, 'hidden_dim': 500, 'iaf': False})"
      ],
      "metadata": {
        "id": "HPwBiwoPYbgi"
      },
      "execution_count": null,
      "outputs": []
    },
    {
      "cell_type": "code",
      "source": [
        "pip install torchviz"
      ],
      "metadata": {
        "colab": {
          "base_uri": "https://localhost:8080/"
        },
        "id": "Sw37VI2UHxTY",
        "outputId": "b6b8feea-0a9d-4b89-fab9-bfc511da848f"
      },
      "execution_count": null,
      "outputs": [
        {
          "output_type": "stream",
          "name": "stdout",
          "text": [
            "Collecting torchviz\n",
            "  Downloading torchviz-0.0.3-py3-none-any.whl.metadata (2.1 kB)\n",
            "Requirement already satisfied: torch in /usr/local/lib/python3.11/dist-packages (from torchviz) (2.5.1+cu124)\n",
            "Requirement already satisfied: graphviz in /usr/local/lib/python3.11/dist-packages (from torchviz) (0.20.3)\n",
            "Requirement already satisfied: filelock in /usr/local/lib/python3.11/dist-packages (from torch->torchviz) (3.17.0)\n",
            "Requirement already satisfied: typing-extensions>=4.8.0 in /usr/local/lib/python3.11/dist-packages (from torch->torchviz) (4.12.2)\n",
            "Requirement already satisfied: networkx in /usr/local/lib/python3.11/dist-packages (from torch->torchviz) (3.4.2)\n",
            "Requirement already satisfied: jinja2 in /usr/local/lib/python3.11/dist-packages (from torch->torchviz) (3.1.5)\n",
            "Requirement already satisfied: fsspec in /usr/local/lib/python3.11/dist-packages (from torch->torchviz) (2024.10.0)\n",
            "Collecting nvidia-cuda-nvrtc-cu12==12.4.127 (from torch->torchviz)\n",
            "  Downloading nvidia_cuda_nvrtc_cu12-12.4.127-py3-none-manylinux2014_x86_64.whl.metadata (1.5 kB)\n",
            "Collecting nvidia-cuda-runtime-cu12==12.4.127 (from torch->torchviz)\n",
            "  Downloading nvidia_cuda_runtime_cu12-12.4.127-py3-none-manylinux2014_x86_64.whl.metadata (1.5 kB)\n",
            "Collecting nvidia-cuda-cupti-cu12==12.4.127 (from torch->torchviz)\n",
            "  Downloading nvidia_cuda_cupti_cu12-12.4.127-py3-none-manylinux2014_x86_64.whl.metadata (1.6 kB)\n",
            "Collecting nvidia-cudnn-cu12==9.1.0.70 (from torch->torchviz)\n",
            "  Downloading nvidia_cudnn_cu12-9.1.0.70-py3-none-manylinux2014_x86_64.whl.metadata (1.6 kB)\n",
            "Collecting nvidia-cublas-cu12==12.4.5.8 (from torch->torchviz)\n",
            "  Downloading nvidia_cublas_cu12-12.4.5.8-py3-none-manylinux2014_x86_64.whl.metadata (1.5 kB)\n",
            "Collecting nvidia-cufft-cu12==11.2.1.3 (from torch->torchviz)\n",
            "  Downloading nvidia_cufft_cu12-11.2.1.3-py3-none-manylinux2014_x86_64.whl.metadata (1.5 kB)\n",
            "Collecting nvidia-curand-cu12==10.3.5.147 (from torch->torchviz)\n",
            "  Downloading nvidia_curand_cu12-10.3.5.147-py3-none-manylinux2014_x86_64.whl.metadata (1.5 kB)\n",
            "Collecting nvidia-cusolver-cu12==11.6.1.9 (from torch->torchviz)\n",
            "  Downloading nvidia_cusolver_cu12-11.6.1.9-py3-none-manylinux2014_x86_64.whl.metadata (1.6 kB)\n",
            "Collecting nvidia-cusparse-cu12==12.3.1.170 (from torch->torchviz)\n",
            "  Downloading nvidia_cusparse_cu12-12.3.1.170-py3-none-manylinux2014_x86_64.whl.metadata (1.6 kB)\n",
            "Requirement already satisfied: nvidia-nccl-cu12==2.21.5 in /usr/local/lib/python3.11/dist-packages (from torch->torchviz) (2.21.5)\n",
            "Requirement already satisfied: nvidia-nvtx-cu12==12.4.127 in /usr/local/lib/python3.11/dist-packages (from torch->torchviz) (12.4.127)\n",
            "Collecting nvidia-nvjitlink-cu12==12.4.127 (from torch->torchviz)\n",
            "  Downloading nvidia_nvjitlink_cu12-12.4.127-py3-none-manylinux2014_x86_64.whl.metadata (1.5 kB)\n",
            "Requirement already satisfied: triton==3.1.0 in /usr/local/lib/python3.11/dist-packages (from torch->torchviz) (3.1.0)\n",
            "Requirement already satisfied: sympy==1.13.1 in /usr/local/lib/python3.11/dist-packages (from torch->torchviz) (1.13.1)\n",
            "Requirement already satisfied: mpmath<1.4,>=1.1.0 in /usr/local/lib/python3.11/dist-packages (from sympy==1.13.1->torch->torchviz) (1.3.0)\n",
            "Requirement already satisfied: MarkupSafe>=2.0 in /usr/local/lib/python3.11/dist-packages (from jinja2->torch->torchviz) (3.0.2)\n",
            "Downloading torchviz-0.0.3-py3-none-any.whl (5.7 kB)\n",
            "Downloading nvidia_cublas_cu12-12.4.5.8-py3-none-manylinux2014_x86_64.whl (363.4 MB)\n",
            "\u001b[2K   \u001b[90m━━━━━━━━━━━━━━━━━━━━━━━━━━━━━━━━━━━━━━━━\u001b[0m \u001b[32m363.4/363.4 MB\u001b[0m \u001b[31m3.2 MB/s\u001b[0m eta \u001b[36m0:00:00\u001b[0m\n",
            "\u001b[?25hDownloading nvidia_cuda_cupti_cu12-12.4.127-py3-none-manylinux2014_x86_64.whl (13.8 MB)\n",
            "\u001b[2K   \u001b[90m━━━━━━━━━━━━━━━━━━━━━━━━━━━━━━━━━━━━━━━━\u001b[0m \u001b[32m13.8/13.8 MB\u001b[0m \u001b[31m66.3 MB/s\u001b[0m eta \u001b[36m0:00:00\u001b[0m\n",
            "\u001b[?25hDownloading nvidia_cuda_nvrtc_cu12-12.4.127-py3-none-manylinux2014_x86_64.whl (24.6 MB)\n",
            "\u001b[2K   \u001b[90m━━━━━━━━━━━━━━━━━━━━━━━━━━━━━━━━━━━━━━━━\u001b[0m \u001b[32m24.6/24.6 MB\u001b[0m \u001b[31m56.1 MB/s\u001b[0m eta \u001b[36m0:00:00\u001b[0m\n",
            "\u001b[?25hDownloading nvidia_cuda_runtime_cu12-12.4.127-py3-none-manylinux2014_x86_64.whl (883 kB)\n",
            "\u001b[2K   \u001b[90m━━━━━━━━━━━━━━━━━━━━━━━━━━━━━━━━━━━━━━━━\u001b[0m \u001b[32m883.7/883.7 kB\u001b[0m \u001b[31m36.8 MB/s\u001b[0m eta \u001b[36m0:00:00\u001b[0m\n",
            "\u001b[?25hDownloading nvidia_cudnn_cu12-9.1.0.70-py3-none-manylinux2014_x86_64.whl (664.8 MB)\n",
            "\u001b[2K   \u001b[90m━━━━━━━━━━━━━━━━━━━━━━━━━━━━━━━━━━━━━━━━\u001b[0m \u001b[32m664.8/664.8 MB\u001b[0m \u001b[31m1.8 MB/s\u001b[0m eta \u001b[36m0:00:00\u001b[0m\n",
            "\u001b[?25hDownloading nvidia_cufft_cu12-11.2.1.3-py3-none-manylinux2014_x86_64.whl (211.5 MB)\n",
            "\u001b[2K   \u001b[90m━━━━━━━━━━━━━━━━━━━━━━━━━━━━━━━━━━━━━━━━\u001b[0m \u001b[32m211.5/211.5 MB\u001b[0m \u001b[31m4.9 MB/s\u001b[0m eta \u001b[36m0:00:00\u001b[0m\n",
            "\u001b[?25hDownloading nvidia_curand_cu12-10.3.5.147-py3-none-manylinux2014_x86_64.whl (56.3 MB)\n",
            "\u001b[2K   \u001b[90m━━━━━━━━━━━━━━━━━━━━━━━━━━━━━━━━━━━━━━━━\u001b[0m \u001b[32m56.3/56.3 MB\u001b[0m \u001b[31m10.8 MB/s\u001b[0m eta \u001b[36m0:00:00\u001b[0m\n",
            "\u001b[?25hDownloading nvidia_cusolver_cu12-11.6.1.9-py3-none-manylinux2014_x86_64.whl (127.9 MB)\n",
            "\u001b[2K   \u001b[90m━━━━━━━━━━━━━━━━━━━━━━━━━━━━━━━━━━━━━━━━\u001b[0m \u001b[32m127.9/127.9 MB\u001b[0m \u001b[31m7.2 MB/s\u001b[0m eta \u001b[36m0:00:00\u001b[0m\n",
            "\u001b[?25hDownloading nvidia_cusparse_cu12-12.3.1.170-py3-none-manylinux2014_x86_64.whl (207.5 MB)\n",
            "\u001b[2K   \u001b[90m━━━━━━━━━━━━━━━━━━━━━━━━━━━━━━━━━━━━━━━━\u001b[0m \u001b[32m207.5/207.5 MB\u001b[0m \u001b[31m6.2 MB/s\u001b[0m eta \u001b[36m0:00:00\u001b[0m\n",
            "\u001b[?25hDownloading nvidia_nvjitlink_cu12-12.4.127-py3-none-manylinux2014_x86_64.whl (21.1 MB)\n",
            "\u001b[2K   \u001b[90m━━━━━━━━━━━━━━━━━━━━━━━━━━━━━━━━━━━━━━━━\u001b[0m \u001b[32m21.1/21.1 MB\u001b[0m \u001b[31m67.7 MB/s\u001b[0m eta \u001b[36m0:00:00\u001b[0m\n",
            "\u001b[?25hInstalling collected packages: nvidia-nvjitlink-cu12, nvidia-curand-cu12, nvidia-cufft-cu12, nvidia-cuda-runtime-cu12, nvidia-cuda-nvrtc-cu12, nvidia-cuda-cupti-cu12, nvidia-cublas-cu12, nvidia-cusparse-cu12, nvidia-cudnn-cu12, nvidia-cusolver-cu12, torchviz\n",
            "  Attempting uninstall: nvidia-nvjitlink-cu12\n",
            "    Found existing installation: nvidia-nvjitlink-cu12 12.5.82\n",
            "    Uninstalling nvidia-nvjitlink-cu12-12.5.82:\n",
            "      Successfully uninstalled nvidia-nvjitlink-cu12-12.5.82\n",
            "  Attempting uninstall: nvidia-curand-cu12\n",
            "    Found existing installation: nvidia-curand-cu12 10.3.6.82\n",
            "    Uninstalling nvidia-curand-cu12-10.3.6.82:\n",
            "      Successfully uninstalled nvidia-curand-cu12-10.3.6.82\n",
            "  Attempting uninstall: nvidia-cufft-cu12\n",
            "    Found existing installation: nvidia-cufft-cu12 11.2.3.61\n",
            "    Uninstalling nvidia-cufft-cu12-11.2.3.61:\n",
            "      Successfully uninstalled nvidia-cufft-cu12-11.2.3.61\n",
            "  Attempting uninstall: nvidia-cuda-runtime-cu12\n",
            "    Found existing installation: nvidia-cuda-runtime-cu12 12.5.82\n",
            "    Uninstalling nvidia-cuda-runtime-cu12-12.5.82:\n",
            "      Successfully uninstalled nvidia-cuda-runtime-cu12-12.5.82\n",
            "  Attempting uninstall: nvidia-cuda-nvrtc-cu12\n",
            "    Found existing installation: nvidia-cuda-nvrtc-cu12 12.5.82\n",
            "    Uninstalling nvidia-cuda-nvrtc-cu12-12.5.82:\n",
            "      Successfully uninstalled nvidia-cuda-nvrtc-cu12-12.5.82\n",
            "  Attempting uninstall: nvidia-cuda-cupti-cu12\n",
            "    Found existing installation: nvidia-cuda-cupti-cu12 12.5.82\n",
            "    Uninstalling nvidia-cuda-cupti-cu12-12.5.82:\n",
            "      Successfully uninstalled nvidia-cuda-cupti-cu12-12.5.82\n",
            "  Attempting uninstall: nvidia-cublas-cu12\n",
            "    Found existing installation: nvidia-cublas-cu12 12.5.3.2\n",
            "    Uninstalling nvidia-cublas-cu12-12.5.3.2:\n",
            "      Successfully uninstalled nvidia-cublas-cu12-12.5.3.2\n",
            "  Attempting uninstall: nvidia-cusparse-cu12\n",
            "    Found existing installation: nvidia-cusparse-cu12 12.5.1.3\n",
            "    Uninstalling nvidia-cusparse-cu12-12.5.1.3:\n",
            "      Successfully uninstalled nvidia-cusparse-cu12-12.5.1.3\n",
            "  Attempting uninstall: nvidia-cudnn-cu12\n",
            "    Found existing installation: nvidia-cudnn-cu12 9.3.0.75\n",
            "    Uninstalling nvidia-cudnn-cu12-9.3.0.75:\n",
            "      Successfully uninstalled nvidia-cudnn-cu12-9.3.0.75\n",
            "  Attempting uninstall: nvidia-cusolver-cu12\n",
            "    Found existing installation: nvidia-cusolver-cu12 11.6.3.83\n",
            "    Uninstalling nvidia-cusolver-cu12-11.6.3.83:\n",
            "      Successfully uninstalled nvidia-cusolver-cu12-11.6.3.83\n",
            "Successfully installed nvidia-cublas-cu12-12.4.5.8 nvidia-cuda-cupti-cu12-12.4.127 nvidia-cuda-nvrtc-cu12-12.4.127 nvidia-cuda-runtime-cu12-12.4.127 nvidia-cudnn-cu12-9.1.0.70 nvidia-cufft-cu12-11.2.1.3 nvidia-curand-cu12-10.3.5.147 nvidia-cusolver-cu12-11.6.1.9 nvidia-cusparse-cu12-12.3.1.170 nvidia-nvjitlink-cu12-12.4.127 torchviz-0.0.3\n"
          ]
        }
      ]
    },
    {
      "cell_type": "code",
      "source": [
        "from torchviz import make_dot\n",
        "y = model.encode(torch.randn(1,3072))\n",
        "make_dot(y[0].mean(), params=dict(model.named_parameters()))"
      ],
      "metadata": {
        "colab": {
          "base_uri": "https://localhost:8080/",
          "height": 719
        },
        "id": "YIh8_GkxIlP-",
        "outputId": "f98eb11a-4a36-4ac7-da9e-dc3927b4a78c"
      },
      "execution_count": null,
      "outputs": [
        {
          "output_type": "execute_result",
          "data": {
            "image/svg+xml": "<?xml version=\"1.0\" encoding=\"UTF-8\" standalone=\"no\"?>\n<!DOCTYPE svg PUBLIC \"-//W3C//DTD SVG 1.1//EN\"\n \"http://www.w3.org/Graphics/SVG/1.1/DTD/svg11.dtd\">\n<!-- Generated by graphviz version 2.43.0 (0)\n -->\n<!-- Title: %3 Pages: 1 -->\n<svg width=\"578pt\" height=\"523pt\"\n viewBox=\"0.00 0.00 578.00 523.00\" xmlns=\"http://www.w3.org/2000/svg\" xmlns:xlink=\"http://www.w3.org/1999/xlink\">\n<g id=\"graph0\" class=\"graph\" transform=\"scale(1 1) rotate(0) translate(4 519)\">\n<title>%3</title>\n<polygon fill=\"white\" stroke=\"transparent\" points=\"-4,4 -4,-519 574,-519 574,4 -4,4\"/>\n<!-- 140233674164656 -->\n<g id=\"node1\" class=\"node\">\n<title>140233674164656</title>\n<polygon fill=\"#caff70\" stroke=\"black\" points=\"405.5,-31 351.5,-31 351.5,0 405.5,0 405.5,-31\"/>\n<text text-anchor=\"middle\" x=\"378.5\" y=\"-7\" font-family=\"monospace\" font-size=\"10.00\"> ()</text>\n</g>\n<!-- 140233989270320 -->\n<g id=\"node2\" class=\"node\">\n<title>140233989270320</title>\n<polygon fill=\"lightgrey\" stroke=\"black\" points=\"426,-86 331,-86 331,-67 426,-67 426,-86\"/>\n<text text-anchor=\"middle\" x=\"378.5\" y=\"-74\" font-family=\"monospace\" font-size=\"10.00\">MeanBackward0</text>\n</g>\n<!-- 140233989270320&#45;&gt;140233674164656 -->\n<g id=\"edge14\" class=\"edge\">\n<title>140233989270320&#45;&gt;140233674164656</title>\n<path fill=\"none\" stroke=\"black\" d=\"M378.5,-66.79C378.5,-60.07 378.5,-50.4 378.5,-41.34\"/>\n<polygon fill=\"black\" stroke=\"black\" points=\"382,-41.19 378.5,-31.19 375,-41.19 382,-41.19\"/>\n</g>\n<!-- 140233989261344 -->\n<g id=\"node3\" class=\"node\">\n<title>140233989261344</title>\n<polygon fill=\"lightgrey\" stroke=\"black\" points=\"423,-141 334,-141 334,-122 423,-122 423,-141\"/>\n<text text-anchor=\"middle\" x=\"378.5\" y=\"-129\" font-family=\"monospace\" font-size=\"10.00\">AddBackward0</text>\n</g>\n<!-- 140233989261344&#45;&gt;140233989270320 -->\n<g id=\"edge1\" class=\"edge\">\n<title>140233989261344&#45;&gt;140233989270320</title>\n<path fill=\"none\" stroke=\"black\" d=\"M378.5,-121.75C378.5,-114.8 378.5,-104.85 378.5,-96.13\"/>\n<polygon fill=\"black\" stroke=\"black\" points=\"382,-96.09 378.5,-86.09 375,-96.09 382,-96.09\"/>\n</g>\n<!-- 140233989260096 -->\n<g id=\"node4\" class=\"node\">\n<title>140233989260096</title>\n<polygon fill=\"lightgrey\" stroke=\"black\" points=\"352,-196 269,-196 269,-177 352,-177 352,-196\"/>\n<text text-anchor=\"middle\" x=\"310.5\" y=\"-184\" font-family=\"monospace\" font-size=\"10.00\">MmBackward0</text>\n</g>\n<!-- 140233989260096&#45;&gt;140233989261344 -->\n<g id=\"edge2\" class=\"edge\">\n<title>140233989260096&#45;&gt;140233989261344</title>\n<path fill=\"none\" stroke=\"black\" d=\"M321.43,-176.98C331.58,-169.07 346.92,-157.11 359.15,-147.58\"/>\n<polygon fill=\"black\" stroke=\"black\" points=\"361.64,-150.08 367.38,-141.17 357.34,-144.56 361.64,-150.08\"/>\n</g>\n<!-- 140233989275456 -->\n<g id=\"node5\" class=\"node\">\n<title>140233989275456</title>\n<polygon fill=\"lightgrey\" stroke=\"black\" points=\"232,-256.5 137,-256.5 137,-237.5 232,-237.5 232,-256.5\"/>\n<text text-anchor=\"middle\" x=\"184.5\" y=\"-244.5\" font-family=\"monospace\" font-size=\"10.00\">TanhBackward0</text>\n</g>\n<!-- 140233989275456&#45;&gt;140233989260096 -->\n<g id=\"edge3\" class=\"edge\">\n<title>140233989275456&#45;&gt;140233989260096</title>\n<path fill=\"none\" stroke=\"black\" d=\"M202.82,-237.49C223.91,-227.7 258.76,-211.52 283.08,-200.23\"/>\n<polygon fill=\"black\" stroke=\"black\" points=\"284.56,-203.4 292.16,-196.02 281.61,-197.05 284.56,-203.4\"/>\n</g>\n<!-- 140233989263312 -->\n<g id=\"node6\" class=\"node\">\n<title>140233989263312</title>\n<polygon fill=\"lightgrey\" stroke=\"black\" points=\"208,-322.5 119,-322.5 119,-303.5 208,-303.5 208,-322.5\"/>\n<text text-anchor=\"middle\" x=\"163.5\" y=\"-310.5\" font-family=\"monospace\" font-size=\"10.00\">AddBackward0</text>\n</g>\n<!-- 140233989263312&#45;&gt;140233989275456 -->\n<g id=\"edge4\" class=\"edge\">\n<title>140233989263312&#45;&gt;140233989275456</title>\n<path fill=\"none\" stroke=\"black\" d=\"M166.33,-303.37C169.41,-293.97 174.44,-278.67 178.42,-266.53\"/>\n<polygon fill=\"black\" stroke=\"black\" points=\"181.79,-267.5 181.58,-256.91 175.13,-265.32 181.79,-267.5\"/>\n</g>\n<!-- 140233989272192 -->\n<g id=\"node7\" class=\"node\">\n<title>140233989272192</title>\n<polygon fill=\"lightgrey\" stroke=\"black\" points=\"150,-383 67,-383 67,-364 150,-364 150,-383\"/>\n<text text-anchor=\"middle\" x=\"108.5\" y=\"-371\" font-family=\"monospace\" font-size=\"10.00\">MmBackward0</text>\n</g>\n<!-- 140233989272192&#45;&gt;140233989263312 -->\n<g id=\"edge5\" class=\"edge\">\n<title>140233989272192&#45;&gt;140233989263312</title>\n<path fill=\"none\" stroke=\"black\" d=\"M116.62,-363.87C124.9,-355.05 137.97,-341.16 148.2,-330.27\"/>\n<polygon fill=\"black\" stroke=\"black\" points=\"151.05,-332.35 155.35,-322.67 145.95,-327.56 151.05,-332.35\"/>\n</g>\n<!-- 140233989263072 -->\n<g id=\"node8\" class=\"node\">\n<title>140233989263072</title>\n<polygon fill=\"lightgrey\" stroke=\"black\" points=\"137,-443.5 36,-443.5 36,-424.5 137,-424.5 137,-443.5\"/>\n<text text-anchor=\"middle\" x=\"86.5\" y=\"-431.5\" font-family=\"monospace\" font-size=\"10.00\">AccumulateGrad</text>\n</g>\n<!-- 140233989263072&#45;&gt;140233989272192 -->\n<g id=\"edge6\" class=\"edge\">\n<title>140233989263072&#45;&gt;140233989272192</title>\n<path fill=\"none\" stroke=\"black\" d=\"M89.75,-424.37C92.87,-416.07 97.68,-403.28 101.65,-392.72\"/>\n<polygon fill=\"black\" stroke=\"black\" points=\"105,-393.76 105.24,-383.17 98.44,-391.3 105,-393.76\"/>\n</g>\n<!-- 140233688439344 -->\n<g id=\"node9\" class=\"node\">\n<title>140233688439344</title>\n<polygon fill=\"lightblue\" stroke=\"black\" points=\"173,-515 0,-515 0,-485 173,-485 173,-515\"/>\n<text text-anchor=\"middle\" x=\"86.5\" y=\"-503\" font-family=\"monospace\" font-size=\"10.00\">_encoder._h.torch_params.0</text>\n<text text-anchor=\"middle\" x=\"86.5\" y=\"-492\" font-family=\"monospace\" font-size=\"10.00\"> (3072, 500)</text>\n</g>\n<!-- 140233688439344&#45;&gt;140233989263072 -->\n<g id=\"edge7\" class=\"edge\">\n<title>140233688439344&#45;&gt;140233989263072</title>\n<path fill=\"none\" stroke=\"black\" d=\"M86.5,-484.8C86.5,-475.7 86.5,-463.79 86.5,-453.9\"/>\n<polygon fill=\"black\" stroke=\"black\" points=\"90,-453.84 86.5,-443.84 83,-453.84 90,-453.84\"/>\n</g>\n<!-- 140233989266528 -->\n<g id=\"node10\" class=\"node\">\n<title>140233989266528</title>\n<polygon fill=\"lightgrey\" stroke=\"black\" points=\"280,-383 179,-383 179,-364 280,-364 280,-383\"/>\n<text text-anchor=\"middle\" x=\"229.5\" y=\"-371\" font-family=\"monospace\" font-size=\"10.00\">AccumulateGrad</text>\n</g>\n<!-- 140233989266528&#45;&gt;140233989263312 -->\n<g id=\"edge8\" class=\"edge\">\n<title>140233989266528&#45;&gt;140233989263312</title>\n<path fill=\"none\" stroke=\"black\" d=\"M219.76,-363.87C209.53,-354.8 193.21,-340.34 180.78,-329.32\"/>\n<polygon fill=\"black\" stroke=\"black\" points=\"183.08,-326.68 173.28,-322.67 178.44,-331.92 183.08,-326.68\"/>\n</g>\n<!-- 140233675604912 -->\n<g id=\"node11\" class=\"node\">\n<title>140233675604912</title>\n<polygon fill=\"lightblue\" stroke=\"black\" points=\"328,-449 155,-449 155,-419 328,-419 328,-449\"/>\n<text text-anchor=\"middle\" x=\"241.5\" y=\"-437\" font-family=\"monospace\" font-size=\"10.00\">_encoder._h.torch_params.1</text>\n<text text-anchor=\"middle\" x=\"241.5\" y=\"-426\" font-family=\"monospace\" font-size=\"10.00\"> (500)</text>\n</g>\n<!-- 140233675604912&#45;&gt;140233989266528 -->\n<g id=\"edge9\" class=\"edge\">\n<title>140233675604912&#45;&gt;140233989266528</title>\n<path fill=\"none\" stroke=\"black\" d=\"M238.6,-418.84C237.01,-411.13 235.04,-401.49 233.33,-393.17\"/>\n<polygon fill=\"black\" stroke=\"black\" points=\"236.74,-392.36 231.3,-383.27 229.88,-393.77 236.74,-392.36\"/>\n</g>\n<!-- 140233989264128 -->\n<g id=\"node12\" class=\"node\">\n<title>140233989264128</title>\n<polygon fill=\"lightgrey\" stroke=\"black\" points=\"361,-256.5 260,-256.5 260,-237.5 361,-237.5 361,-256.5\"/>\n<text text-anchor=\"middle\" x=\"310.5\" y=\"-244.5\" font-family=\"monospace\" font-size=\"10.00\">AccumulateGrad</text>\n</g>\n<!-- 140233989264128&#45;&gt;140233989260096 -->\n<g id=\"edge10\" class=\"edge\">\n<title>140233989264128&#45;&gt;140233989260096</title>\n<path fill=\"none\" stroke=\"black\" d=\"M310.5,-237.37C310.5,-229.25 310.5,-216.81 310.5,-206.39\"/>\n<polygon fill=\"black\" stroke=\"black\" points=\"314,-206.17 310.5,-196.17 307,-206.17 314,-206.17\"/>\n</g>\n<!-- 140233675606160 -->\n<g id=\"node13\" class=\"node\">\n<title>140233675606160</title>\n<polygon fill=\"lightblue\" stroke=\"black\" points=\"417,-328 226,-328 226,-298 417,-298 417,-328\"/>\n<text text-anchor=\"middle\" x=\"321.5\" y=\"-316\" font-family=\"monospace\" font-size=\"10.00\">_encoder._mean.torch_params.0</text>\n<text text-anchor=\"middle\" x=\"321.5\" y=\"-305\" font-family=\"monospace\" font-size=\"10.00\"> (500, 500)</text>\n</g>\n<!-- 140233675606160&#45;&gt;140233989264128 -->\n<g id=\"edge11\" class=\"edge\">\n<title>140233675606160&#45;&gt;140233989264128</title>\n<path fill=\"none\" stroke=\"black\" d=\"M319.06,-297.8C317.5,-288.7 315.45,-276.79 313.75,-266.9\"/>\n<polygon fill=\"black\" stroke=\"black\" points=\"317.16,-266.11 312.02,-256.84 310.26,-267.29 317.16,-266.11\"/>\n</g>\n<!-- 140233989271136 -->\n<g id=\"node14\" class=\"node\">\n<title>140233989271136</title>\n<polygon fill=\"lightgrey\" stroke=\"black\" points=\"498,-196 397,-196 397,-177 498,-177 498,-196\"/>\n<text text-anchor=\"middle\" x=\"447.5\" y=\"-184\" font-family=\"monospace\" font-size=\"10.00\">AccumulateGrad</text>\n</g>\n<!-- 140233989271136&#45;&gt;140233989261344 -->\n<g id=\"edge12\" class=\"edge\">\n<title>140233989271136&#45;&gt;140233989261344</title>\n<path fill=\"none\" stroke=\"black\" d=\"M436.41,-176.98C426.01,-169 410.24,-156.88 397.78,-147.31\"/>\n<polygon fill=\"black\" stroke=\"black\" points=\"399.85,-144.49 389.79,-141.17 395.59,-150.04 399.85,-144.49\"/>\n</g>\n<!-- 140233675619408 -->\n<g id=\"node15\" class=\"node\">\n<title>140233675619408</title>\n<polygon fill=\"lightblue\" stroke=\"black\" points=\"570,-262 379,-262 379,-232 570,-232 570,-262\"/>\n<text text-anchor=\"middle\" x=\"474.5\" y=\"-250\" font-family=\"monospace\" font-size=\"10.00\">_encoder._mean.torch_params.1</text>\n<text text-anchor=\"middle\" x=\"474.5\" y=\"-239\" font-family=\"monospace\" font-size=\"10.00\"> (500)</text>\n</g>\n<!-- 140233675619408&#45;&gt;140233989271136 -->\n<g id=\"edge13\" class=\"edge\">\n<title>140233675619408&#45;&gt;140233989271136</title>\n<path fill=\"none\" stroke=\"black\" d=\"M467.96,-231.84C464.32,-223.95 459.76,-214.05 455.86,-205.61\"/>\n<polygon fill=\"black\" stroke=\"black\" points=\"458.91,-203.88 451.55,-196.27 452.56,-206.81 458.91,-203.88\"/>\n</g>\n</g>\n</svg>\n",
            "text/plain": [
              "<graphviz.graphs.Digraph at 0x7f8ab254e2d0>"
            ]
          },
          "metadata": {},
          "execution_count": 14
        }
      ]
    },
    {
      "cell_type": "code",
      "source": [
        "import time as time\n",
        "\n",
        "epochs = 100\n",
        "batch_size = 32\n",
        "\n",
        "from torch.utils.data.dataloader import DataLoader\n",
        "optimizer = keras.optimizers.Adam(1e-4)\n",
        "\n",
        "cifar10_train_loaded = DataLoader(cifar10_train, batch_size=batch_size, shuffle=True)\n",
        "\n",
        "cifar10_test_loaded = DataLoader(cifar10_test, batch_size=batch_size, shuffle=True)\n",
        "\n",
        "for epoch in range(1, epochs + 1):\n",
        "\n",
        "    start_time = time.time()\n",
        "\n",
        "    for train_x, label in cifar10_train_loaded:\n",
        "\n",
        "        compute_apply_gradients(model, train_x, optimizer)\n",
        "\n",
        "    end_time = time.time()\n",
        "\n",
        "    if epoch % 1 == 0:\n",
        "\n",
        "        loss = keras.metrics.Mean()\n",
        "\n",
        "        for test_x, label in cifar10_test_loaded:\n",
        "\n",
        "            loss(compute_loss(model, test_x))\n",
        "\n",
        "    elbo = -loss.result()\n",
        "\n",
        "    print('Epoch: {}, Test set ELBO: {}, '\n",
        "\n",
        "          'time elapse for current epoch {}'.format(epoch, elbo, end_time - start_time))"
      ],
      "metadata": {
        "colab": {
          "base_uri": "https://localhost:8080/",
          "height": 356
        },
        "id": "TOtPnrkiYf0c",
        "outputId": "3588ea3c-e24a-4b15-f49a-b4f481111df6"
      },
      "execution_count": null,
      "outputs": [
        {
          "output_type": "error",
          "ename": "RuntimeError",
          "evalue": "Can't call numpy() on Tensor that requires grad. Use tensor.detach().numpy() instead.",
          "traceback": [
            "\u001b[0;31m---------------------------------------------------------------------------\u001b[0m",
            "\u001b[0;31mRuntimeError\u001b[0m                              Traceback (most recent call last)",
            "\u001b[0;32m<ipython-input-227-bb5ae8c1b013>\u001b[0m in \u001b[0;36m<cell line: 13>\u001b[0;34m()\u001b[0m\n\u001b[1;32m     17\u001b[0m     \u001b[0;32mfor\u001b[0m \u001b[0mtrain_x\u001b[0m\u001b[0;34m,\u001b[0m \u001b[0mlabel\u001b[0m \u001b[0;32min\u001b[0m \u001b[0mcifar10_train_loaded\u001b[0m\u001b[0;34m:\u001b[0m\u001b[0;34m\u001b[0m\u001b[0;34m\u001b[0m\u001b[0m\n\u001b[1;32m     18\u001b[0m \u001b[0;34m\u001b[0m\u001b[0m\n\u001b[0;32m---> 19\u001b[0;31m         \u001b[0mcompute_apply_gradients\u001b[0m\u001b[0;34m(\u001b[0m\u001b[0mmodel\u001b[0m\u001b[0;34m,\u001b[0m \u001b[0mtrain_x\u001b[0m\u001b[0;34m,\u001b[0m \u001b[0moptimizer\u001b[0m\u001b[0;34m)\u001b[0m\u001b[0;34m\u001b[0m\u001b[0;34m\u001b[0m\u001b[0m\n\u001b[0m\u001b[1;32m     20\u001b[0m \u001b[0;34m\u001b[0m\u001b[0m\n\u001b[1;32m     21\u001b[0m     \u001b[0mend_time\u001b[0m \u001b[0;34m=\u001b[0m \u001b[0mtime\u001b[0m\u001b[0;34m.\u001b[0m\u001b[0mtime\u001b[0m\u001b[0;34m(\u001b[0m\u001b[0;34m)\u001b[0m\u001b[0;34m\u001b[0m\u001b[0;34m\u001b[0m\u001b[0m\n",
            "\u001b[0;32m<ipython-input-225-282d579d2373>\u001b[0m in \u001b[0;36mcompute_apply_gradients\u001b[0;34m(model, x, optimizer)\u001b[0m\n\u001b[1;32m    148\u001b[0m   \u001b[0mx\u001b[0m\u001b[0;34m=\u001b[0m\u001b[0mx\u001b[0m\u001b[0;34m.\u001b[0m\u001b[0mdetach\u001b[0m\u001b[0;34m(\u001b[0m\u001b[0;34m)\u001b[0m\u001b[0;34m\u001b[0m\u001b[0;34m\u001b[0m\u001b[0m\n\u001b[1;32m    149\u001b[0m   \u001b[0mx\u001b[0m\u001b[0;34m=\u001b[0m\u001b[0mx\u001b[0m\u001b[0;34m.\u001b[0m\u001b[0mview\u001b[0m\u001b[0;34m(\u001b[0m\u001b[0;34m-\u001b[0m\u001b[0;36m1\u001b[0m\u001b[0;34m,\u001b[0m\u001b[0;36m32\u001b[0m\u001b[0;34m*\u001b[0m\u001b[0;36m32\u001b[0m\u001b[0;34m*\u001b[0m\u001b[0;36m3\u001b[0m\u001b[0;34m)\u001b[0m\u001b[0;34m\u001b[0m\u001b[0;34m\u001b[0m\u001b[0m\n\u001b[0;32m--> 150\u001b[0;31m   \u001b[0mloss\u001b[0m \u001b[0;34m=\u001b[0m \u001b[0mcompute_loss\u001b[0m\u001b[0;34m(\u001b[0m\u001b[0mmodel\u001b[0m\u001b[0;34m,\u001b[0m \u001b[0mx\u001b[0m\u001b[0;34m)\u001b[0m\u001b[0;34m\u001b[0m\u001b[0;34m\u001b[0m\u001b[0m\n\u001b[0m\u001b[1;32m    151\u001b[0m   \u001b[0moptimizer\u001b[0m\u001b[0;34m.\u001b[0m\u001b[0mzero_grad\u001b[0m\u001b[0;34m(\u001b[0m\u001b[0;34m)\u001b[0m\u001b[0;34m\u001b[0m\u001b[0;34m\u001b[0m\u001b[0m\n\u001b[1;32m    152\u001b[0m   \u001b[0mloss\u001b[0m\u001b[0;34m.\u001b[0m\u001b[0mbackward\u001b[0m\u001b[0;34m(\u001b[0m\u001b[0;34m)\u001b[0m\u001b[0;34m\u001b[0m\u001b[0;34m\u001b[0m\u001b[0m\n",
            "\u001b[0;32m<ipython-input-225-282d579d2373>\u001b[0m in \u001b[0;36mcompute_loss\u001b[0;34m(model, x)\u001b[0m\n\u001b[1;32m    143\u001b[0m   \u001b[0mlogpz\u001b[0m \u001b[0;34m=\u001b[0m \u001b[0mlog_normal_pdf\u001b[0m\u001b[0;34m(\u001b[0m\u001b[0mz\u001b[0m\u001b[0;34m,\u001b[0m \u001b[0mtorch\u001b[0m\u001b[0;34m.\u001b[0m\u001b[0mtensor\u001b[0m\u001b[0;34m(\u001b[0m\u001b[0;34m[\u001b[0m\u001b[0;36m0.\u001b[0m\u001b[0;34m]\u001b[0m\u001b[0;34m)\u001b[0m\u001b[0;34m,\u001b[0m \u001b[0mtorch\u001b[0m\u001b[0;34m.\u001b[0m\u001b[0mtensor\u001b[0m\u001b[0;34m(\u001b[0m\u001b[0;34m[\u001b[0m\u001b[0;36m0.\u001b[0m\u001b[0;34m]\u001b[0m\u001b[0;34m)\u001b[0m\u001b[0;34m)\u001b[0m\u001b[0;34m\u001b[0m\u001b[0;34m\u001b[0m\u001b[0m\n\u001b[1;32m    144\u001b[0m \u001b[0;34m\u001b[0m\u001b[0m\n\u001b[0;32m--> 145\u001b[0;31m   \u001b[0;32mreturn\u001b[0m \u001b[0;34m-\u001b[0m\u001b[0mtorch\u001b[0m\u001b[0;34m.\u001b[0m\u001b[0msum\u001b[0m\u001b[0;34m(\u001b[0m\u001b[0mlogpx_z\u001b[0m \u001b[0;34m+\u001b[0m \u001b[0mlogpz\u001b[0m \u001b[0;34m-\u001b[0m \u001b[0mlogqz_x\u001b[0m\u001b[0;34m.\u001b[0m\u001b[0mdetach\u001b[0m\u001b[0;34m(\u001b[0m\u001b[0;34m)\u001b[0m\u001b[0;34m)\u001b[0m\u001b[0;34m\u001b[0m\u001b[0;34m\u001b[0m\u001b[0m\n\u001b[0m\u001b[1;32m    146\u001b[0m \u001b[0;34m\u001b[0m\u001b[0m\n\u001b[1;32m    147\u001b[0m \u001b[0;32mdef\u001b[0m \u001b[0mcompute_apply_gradients\u001b[0m\u001b[0;34m(\u001b[0m\u001b[0mmodel\u001b[0m\u001b[0;34m,\u001b[0m \u001b[0mx\u001b[0m\u001b[0;34m,\u001b[0m \u001b[0moptimizer\u001b[0m\u001b[0;34m)\u001b[0m\u001b[0;34m:\u001b[0m\u001b[0;34m\u001b[0m\u001b[0;34m\u001b[0m\u001b[0m\n",
            "\u001b[0;32m/usr/local/lib/python3.10/dist-packages/torch/_tensor.py\u001b[0m in \u001b[0;36m__array__\u001b[0;34m(self, dtype)\u001b[0m\n\u001b[1;32m   1060\u001b[0m             \u001b[0;32mreturn\u001b[0m \u001b[0mhandle_torch_function\u001b[0m\u001b[0;34m(\u001b[0m\u001b[0mTensor\u001b[0m\u001b[0;34m.\u001b[0m\u001b[0m__array__\u001b[0m\u001b[0;34m,\u001b[0m \u001b[0;34m(\u001b[0m\u001b[0mself\u001b[0m\u001b[0;34m,\u001b[0m\u001b[0;34m)\u001b[0m\u001b[0;34m,\u001b[0m \u001b[0mself\u001b[0m\u001b[0;34m,\u001b[0m \u001b[0mdtype\u001b[0m\u001b[0;34m=\u001b[0m\u001b[0mdtype\u001b[0m\u001b[0;34m)\u001b[0m\u001b[0;34m\u001b[0m\u001b[0;34m\u001b[0m\u001b[0m\n\u001b[1;32m   1061\u001b[0m         \u001b[0;32mif\u001b[0m \u001b[0mdtype\u001b[0m \u001b[0;32mis\u001b[0m \u001b[0;32mNone\u001b[0m\u001b[0;34m:\u001b[0m\u001b[0;34m\u001b[0m\u001b[0;34m\u001b[0m\u001b[0m\n\u001b[0;32m-> 1062\u001b[0;31m             \u001b[0;32mreturn\u001b[0m \u001b[0mself\u001b[0m\u001b[0;34m.\u001b[0m\u001b[0mnumpy\u001b[0m\u001b[0;34m(\u001b[0m\u001b[0;34m)\u001b[0m\u001b[0;34m\u001b[0m\u001b[0;34m\u001b[0m\u001b[0m\n\u001b[0m\u001b[1;32m   1063\u001b[0m         \u001b[0;32melse\u001b[0m\u001b[0;34m:\u001b[0m\u001b[0;34m\u001b[0m\u001b[0;34m\u001b[0m\u001b[0m\n\u001b[1;32m   1064\u001b[0m             \u001b[0;32mreturn\u001b[0m \u001b[0mself\u001b[0m\u001b[0;34m.\u001b[0m\u001b[0mnumpy\u001b[0m\u001b[0;34m(\u001b[0m\u001b[0;34m)\u001b[0m\u001b[0;34m.\u001b[0m\u001b[0mastype\u001b[0m\u001b[0;34m(\u001b[0m\u001b[0mdtype\u001b[0m\u001b[0;34m,\u001b[0m \u001b[0mcopy\u001b[0m\u001b[0;34m=\u001b[0m\u001b[0;32mFalse\u001b[0m\u001b[0;34m)\u001b[0m\u001b[0;34m\u001b[0m\u001b[0;34m\u001b[0m\u001b[0m\n",
            "\u001b[0;31mRuntimeError\u001b[0m: Can't call numpy() on Tensor that requires grad. Use tensor.detach().numpy() instead."
          ]
        }
      ]
    },
    {
      "cell_type": "code",
      "source": [],
      "metadata": {
        "id": "BtWGKxwxivO9"
      },
      "execution_count": null,
      "outputs": []
    }
  ]
}