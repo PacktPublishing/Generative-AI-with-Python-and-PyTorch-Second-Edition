{
 "cells": [
  {
   "cell_type": "markdown",
   "metadata": {
    "id": "h50uBQSn-Wro"
   },
   "source": [
    "# Instruction Tuning with Optimizations\n",
    "\n",
    "Instruction tuning is form of fine-tuning that enhances a model's ability to generalize across diverse tasks. This concept is particularly useful in making models more adaptable and efficient in understanding and executing new instructions, even those they haven't been explicitly trained on.\n",
    "\n",
    "## Ok, But What is Instruction Tuning?\n",
    "\n",
    "Instruction tuning differs from supervised fine-tuning (SFT) approach primarily in the nature of the training data. While both methods involve training on **input-output** pairs, instruction tuning adds a critical layer: **instructions**. This additional context helps the model understand the task it is being asked to perform, leading to improved generalization to unseen tasks. Also, as we will see in this notebook, one of the ways of doing instruction tuning helps us skip the trouble of designing task specific heads or loss functions!\n",
    "\n",
    "### Key Differences:\n",
    "- **Supervised Fine-Tuning**: Trains models using input examples and their corresponding outputs.\n",
    "- **Instruction Tuning**: Augments the input-output pairs with instructions, enhancing the model's ability to generalize to new tasks.\n",
    "\n",
    "### Example\n",
    "\n",
    "**Supervised Fine-Tuning**:\n",
    "- **Input**: \"Translate this sentence to French: 'The cat is on the mat.'\"\n",
    "- **Output**: \"Le chat est sur le tapis.\"\n",
    "\n",
    "**Instruction Tuning**:\n",
    "- **Instruction**: \"Translate the following sentence to French.\"\n",
    "- **Input**: \"The cat is on the mat.\"\n",
    "- **Output**: \"Le chat est sur le tapis.\"\n",
    "\n",
    "By incorporating instructions, the model gains a better understanding of the task, leading to more robust performance across a wider range of tasks.\n",
    "\n",
    "In this notebook, we will go deeper into the mechanics of instruction tuning and tune our own model.\n",
    "\n",
    "\n",
    "We covered a few optimization techniques such as **Quantization** and **LoRA** in the previous notebook, here we will leverage those techniques to perform instruction tuning of the latest Llama 3.1 (or Llama 2 if you do not have access yet) to **convert natual language text** to ``SQL``\n",
    "\n",
    "\n",
    "> Note: This notebook, even though optimized, does not work on colab for LLaMA 3.1 but LLaMA 2 and LLaMA 3.2 fits on colab T4\n",
    "\n",
    "> Built with Llama ❤"
   ]
  },
  {
   "cell_type": "markdown",
   "metadata": {},
   "source": [
    "<p style=\"background-color:#fff6e4; padding:15px; border-width:3px; border-color:#f5ecda; border-style:solid; border-radius:6px\"> ❗ <b>This Notebook requires GPU"
   ]
  },
  {
   "cell_type": "markdown",
   "metadata": {
    "id": "LQ7pNWwOomby"
   },
   "source": [
    "## Reparameterization PEFT\n",
    "\n",
    "Reparameterisation using **low-rank approximation (LoRA)** is one of the most effective and popular PEFT techniques out there. This technique smartly leverages matrix decomposition to bring in efficiencies. In a typical fine-tuning scenario, during back-propagation we update the whole weight matrix for the model (see figure (left)).\n",
    "\n",
    "<img src=\"./assets/ch_09_10.png\">\n",
    "\n",
    "\n",
    "As shown in figure(right), during the backward pass, we decompose the weight update matrix ($W_d$) into two lower rank matrices $W_a$ and $W_b$ of rank $r$. This helps in achieving 100 to 1000x reduction in weights to be updated."
   ]
  },
  {
   "cell_type": "markdown",
   "metadata": {
    "id": "SB8I-qn9-Wrr"
   },
   "source": [
    "## Environment Setup"
   ]
  },
  {
   "cell_type": "code",
   "execution_count": 1,
   "metadata": {
    "id": "68N60PQBDWrF"
   },
   "outputs": [],
   "source": [
    "!pip install -q accelerate peft bitsandbytes transformers trl tensorboardX"
   ]
  },
  {
   "cell_type": "code",
   "execution_count": 2,
   "metadata": {
    "colab": {
     "base_uri": "https://localhost:8080/"
    },
    "id": "zG5klZi57qKA",
    "outputId": "81681a19-b961-448e-ba1b-2f48839d5c3f"
   },
   "outputs": [
    {
     "name": "stdout",
     "output_type": "stream",
     "text": [
      "Requirement already satisfied: transformers in /usr/local/lib/python3.10/dist-packages (4.46.3)\n",
      "Requirement already satisfied: filelock in /usr/local/lib/python3.10/dist-packages (from transformers) (3.16.1)\n",
      "Requirement already satisfied: huggingface-hub<1.0,>=0.23.2 in /usr/local/lib/python3.10/dist-packages (from transformers) (0.26.2)\n",
      "Requirement already satisfied: numpy>=1.17 in /usr/local/lib/python3.10/dist-packages (from transformers) (1.26.4)\n",
      "Requirement already satisfied: packaging>=20.0 in /usr/local/lib/python3.10/dist-packages (from transformers) (24.2)\n",
      "Requirement already satisfied: pyyaml>=5.1 in /usr/local/lib/python3.10/dist-packages (from transformers) (6.0.2)\n",
      "Requirement already satisfied: regex!=2019.12.17 in /usr/local/lib/python3.10/dist-packages (from transformers) (2024.9.11)\n",
      "Requirement already satisfied: requests in /usr/local/lib/python3.10/dist-packages (from transformers) (2.32.3)\n",
      "Requirement already satisfied: tokenizers<0.21,>=0.20 in /usr/local/lib/python3.10/dist-packages (from transformers) (0.20.3)\n",
      "Requirement already satisfied: safetensors>=0.4.1 in /usr/local/lib/python3.10/dist-packages (from transformers) (0.4.5)\n",
      "Requirement already satisfied: tqdm>=4.27 in /usr/local/lib/python3.10/dist-packages (from transformers) (4.66.6)\n",
      "Requirement already satisfied: fsspec>=2023.5.0 in /usr/local/lib/python3.10/dist-packages (from huggingface-hub<1.0,>=0.23.2->transformers) (2024.9.0)\n",
      "Requirement already satisfied: typing-extensions>=3.7.4.3 in /usr/local/lib/python3.10/dist-packages (from huggingface-hub<1.0,>=0.23.2->transformers) (4.12.2)\n",
      "Requirement already satisfied: charset-normalizer<4,>=2 in /usr/local/lib/python3.10/dist-packages (from requests->transformers) (3.4.0)\n",
      "Requirement already satisfied: idna<4,>=2.5 in /usr/local/lib/python3.10/dist-packages (from requests->transformers) (3.10)\n",
      "Requirement already satisfied: urllib3<3,>=1.21.1 in /usr/local/lib/python3.10/dist-packages (from requests->transformers) (2.2.3)\n",
      "Requirement already satisfied: certifi>=2017.4.17 in /usr/local/lib/python3.10/dist-packages (from requests->transformers) (2024.8.30)\n"
     ]
    }
   ],
   "source": [
    "# We need this second time on colab as it doesn't pick the latest version\n",
    "!pip install --upgrade transformers"
   ]
  },
  {
   "cell_type": "markdown",
   "metadata": {
    "id": "rcnJc-iN-Wrs"
   },
   "source": [
    "## Import Packages"
   ]
  },
  {
   "cell_type": "code",
   "execution_count": 3,
   "metadata": {
    "id": "kPr25HTjOwBr"
   },
   "outputs": [],
   "source": [
    "import os\n",
    "import torch\n",
    "from datasets import load_dataset,Dataset\n",
    "from transformers import (\n",
    "    AutoModelForCausalLM,\n",
    "    AutoTokenizer,\n",
    "    BitsAndBytesConfig,\n",
    "    TrainingArguments,\n",
    "    pipeline,\n",
    "    logging,\n",
    ")\n",
    "from peft import LoraConfig, PeftModel,get_peft_model\n",
    "from trl import SFTTrainer"
   ]
  },
  {
   "cell_type": "code",
   "execution_count": 4,
   "metadata": {
    "id": "GrXYhPHqAi9Q"
   },
   "outputs": [],
   "source": [
    "!export HF_TOKEN=\"XXXXX\""
   ]
  },
  {
   "cell_type": "code",
   "execution_count": 5,
   "metadata": {
    "id": "yOsHdZMZ-Wrt"
   },
   "outputs": [],
   "source": [
    "# Ignore warnings\n",
    "logging.set_verbosity(logging.CRITICAL)"
   ]
  },
  {
   "cell_type": "code",
   "execution_count": 6,
   "metadata": {
    "colab": {
     "base_uri": "https://localhost:8080/",
     "height": 359,
     "referenced_widgets": [
      "d67b820422db4d6486d769889b5ca8ff",
      "7c2a50ac9ec94f6589f7a240935b83de",
      "e922276e4b434747bec68179f56d83f3",
      "f5899ab1e20b4fa8b9d8c15560b3d701",
      "ae265d2508e845eda606817bae163c29",
      "faaaf364c4884d7f876d418f603513ee",
      "d0745164440248109d0346dbfb49f2ce",
      "c5dffe1091274e0bafb7751d105f1f4b",
      "8b1c9d1ebdb24acebe46c732a70767f7",
      "c086d0d543da4f55993c043ea40760a6",
      "6bd4ff9d63d043bd9a5bec9ad3cbb00c",
      "1973fee2b214468ba4e57060d286a554",
      "f118c9ec59334781bfd621c2d9c38be9",
      "f8b3f1e685284b6f853475ac47f3b05f",
      "d4cd4450133846c6bfeb3a0c0351a82b",
      "c9d6212fd7134874afca4308708e4c30",
      "77313803a4994651813c746198575e00"
     ]
    },
    "id": "LHsjW_4M-Wrt",
    "outputId": "48a62aa8-393b-4f8d-a50b-3d48e4d33f0c"
   },
   "outputs": [
    {
     "data": {
      "application/vnd.jupyter.widget-view+json": {
       "model_id": "d67b820422db4d6486d769889b5ca8ff",
       "version_major": 2,
       "version_minor": 0
      },
      "text/plain": [
       "VBox(children=(HTML(value='<center> <img\\nsrc=https://huggingface.co/front/assets/huggingface_logo-noborder.sv…"
      ]
     },
     "metadata": {},
     "output_type": "display_data"
    }
   ],
   "source": [
    "from huggingface_hub import notebook_login\n",
    "\n",
    "notebook_login()"
   ]
  },
  {
   "cell_type": "markdown",
   "metadata": {
    "id": "7K-3_nya-Wru"
   },
   "source": [
    "## Notebook Configurations"
   ]
  },
  {
   "cell_type": "code",
   "execution_count": 7,
   "metadata": {
    "id": "SeIq1FrQ-Wru"
   },
   "outputs": [],
   "source": [
    "## LLAMA Versions\n",
    "LLAMA_2 = \"2-7b-chat\" # fits t4 on colab\n",
    "LLAMA_3_1 = \"3.1-8b-Instruct\" # better performing but needs a bigger GPU. Needs access request approved on HF-Hub\n",
    "LLAMA_3_2 = \"3.2-1B-Instruct\" # fits on t4 on colab\n",
    "base_model_version =  LLAMA_3_2 # set to LLAMA_2 or 3_2 if you want to try this notebook on colab"
   ]
  },
  {
   "cell_type": "markdown",
   "metadata": {
    "id": "wah6KGf7-Wru"
   },
   "source": [
    "### Model and Dataset Configs"
   ]
  },
  {
   "cell_type": "code",
   "execution_count": 8,
   "metadata": {
    "id": "sUn7yyDsOwA5"
   },
   "outputs": [],
   "source": [
    "# The base model from the Hugging Face hub\n",
    "if base_model_version == LLAMA_3_1:\n",
    "    base_model_name =  \"meta-llama/Meta-Llama-3.1-8B-Instruct\"\n",
    "elif base_model_version == LLAMA_3_2:\n",
    "    base_model_name = \"meta-llama/Llama-3.2-1B-Instruct\"\n",
    "elif base_model_version == LLAMA_2:\n",
    "    base_model_name = \"NousResearch/Llama-2-7b-chat-hf\"\n",
    "else:\n",
    "    print(f\"This notebook is not setup for Base Model ={base_model_version}\")\n",
    "    base_model_name = \"ERROR\"\n",
    "\n",
    "# Dataset\n",
    "dataset_name = \"wikisql\"\n",
    "\n",
    "# Name of the Instruction Tuned model\n",
    "output_dir = new_model = f\"llama-{base_model_version}-SQL-FT\""
   ]
  },
  {
   "cell_type": "markdown",
   "metadata": {
    "id": "4b33VqEH-Wrv"
   },
   "source": [
    "## Dataset Preparation"
   ]
  },
  {
   "cell_type": "code",
   "execution_count": 9,
   "metadata": {
    "colab": {
     "base_uri": "https://localhost:8080/"
    },
    "id": "XTkXsmX3Pp0y",
    "outputId": "3c587c26-68c0-4969-eea7-aae6e0a8e385"
   },
   "outputs": [
    {
     "name": "stderr",
     "output_type": "stream",
     "text": [
      "/usr/local/lib/python3.10/dist-packages/huggingface_hub/utils/_auth.py:94: UserWarning: \n",
      "The secret `HF_TOKEN` does not exist in your Colab secrets.\n",
      "To authenticate with the Hugging Face Hub, create a token in your settings tab (https://huggingface.co/settings/tokens), set it as secret in your Google Colab and restart your session.\n",
      "You will be able to reuse this secret in all of your notebooks.\n",
      "Please note that authentication is recommended but still optional to access public models or datasets.\n",
      "  warnings.warn(\n"
     ]
    }
   ],
   "source": [
    "# Load dataset (you can process it here)\n",
    "dataset = load_dataset(dataset_name, split=\"train\",trust_remote_code=True, cache_dir='/workspace')"
   ]
  },
  {
   "cell_type": "markdown",
   "metadata": {
    "id": "U-r0_MhV-Wrv"
   },
   "source": [
    "### What is LLaMA again?\n",
    "<img src=\"./assets/llama.png\">\n",
    "\n",
    "**[LLaMA (Large Language Model Meta AI)](https://ai.meta.com/blog/large-language-model-llama-meta-ai/)**, is a state-of-the-art foundational large language model designed to help researchers advance their work in this subfield of AI. Smaller, more performant models such as LLaMA enable others in the research community who don’t have access to large amounts of infrastructure to study these models, further democratizing access in this important, fast-changing field.\n",
    "Within this series, Meta has released several versions of different sizes. They have progressively improved in their performance while adjusting how the inputs and prompt formats work.\n",
    "\n",
    "This notebook works for two smaller sized LLaMAs, version 2-7B and 3.1-8B.\n",
    "\n",
    "### General Format for Instructions for LLaMA Models\n",
    "**LLaMA 2** :\n",
    "```\n",
    "[INST]<<SYS>>{system text}<</SYS>>\n",
    "{user text}[/INST]\n",
    "{assistant response}\n",
    "```\n",
    "\n",
    "**LLaMA 3.1/3.2**:\n",
    "```\n",
    "<|start_header_id|>system<|end_header_id|>\n",
    "{system text}\n",
    "<|eot_id|>\\n<|start_header_id|>user<|end_header_id|>\n",
    "{user text}<|eot_id|>\n",
    "<|start_header_id|>assistant<|end_header_id|>\n",
    "{assistant response}\n",
    "...\n",
    "```\n",
    "\n",
    "We will leverage these formats to prepare our **Instruction Dataset**."
   ]
  },
  {
   "cell_type": "code",
   "execution_count": 10,
   "metadata": {
    "id": "ukNcoF37-Wrv"
   },
   "outputs": [],
   "source": [
    "# [T2SQL]\n",
    "def fstr_llama_template(model_version,question,output=''):\n",
    "    template_3_2 = \"<|begin_of_text|><|start_header_id|>system<|end_header_id|>\\nConvert the following textual question into SQL.<|eot_id|>\\n<|start_header_id|>user<|end_header_id|>\\nquestion:{question}\\noutput:<|eot_id|>\\n<|start_header_id|>assistant<|end_header_id|>\"\n",
    "    template_3_2_output = \"{output}<|end_of_text|>\"\n",
    "    template_3_1 = \"<|start_header_id|>system<|end_header_id|>\\nConvert the following textual question into SQL.<|eot_id|>\\n<|start_header_id|>user<|end_header_id|>\\nquestion:{question}\\noutput:<|eot_id|>\\n<|start_header_id|>assistant<|end_header_id|>\"\n",
    "    template_3_1_output = \"{output}<|end_of_text|>\"\n",
    "    template_2_0 = \"[INST]<<SYS>>Convert the following textual question into SQL.<</SYS>>\\nquestion:{question}\\noutput:[/INST]\"\n",
    "    template_2_0_output = \"{output}</s>\"\n",
    "    if model_version == LLAMA_3_1:\n",
    "        if output !='':\n",
    "            return eval(f'f\"\"\"{template_3_1+template_3_1_output}\"\"\"')\n",
    "        else:\n",
    "            return eval(f'f\"\"\"{template_3_1}\"\"\"')\n",
    "    elif model_version == LLAMA_3_2:\n",
    "        if output !='':\n",
    "            return eval(f'f\"\"\"{template_3_2+template_3_2_output}\"\"\"')\n",
    "        else:\n",
    "            return eval(f'f\"\"\"{template_3_1}\"\"\"')\n",
    "    elif model_version == LLAMA_2:\n",
    "        if output !='':\n",
    "            return eval(f'f\"\"\"{template_2_0+template_2_0_output}\"\"\"')\n",
    "        else:\n",
    "            return eval(f'f\"\"\"{template_2_0}\"\"\"')\n",
    "    else:\n",
    "        print(f\"This notebook is not setup for Base Model ={template}\")\n",
    "        return \"ERROR\""
   ]
  },
  {
   "cell_type": "code",
   "execution_count": 11,
   "metadata": {
    "id": "X5jP_De4-Wrv"
   },
   "outputs": [],
   "source": [
    "instruction_formatted_dataset = []\n",
    "DATASET_SIZE = 10000 # 25000\n",
    "for row in dataset.select(range(DATASET_SIZE)):\n",
    "    instruction_formatted_dataset.append(\n",
    "        {'text':fstr_llama_template(base_model_version,row['question'],row['sql']['human_readable'])}\n",
    "    )"
   ]
  },
  {
   "cell_type": "code",
   "execution_count": 12,
   "metadata": {
    "id": "_QWV8CZY-Wrv"
   },
   "outputs": [],
   "source": [
    "# Transform List to Dataset Object\n",
    "instruct_datset = Dataset.from_list(instruction_formatted_dataset)"
   ]
  },
  {
   "cell_type": "code",
   "execution_count": 13,
   "metadata": {
    "colab": {
     "base_uri": "https://localhost:8080/"
    },
    "id": "IwkoL88H-Wrv",
    "outputId": "bac735b5-8113-4f5e-855d-bc4b3166228a"
   },
   "outputs": [
    {
     "name": "stdout",
     "output_type": "stream",
     "text": [
      "<|begin_of_text|><|start_header_id|>system<|end_header_id|>\n",
      "Convert the following textual question into SQL.<|eot_id|>\n",
      "<|start_header_id|>user<|end_header_id|>\n",
      "question:Tell me what the notes are for South Australia \n",
      "output:<|eot_id|>\n",
      "<|start_header_id|>assistant<|end_header_id|>SELECT Notes FROM table WHERE Current slogan = SOUTH AUSTRALIA<|end_of_text|>\n"
     ]
    }
   ],
   "source": [
    "# Get one sample data point\n",
    "print(instruct_datset[0]['text'])"
   ]
  },
  {
   "cell_type": "markdown",
   "metadata": {
    "id": "ce6Ccd_R-Wrv"
   },
   "source": [
    "## Configurations"
   ]
  },
  {
   "cell_type": "markdown",
   "metadata": {
    "id": "JyHpZ4OU-Wrv"
   },
   "source": [
    "### Quantization"
   ]
  },
  {
   "cell_type": "code",
   "execution_count": 14,
   "metadata": {
    "id": "loZQVelTPpvi"
   },
   "outputs": [],
   "source": [
    "bnb_config = BitsAndBytesConfig(\n",
    "    load_in_4bit=True, # 4-bit precision base model loading\n",
    "    bnb_4bit_quant_type=\"nf4\", #quantization type\n",
    "    bnb_4bit_compute_dtype=torch.bfloat16,\n",
    "    bnb_4bit_use_double_quant=True,\n",
    "    bnb_4bit_quant_storage=torch.bfloat16\n",
    ")"
   ]
  },
  {
   "cell_type": "markdown",
   "metadata": {
    "id": "-iJt1-oY-Wrv"
   },
   "source": [
    "### QLoRA"
   ]
  },
  {
   "cell_type": "code",
   "execution_count": 15,
   "metadata": {
    "id": "IIPQRoPROv7A"
   },
   "outputs": [],
   "source": [
    "# LoRA rank dimension\n",
    "lora_r = 64\n",
    "\n",
    "# Alpha-LoRA for scaling\n",
    "lora_alpha = 16\n",
    "\n",
    "# Dropout for LoRA\n",
    "lora_dropout = 0.1"
   ]
  },
  {
   "cell_type": "code",
   "execution_count": 16,
   "metadata": {
    "id": "Ae4UrCRUPyGC"
   },
   "outputs": [],
   "source": [
    "# Load LoRA configuration\n",
    "peft_config = LoraConfig(\n",
    "    lora_alpha=lora_alpha,\n",
    "    lora_dropout=lora_dropout,\n",
    "    r=lora_r,\n",
    "    bias=\"none\",\n",
    "    task_type=\"CAUSAL_LM\",\n",
    ")"
   ]
  },
  {
   "cell_type": "markdown",
   "metadata": {
    "id": "32MVQnCC-Wrw"
   },
   "source": [
    "### Fine-Tuning Configs"
   ]
  },
  {
   "cell_type": "code",
   "execution_count": 17,
   "metadata": {
    "id": "Bvn_obk7PkvG"
   },
   "outputs": [],
   "source": [
    "# Maximum sequence length to use\n",
    "max_seq_length = 1028\n",
    "\n",
    "# pack multiple examples in the same input sequence to increase efficiency\n",
    "packing = False\n",
    "\n",
    "# Load the entire model on the GPU 0\n",
    "device_map = {\"\": 0}"
   ]
  },
  {
   "cell_type": "markdown",
   "metadata": {
    "id": "VMLorp2E-Wrw"
   },
   "source": [
    "### Training Setup Configs"
   ]
  },
  {
   "cell_type": "code",
   "execution_count": 18,
   "metadata": {
    "id": "k92Ac3w5Ovz0"
   },
   "outputs": [],
   "source": [
    "# Number of training epochs\n",
    "num_train_epochs = 1\n",
    "\n",
    "fp16 = False\n",
    "bf16 = False # True for A100\n",
    "\n",
    "# Batch size per GPU for training\n",
    "per_device_train_batch_size = 4 # increase to 8 for A100\n",
    "\n",
    "# batch size per GPU for eval\n",
    "per_device_eval_batch_size = 4\n",
    "\n",
    "# update steps to accumulate the gradients\n",
    "gradient_accumulation_steps = 1\n",
    "\n",
    "gradient_checkpointing = True\n",
    "max_grad_norm = 0.3\n",
    "learning_rate = 2e-4\n",
    "weight_decay = 0.001\n",
    "\n",
    "# optimizer\n",
    "optim = \"paged_adamw_32bit\"\n",
    "\n",
    "# learning rate schedule\n",
    "lr_scheduler_type = \"cosine\"\n",
    "max_steps = -1 # setting this will override num_train_epochs, do not change\n",
    "warmup_ratio = 0.03\n",
    "\n",
    "# speeds up training considerably by grouping samples by length\n",
    "group_by_length = True\n",
    "save_steps = 0\n",
    "logging_steps = 25"
   ]
  },
  {
   "cell_type": "markdown",
   "metadata": {
    "id": "iB8pVFfl-Wrw"
   },
   "source": [
    "## Load base model"
   ]
  },
  {
   "cell_type": "code",
   "execution_count": 19,
   "metadata": {
    "id": "OWCW3Px2Pybi"
   },
   "outputs": [],
   "source": [
    "model = AutoModelForCausalLM.from_pretrained(\n",
    "    base_model_name,\n",
    "    quantization_config=bnb_config,\n",
    "    device_map=device_map,\n",
    "    cache_dir='/workspace'\n",
    ")\n",
    "\n",
    "model.config.use_cache = False\n",
    "model.config.pretraining_tp = 1"
   ]
  },
  {
   "cell_type": "code",
   "execution_count": 20,
   "metadata": {
    "id": "7byavucLiRA7"
   },
   "outputs": [],
   "source": [
    "peft_model = get_peft_model(model, peft_config)"
   ]
  },
  {
   "cell_type": "markdown",
   "metadata": {
    "id": "_hwtnEIxVibC"
   },
   "source": [
    "## Load LLaMA tokenizer"
   ]
  },
  {
   "cell_type": "code",
   "execution_count": 21,
   "metadata": {
    "id": "WoDYCueiPyZG"
   },
   "outputs": [],
   "source": [
    "tokenizer = AutoTokenizer.from_pretrained(base_model_name, trust_remote_code=True,)#cache_dir='/workspace')\n",
    "tokenizer.pad_token = tokenizer.eos_token\n",
    "tokenizer.padding_side = \"right\""
   ]
  },
  {
   "cell_type": "markdown",
   "metadata": {
    "id": "XuE0Kgq8-Wrw"
   },
   "source": [
    "## Set training parameters"
   ]
  },
  {
   "cell_type": "code",
   "execution_count": 22,
   "metadata": {
    "id": "9tnS6J-0QDbs"
   },
   "outputs": [],
   "source": [
    "training_arguments = TrainingArguments(\n",
    "    output_dir=output_dir,\n",
    "    num_train_epochs=num_train_epochs,\n",
    "    per_device_train_batch_size=per_device_train_batch_size,\n",
    "    gradient_accumulation_steps=gradient_accumulation_steps,\n",
    "    optim=optim,\n",
    "    save_steps=save_steps,\n",
    "    logging_steps=logging_steps,\n",
    "    learning_rate=learning_rate,\n",
    "    weight_decay=weight_decay,\n",
    "    fp16=fp16,\n",
    "    bf16=bf16,\n",
    "    max_grad_norm=max_grad_norm,\n",
    "    max_steps=max_steps,\n",
    "    warmup_ratio=warmup_ratio,\n",
    "    group_by_length=group_by_length,\n",
    "    lr_scheduler_type=lr_scheduler_type,\n",
    "    report_to=\"tensorboard\"\n",
    ")"
   ]
  },
  {
   "cell_type": "markdown",
   "metadata": {
    "id": "Tv-zYhKg-Wrw"
   },
   "source": [
    "## Set Supervised Fine-Tuning Parameters"
   ]
  },
  {
   "cell_type": "code",
   "execution_count": 23,
   "metadata": {
    "colab": {
     "base_uri": "https://localhost:8080/",
     "height": 212,
     "referenced_widgets": [
      "f6bc8d0013c149029f5a754216e2f702",
      "19a942f7ec1541bc98de8dd4bbeb52f0",
      "e364693e0ed9433b96a667a76e40b14b",
      "3183ceb32c424388b6210de891d7471e",
      "a5be5d62cc964414a79dc795f14c9e39",
      "eb3ab6f62d5e4228a05a7ec77af968ce",
      "b4c4fba5def4437d920be90d0d8917f2",
      "9037f88ab7cb47dc9020c6c2d4e11985",
      "33f94703478243198fc9369504d6a2e2",
      "b7289d983ed2468baab8dd81100323f4",
      "fe82b929b7e54803afd0c6b4d2784637"
     ]
    },
    "id": "XnuBX8obQDYT",
    "outputId": "52c549ec-34c9-4572-9666-68e928b631d2"
   },
   "outputs": [
    {
     "name": "stderr",
     "output_type": "stream",
     "text": [
      "/usr/local/lib/python3.10/dist-packages/huggingface_hub/utils/_deprecation.py:100: FutureWarning: Deprecated argument(s) used in '__init__': dataset_text_field, max_seq_length. Will not be supported from version '0.13.0'.\n",
      "\n",
      "Deprecated positional argument(s) used in SFTTrainer, please use the SFTConfig to set these arguments instead.\n",
      "  warnings.warn(message, FutureWarning)\n",
      "/usr/local/lib/python3.10/dist-packages/trl/trainer/sft_trainer.py:300: UserWarning: You passed a `max_seq_length` argument to the SFTTrainer, the value you passed will override the one in the `SFTConfig`.\n",
      "  warnings.warn(\n",
      "/usr/local/lib/python3.10/dist-packages/trl/trainer/sft_trainer.py:328: UserWarning: You passed a `dataset_text_field` argument to the SFTTrainer, the value you passed will override the one in the `SFTConfig`.\n",
      "  warnings.warn(\n"
     ]
    },
    {
     "data": {
      "application/vnd.jupyter.widget-view+json": {
       "model_id": "f6bc8d0013c149029f5a754216e2f702",
       "version_major": 2,
       "version_minor": 0
      },
      "text/plain": [
       "Map:   0%|          | 0/10000 [00:00<?, ? examples/s]"
      ]
     },
     "metadata": {},
     "output_type": "display_data"
    }
   ],
   "source": [
    "trainer = SFTTrainer(\n",
    "    model=peft_model,\n",
    "    train_dataset=instruct_datset,\n",
    "    peft_config=peft_config,\n",
    "    dataset_text_field=\"text\",\n",
    "    max_seq_length=max_seq_length,\n",
    "    tokenizer=tokenizer,\n",
    "    args=training_arguments,\n",
    "    packing=packing,\n",
    ")"
   ]
  },
  {
   "cell_type": "markdown",
   "metadata": {
    "id": "DLFfnPlw-Wrx"
   },
   "source": [
    "## Time to Fine Tune our T2SQL LLaMA"
   ]
  },
  {
   "cell_type": "code",
   "execution_count": 35,
   "metadata": {
    "colab": {
     "base_uri": "https://localhost:8080/"
    },
    "id": "Z45a-sHJnxpS",
    "outputId": "ef30b039-bf67-41bf-d566-1cea163f30e8"
   },
   "outputs": [
    {
     "name": "stdout",
     "output_type": "stream",
     "text": [
      "trainable params: 6,815,744 || all params: 1,242,630,144 || trainable%: 0.5485\n"
     ]
    }
   ],
   "source": [
    "peft_model.print_trainable_parameters()"
   ]
  },
  {
   "cell_type": "code",
   "execution_count": 24,
   "metadata": {
    "colab": {
     "base_uri": "https://localhost:8080/"
    },
    "id": "A80dHFDXQDVH",
    "outputId": "cea11ef8-9e55-499b-e9a3-f22f5f9a658e",
    "scrolled": true
   },
   "outputs": [
    {
     "name": "stdout",
     "output_type": "stream",
     "text": [
      "{'loss': 6.7673, 'grad_norm': 2.2408459186553955, 'learning_rate': 6.666666666666667e-05, 'epoch': 0.01}\n",
      "{'loss': 4.9586, 'grad_norm': 2.2837648391723633, 'learning_rate': 0.00013333333333333334, 'epoch': 0.02}\n",
      "{'loss': 2.388, 'grad_norm': 1.3788025379180908, 'learning_rate': 0.0002, 'epoch': 0.03}\n",
      "{'loss': 1.6333, 'grad_norm': 2.312619924545288, 'learning_rate': 0.00019994755690455152, 'epoch': 0.04}\n",
      "{'loss': 1.7815, 'grad_norm': 0.8946009874343872, 'learning_rate': 0.00019979028262377118, 'epoch': 0.05}\n",
      "{'loss': 1.5181, 'grad_norm': 2.6007065773010254, 'learning_rate': 0.0001995283421166614, 'epoch': 0.06}\n",
      "{'loss': 1.6914, 'grad_norm': 0.7675842642784119, 'learning_rate': 0.00019916201012264254, 'epoch': 0.07}\n",
      "{'loss': 1.5442, 'grad_norm': 0.9116337299346924, 'learning_rate': 0.00019869167087338907, 'epoch': 0.08}\n",
      "{'loss': 1.6791, 'grad_norm': 0.7572203278541565, 'learning_rate': 0.0001981178176898239, 'epoch': 0.09}\n",
      "{'loss': 1.4956, 'grad_norm': 1.8003392219543457, 'learning_rate': 0.00019744105246469263, 'epoch': 0.1}\n",
      "{'loss': 1.7025, 'grad_norm': 1.6543625593185425, 'learning_rate': 0.00019666208503126112, 'epoch': 0.11}\n",
      "{'loss': 1.4281, 'grad_norm': 1.4376543760299683, 'learning_rate': 0.00019578173241879872, 'epoch': 0.12}\n",
      "{'loss': 1.614, 'grad_norm': 0.8416841626167297, 'learning_rate': 0.00019480091799562704, 'epoch': 0.13}\n",
      "{'loss': 1.4824, 'grad_norm': 1.0374693870544434, 'learning_rate': 0.00019372067050063438, 'epoch': 0.14}\n",
      "{'loss': 1.6729, 'grad_norm': 0.865097165107727, 'learning_rate': 0.00019254212296427044, 'epoch': 0.15}\n",
      "{'loss': 1.4651, 'grad_norm': 0.7821606993675232, 'learning_rate': 0.00019126651152015403, 'epoch': 0.16}\n",
      "{'loss': 1.6398, 'grad_norm': 0.7195531725883484, 'learning_rate': 0.00018989517410853955, 'epoch': 0.17}\n",
      "{'loss': 1.3799, 'grad_norm': 0.7450782060623169, 'learning_rate': 0.00018842954907300236, 'epoch': 0.18}\n",
      "{'loss': 1.6288, 'grad_norm': 0.797541081905365, 'learning_rate': 0.00018687117365181512, 'epoch': 0.19}\n",
      "{'loss': 1.4224, 'grad_norm': 0.7256321907043457, 'learning_rate': 0.00018522168236559695, 'epoch': 0.2}\n",
      "{'loss': 1.6041, 'grad_norm': 0.6535947322845459, 'learning_rate': 0.00018348280530292713, 'epoch': 0.21}\n",
      "{'loss': 1.4057, 'grad_norm': 0.7104824185371399, 'learning_rate': 0.0001816563663057211, 'epoch': 0.22}\n",
      "{'loss': 1.5653, 'grad_norm': 0.6638756394386292, 'learning_rate': 0.00017974428105627208, 'epoch': 0.23}\n",
      "{'loss': 1.3568, 'grad_norm': 0.8683673739433289, 'learning_rate': 0.00017774855506796496, 'epoch': 0.24}\n",
      "{'loss': 1.6039, 'grad_norm': 0.726716160774231, 'learning_rate': 0.00017567128158176953, 'epoch': 0.25}\n",
      "{'loss': 1.4247, 'grad_norm': 0.6549551486968994, 'learning_rate': 0.00017351463937072004, 'epoch': 0.26}\n",
      "{'loss': 1.6179, 'grad_norm': 0.5943887233734131, 'learning_rate': 0.00017128089045468294, 'epoch': 0.27}\n",
      "{'loss': 1.4147, 'grad_norm': 0.7653582096099854, 'learning_rate': 0.00016897237772781044, 'epoch': 0.28}\n",
      "{'loss': 1.5837, 'grad_norm': 1.170003890991211, 'learning_rate': 0.00016659152250116812, 'epoch': 0.29}\n",
      "{'loss': 1.3752, 'grad_norm': 1.0827186107635498, 'learning_rate': 0.000164140821963114, 'epoch': 0.3}\n",
      "{'loss': 1.6027, 'grad_norm': 0.6540021300315857, 'learning_rate': 0.00016162284656009274, 'epoch': 0.31}\n",
      "{'loss': 1.3484, 'grad_norm': 0.6933131217956543, 'learning_rate': 0.00015904023730059228, 'epoch': 0.32}\n",
      "{'loss': 1.5965, 'grad_norm': 0.7744091153144836, 'learning_rate': 0.00015639570298509064, 'epoch': 0.33}\n",
      "{'loss': 1.365, 'grad_norm': 0.8909075856208801, 'learning_rate': 0.0001536920173648984, 'epoch': 0.34}\n",
      "{'loss': 1.5626, 'grad_norm': 0.6361255049705505, 'learning_rate': 0.00015093201623287631, 'epoch': 0.35}\n",
      "{'loss': 1.4122, 'grad_norm': 0.938622236251831, 'learning_rate': 0.00014811859444908052, 'epoch': 0.36}\n",
      "{'loss': 1.6235, 'grad_norm': 0.8942316174507141, 'learning_rate': 0.00014525470290445392, 'epoch': 0.37}\n",
      "{'loss': 1.3837, 'grad_norm': 0.5828047394752502, 'learning_rate': 0.00014234334542574906, 'epoch': 0.38}\n",
      "{'loss': 1.5058, 'grad_norm': 0.6243500113487244, 'learning_rate': 0.00013938757562492873, 'epoch': 0.39}\n",
      "{'loss': 1.3907, 'grad_norm': 0.6729939579963684, 'learning_rate': 0.00013639049369634876, 'epoch': 0.4}\n",
      "{'loss': 1.5412, 'grad_norm': 0.822894811630249, 'learning_rate': 0.00013335524316508208, 'epoch': 0.41}\n",
      "{'loss': 1.3722, 'grad_norm': 1.0745108127593994, 'learning_rate': 0.00013028500758979506, 'epoch': 0.42}\n",
      "{'loss': 1.6124, 'grad_norm': 0.6531875133514404, 'learning_rate': 0.0001271830072236343, 'epoch': 0.43}\n",
      "{'loss': 1.3902, 'grad_norm': 0.8211822509765625, 'learning_rate': 0.00012405249563662537, 'epoch': 0.44}\n",
      "{'loss': 1.5345, 'grad_norm': 0.6343228816986084, 'learning_rate': 0.00012089675630312754, 'epoch': 0.45}\n",
      "{'loss': 1.2971, 'grad_norm': 0.8924689888954163, 'learning_rate': 0.0001177190991579223, 'epoch': 0.46}\n",
      "{'loss': 1.5604, 'grad_norm': 0.6915106177330017, 'learning_rate': 0.00011452285712454904, 'epoch': 0.47}\n",
      "{'loss': 1.3363, 'grad_norm': 0.8613305687904358, 'learning_rate': 0.00011131138261952845, 'epoch': 0.48}\n",
      "{'loss': 1.5677, 'grad_norm': 0.7572435736656189, 'learning_rate': 0.00010808804403614043, 'epoch': 0.49}\n",
      "{'loss': 1.3569, 'grad_norm': 1.220890998840332, 'learning_rate': 0.00010485622221144484, 'epoch': 0.5}\n",
      "{'loss': 1.513, 'grad_norm': 0.6105191111564636, 'learning_rate': 0.00010161930688025017, 'epoch': 0.51}\n",
      "{'loss': 1.38, 'grad_norm': 0.9064282774925232, 'learning_rate': 9.838069311974986e-05, 'epoch': 0.52}\n",
      "{'loss': 1.5395, 'grad_norm': 0.6779001951217651, 'learning_rate': 9.514377778855521e-05, 'epoch': 0.53}\n",
      "{'loss': 1.3288, 'grad_norm': 0.8818621039390564, 'learning_rate': 9.19119559638596e-05, 'epoch': 0.54}\n",
      "{'loss': 1.5485, 'grad_norm': 0.7487679719924927, 'learning_rate': 8.868861738047158e-05, 'epoch': 0.55}\n",
      "{'loss': 1.3632, 'grad_norm': 0.7701248526573181, 'learning_rate': 8.5477142875451e-05, 'epoch': 0.56}\n",
      "{'loss': 1.5208, 'grad_norm': 0.7233859300613403, 'learning_rate': 8.228090084207774e-05, 'epoch': 0.57}\n",
      "{'loss': 1.3646, 'grad_norm': 0.673614501953125, 'learning_rate': 7.91032436968725e-05, 'epoch': 0.58}\n",
      "{'loss': 1.5481, 'grad_norm': 0.7818691730499268, 'learning_rate': 7.594750436337467e-05, 'epoch': 0.59}\n",
      "{'loss': 1.3208, 'grad_norm': 0.9372119903564453, 'learning_rate': 7.281699277636572e-05, 'epoch': 0.6}\n",
      "{'loss': 1.5444, 'grad_norm': 0.5877862572669983, 'learning_rate': 6.971499241020495e-05, 'epoch': 0.61}\n",
      "{'loss': 1.3609, 'grad_norm': 0.8436101675033569, 'learning_rate': 6.664475683491796e-05, 'epoch': 0.62}\n",
      "{'loss': 1.5336, 'grad_norm': 0.5839248895645142, 'learning_rate': 6.360950630365126e-05, 'epoch': 0.63}\n",
      "{'loss': 1.3457, 'grad_norm': 1.3296771049499512, 'learning_rate': 6.061242437507131e-05, 'epoch': 0.64}\n",
      "{'loss': 1.5029, 'grad_norm': 0.5793294310569763, 'learning_rate': 5.765665457425102e-05, 'epoch': 0.65}\n",
      "{'loss': 1.366, 'grad_norm': 0.6852052807807922, 'learning_rate': 5.474529709554612e-05, 'epoch': 0.66}\n",
      "{'loss': 1.5243, 'grad_norm': 0.6002998352050781, 'learning_rate': 5.1881405550919493e-05, 'epoch': 0.67}\n",
      "{'loss': 1.3916, 'grad_norm': 0.8390287756919861, 'learning_rate': 4.9067983767123736e-05, 'epoch': 0.68}\n",
      "{'loss': 1.5539, 'grad_norm': 0.7001492381095886, 'learning_rate': 4.630798263510162e-05, 'epoch': 0.69}\n",
      "{'loss': 1.3722, 'grad_norm': 0.7748721241950989, 'learning_rate': 4.360429701490934e-05, 'epoch': 0.7}\n",
      "{'loss': 1.4918, 'grad_norm': 0.6518677473068237, 'learning_rate': 4.0959762699407766e-05, 'epoch': 0.71}\n",
      "{'loss': 1.3823, 'grad_norm': 1.0175259113311768, 'learning_rate': 3.8377153439907266e-05, 'epoch': 0.72}\n",
      "{'loss': 1.5056, 'grad_norm': 0.764383852481842, 'learning_rate': 3.585917803688603e-05, 'epoch': 0.73}\n",
      "{'loss': 1.3954, 'grad_norm': 0.7432364821434021, 'learning_rate': 3.340847749883191e-05, 'epoch': 0.74}\n",
      "{'loss': 1.5106, 'grad_norm': 0.6892422437667847, 'learning_rate': 3.102762227218957e-05, 'epoch': 0.75}\n",
      "{'loss': 1.3114, 'grad_norm': 0.873710036277771, 'learning_rate': 2.8719109545317103e-05, 'epoch': 0.76}\n",
      "{'loss': 1.5266, 'grad_norm': 0.8494868278503418, 'learning_rate': 2.6485360629279987e-05, 'epoch': 0.77}\n",
      "{'loss': 1.3342, 'grad_norm': 0.8269844651222229, 'learning_rate': 2.432871841823047e-05, 'epoch': 0.78}\n",
      "{'loss': 1.5328, 'grad_norm': 0.6904065608978271, 'learning_rate': 2.2251444932035094e-05, 'epoch': 0.79}\n",
      "{'loss': 1.3565, 'grad_norm': 0.6396586298942566, 'learning_rate': 2.025571894372794e-05, 'epoch': 0.8}\n",
      "{'loss': 1.4759, 'grad_norm': 0.5786688923835754, 'learning_rate': 1.8343633694278895e-05, 'epoch': 0.81}\n",
      "{'loss': 1.2933, 'grad_norm': 0.8082332015037537, 'learning_rate': 1.65171946970729e-05, 'epoch': 0.82}\n",
      "{'loss': 1.4782, 'grad_norm': 0.8255074620246887, 'learning_rate': 1.4778317634403083e-05, 'epoch': 0.83}\n",
      "{'loss': 1.3625, 'grad_norm': 0.9503034949302673, 'learning_rate': 1.3128826348184887e-05, 'epoch': 0.84}\n",
      "{'loss': 1.4819, 'grad_norm': 0.8977238535881042, 'learning_rate': 1.1570450926997655e-05, 'epoch': 0.85}\n",
      "{'loss': 1.3616, 'grad_norm': 1.0791451930999756, 'learning_rate': 1.010482589146048e-05, 'epoch': 0.86}\n",
      "{'loss': 1.4793, 'grad_norm': 0.7593392133712769, 'learning_rate': 8.733488479845997e-06, 'epoch': 0.87}\n",
      "{'loss': 1.304, 'grad_norm': 0.7022314071655273, 'learning_rate': 7.457877035729588e-06, 'epoch': 0.88}\n",
      "{'loss': 1.5443, 'grad_norm': 0.5981850028038025, 'learning_rate': 6.2793294993656494e-06, 'epoch': 0.89}\n",
      "{'loss': 1.3401, 'grad_norm': 0.7585839629173279, 'learning_rate': 5.199082004372957e-06, 'epoch': 0.9}\n",
      "{'loss': 1.499, 'grad_norm': 0.6600053310394287, 'learning_rate': 4.2182675812012965e-06, 'epoch': 0.91}\n",
      "{'loss': 1.34, 'grad_norm': 0.7350848913192749, 'learning_rate': 3.3379149687388867e-06, 'epoch': 0.92}\n",
      "{'loss': 1.5314, 'grad_norm': 0.7840119004249573, 'learning_rate': 2.5589475353073988e-06, 'epoch': 0.93}\n",
      "{'loss': 1.3606, 'grad_norm': 0.8694770336151123, 'learning_rate': 1.882182310176095e-06, 'epoch': 0.94}\n",
      "{'loss': 1.4869, 'grad_norm': 0.8643401265144348, 'learning_rate': 1.30832912661093e-06, 'epoch': 0.95}\n",
      "{'loss': 1.3598, 'grad_norm': 0.76105135679245, 'learning_rate': 8.379898773574924e-07, 'epoch': 0.96}\n",
      "{'loss': 1.4956, 'grad_norm': 0.7699583172798157, 'learning_rate': 4.7165788333860536e-07, 'epoch': 0.97}\n",
      "{'loss': 1.3501, 'grad_norm': 1.4808474779129028, 'learning_rate': 2.0971737622883515e-07, 'epoch': 0.98}\n",
      "{'loss': 1.4929, 'grad_norm': 0.586491048336029, 'learning_rate': 5.2443095448506674e-08, 'epoch': 0.99}\n",
      "{'loss': 1.3801, 'grad_norm': 0.6801766157150269, 'learning_rate': 0.0, 'epoch': 1.0}\n",
      "{'train_runtime': 1489.257, 'train_samples_per_second': 6.715, 'train_steps_per_second': 1.679, 'train_loss': 1.5689229858398437, 'epoch': 1.0}\n"
     ]
    },
    {
     "data": {
      "text/plain": [
       "TrainOutput(global_step=2500, training_loss=1.5689229858398437, metrics={'train_runtime': 1489.257, 'train_samples_per_second': 6.715, 'train_steps_per_second': 1.679, 'train_loss': 1.5689229858398437, 'epoch': 1.0})"
      ]
     },
     "execution_count": 24,
     "metadata": {},
     "output_type": "execute_result"
    }
   ],
   "source": [
    "# 5k samples take about 10mins on T4(colab) on avg\n",
    "# 10k samples take about 20mins on T4(colab) on avg\n",
    "trainer.train()"
   ]
  },
  {
   "cell_type": "markdown",
   "metadata": {
    "id": "yPemv52P-Wrx"
   },
   "source": [
    "## Save T2SQL Model"
   ]
  },
  {
   "cell_type": "code",
   "execution_count": 25,
   "metadata": {
    "editable": true,
    "id": "h-986VjLQJ9L",
    "tags": []
   },
   "outputs": [],
   "source": [
    "trainer.model.save_pretrained(new_model)"
   ]
  },
  {
   "cell_type": "code",
   "execution_count": 39,
   "metadata": {
    "colab": {
     "base_uri": "https://localhost:8080/",
     "height": 298,
     "referenced_widgets": [
      "d81d285faa8e476c87d5971a12ebc593",
      "98096c6f4678487aa65990e0a29fe98a",
      "e18256ff79f74653a14383af52729511",
      "756f132d44374238aa875cc1a02a8ecf",
      "a70ce8b0c1704289b900c4b8755665c2",
      "da400bccfbc5481797f9b2888bb3f965",
      "c6d425bb67ac440eae8d9e65f8cea11e",
      "f3f167d27531470c8a8d1e31cf8c7faf",
      "d17b3c2d1026461184545d1efaa5df9e",
      "2aee87bf6e644805b725fac1b9edd901",
      "62e7e863f77f4e96b649d5ce0b6049a9",
      "fe92a018cb214530bf2de3668f17ef7d",
      "1a7ac37b42d24e969c4ce7f9896f4b30",
      "f58e5b1059ab473c80234c46c9fa8b8c",
      "bbdbfb8f30674f98b45812935000b4db",
      "8e739179d11946e6beb79b96c6d5e199",
      "9a28a5141f744711b55e670996244c63",
      "e556d969a90a4c87928bcf547daf428f",
      "2e85e1fdd6b94e65b0f901abdbfbafd6",
      "247fc1dac02946289870fbacb8acdbc6",
      "9792c96310da4559ba85f82c7b817996",
      "5a52822f06c2486fab5ffb1390e13d31",
      "81ba67e9d1324992a247b232e4313411",
      "490e0482a1174b8987bcd6d9812c18be",
      "f81ebdc9739a41d9a40183fb6c60ad68",
      "708a6c0b493b48ada3f52fa08942248c",
      "a9cbf804b5ff448c83130ef51f2054d4",
      "1daa34b20a354e7aa845f8ce86c4a086",
      "78d54d859244469b9c070be717140982",
      "c55bb54e2fad4100bcc0e096999f2390",
      "9acae49762ec48f7b116739acdf00c12",
      "4678f84dff3247fc9361fdce4eea89ea",
      "29c72cc389134f8a992588232bec5ec0",
      "fc8bb29036764ef5a4effb72d6ea53cc",
      "b2a6222958034c69ae6990c4fd414a8d",
      "491fc603699c43d983a0557dd948da0c",
      "504671a2fcf44e6f92a552724425c0c2",
      "dabe270638244db7b90a65edc8c637e6",
      "1f311c0ead964f578669aadcb8a35266",
      "5af6fd48cd4f45db89e4332d41c6f039",
      "1f00dae33bc54d29b6f73c52c25f3eb5",
      "bfeaab8603244feeb3265ed4ab9addb2",
      "bbff7e439b324bedbaa430f7b301446c",
      "df99719886e1411490c786877a4549d3",
      "24933a7465924191b2ff6e312e5f9053",
      "96d4f06e16ab40bfa803a1418084d070",
      "8e313616df2f40e888c9a33477925f84",
      "60ce000ad0d94146901ebde4dd753513",
      "e2a4dcdb122b4cab96f5b0e054e1a5b2",
      "c0ca3b3e277f40afad3f1447b70a826f",
      "3cc81773eca24ec48f98230738226a46",
      "b53425a19acb422b8f4c7be80397cfca",
      "0ac8cc9b21754fdb91acd5ad632d7872",
      "71abbaeeb9a44d00a862014e7a91caeb",
      "f966cbbbb529487c99d95cb2cb287e8a",
      "8a856bfa9cba4dce8116cf81246ab5b2",
      "5bf03489ab114dc0bc36eb595d0eefb8",
      "a034386323874298a0a9d5987ea1eec0",
      "93fbf9efb4c743dc9c6d0e5fc0b1b74f",
      "c7adc188444b4cadaac60f7c0feb1ecf",
      "8fa195247a614158ae993b8d7f3c0fd3",
      "3c7e8bb7d7d1484696f88a888fb83200",
      "43d78abb37544f669c6debd460f63cb0",
      "1bc3b44a22da48fb841b9732467a7102",
      "74daabde41e24d8faac8e81f584d00c7",
      "590e3d72b23140dd86f6b0d6fba612fc"
     ]
    },
    "id": "5CRViy5ouWvy",
    "outputId": "a1f3de8e-0863-4f38-f912-ace29fa69162"
   },
   "outputs": [
    {
     "data": {
      "application/vnd.jupyter.widget-view+json": {
       "model_id": "d81d285faa8e476c87d5971a12ebc593",
       "version_major": 2,
       "version_minor": 0
      },
      "text/plain": [
       "adapter_model.safetensors:   0%|          | 0.00/27.3M [00:00<?, ?B/s]"
      ]
     },
     "metadata": {},
     "output_type": "display_data"
    },
    {
     "data": {
      "application/vnd.jupyter.widget-view+json": {
       "model_id": "fe92a018cb214530bf2de3668f17ef7d",
       "version_major": 2,
       "version_minor": 0
      },
      "text/plain": [
       "events.out.tfevents.1733076951.aeb284157181.370.0:   0%|          | 0.00/17.0k [00:00<?, ?B/s]"
      ]
     },
     "metadata": {},
     "output_type": "display_data"
    },
    {
     "data": {
      "application/vnd.jupyter.widget-view+json": {
       "model_id": "81ba67e9d1324992a247b232e4313411",
       "version_major": 2,
       "version_minor": 0
      },
      "text/plain": [
       "events.out.tfevents.1733079510.aeb284157181.14403.0:   0%|          | 0.00/6.57k [00:00<?, ?B/s]"
      ]
     },
     "metadata": {},
     "output_type": "display_data"
    },
    {
     "data": {
      "application/vnd.jupyter.widget-view+json": {
       "model_id": "fc8bb29036764ef5a4effb72d6ea53cc",
       "version_major": 2,
       "version_minor": 0
      },
      "text/plain": [
       "events.out.tfevents.1733079635.aeb284157181.15109.0:   0%|          | 0.00/27.6k [00:00<?, ?B/s]"
      ]
     },
     "metadata": {},
     "output_type": "display_data"
    },
    {
     "data": {
      "application/vnd.jupyter.widget-view+json": {
       "model_id": "24933a7465924191b2ff6e312e5f9053",
       "version_major": 2,
       "version_minor": 0
      },
      "text/plain": [
       "Upload 5 LFS files:   0%|          | 0/5 [00:00<?, ?it/s]"
      ]
     },
     "metadata": {},
     "output_type": "display_data"
    },
    {
     "data": {
      "application/vnd.jupyter.widget-view+json": {
       "model_id": "8a856bfa9cba4dce8116cf81246ab5b2",
       "version_major": 2,
       "version_minor": 0
      },
      "text/plain": [
       "training_args.bin:   0%|          | 0.00/5.56k [00:00<?, ?B/s]"
      ]
     },
     "metadata": {},
     "output_type": "display_data"
    },
    {
     "data": {
      "application/vnd.google.colaboratory.intrinsic+json": {
       "type": "string"
      },
      "text/plain": [
       "CommitInfo(commit_url='https://huggingface.co/raghavbali/llama-3.2-1B-Instruct-SQL-FT/commit/758a0b375baeaaba337e95982910df2d7b3f692a', commit_message='llama-3.2-1B-Instruct-SQL-FT', commit_description='', oid='758a0b375baeaaba337e95982910df2d7b3f692a', pr_url=None, repo_url=RepoUrl('https://huggingface.co/raghavbali/llama-3.2-1B-Instruct-SQL-FT', endpoint='https://huggingface.co', repo_type='model', repo_id='raghavbali/llama-3.2-1B-Instruct-SQL-FT'), pr_revision=None, pr_num=None)"
      ]
     },
     "execution_count": 39,
     "metadata": {},
     "output_type": "execute_result"
    }
   ],
   "source": [
    "trainer.push_to_hub(new_model)"
   ]
  },
  {
   "cell_type": "markdown",
   "metadata": {
    "id": "brU1oSNC-Wr1"
   },
   "source": [
    "## Let Us Convert Some Text to SQL"
   ]
  },
  {
   "cell_type": "code",
   "execution_count": null,
   "metadata": {
    "id": "183-upHe-Wr1"
   },
   "outputs": [],
   "source": [
    "questions = [\n",
    "    \"What is the description of a ch-47d chinook?\",\n",
    "    \"What is the current series where the new series began in June 2011\",\n",
    "    \"How many students are between the ages of 10 and 30\",\n",
    "    \"Use a ranking function and calculate rank of each student based on their score\"\n",
    "]"
   ]
  },
  {
   "cell_type": "code",
   "execution_count": 40,
   "metadata": {
    "colab": {
     "base_uri": "https://localhost:8080/",
     "height": 105,
     "referenced_widgets": [
      "57d9d04a24cf40dda415a987f7d011f6",
      "30186e5c1e254e0d8fa2bdf6f6ae0a75",
      "6c588d6524a745dbbdd5dc86edd722ac",
      "9283ae28b546470a8906834d2d67d02a",
      "b577bc613edf4abdb9309017e92d5abd",
      "992a274a25094913947dc4d91ca69fc7",
      "7efe7bee59004f4289af295550722ff2",
      "7b2d7433965c4ba9a868ae96110fa45e",
      "d59207cc4c2c4f92b593ff7b26094583",
      "8561e53bee5547aaa4fba27ce6c4e534",
      "4e6c8e0ff2d04e2fbb971795bada679a"
     ]
    },
    "id": "0wl6mUi_-Wr1",
    "outputId": "aad80dc4-3690-4158-fa64-c1e97c134b4f"
   },
   "outputs": [
    {
     "data": {
      "application/vnd.jupyter.widget-view+json": {
       "model_id": "57d9d04a24cf40dda415a987f7d011f6",
       "version_major": 2,
       "version_minor": 0
      },
      "text/plain": [
       "adapter_config.json:   0%|          | 0.00/657 [00:00<?, ?B/s]"
      ]
     },
     "metadata": {},
     "output_type": "display_data"
    },
    {
     "name": "stderr",
     "output_type": "stream",
     "text": [
      "/usr/local/lib/python3.10/dist-packages/transformers/models/auto/auto_factory.py:471: FutureWarning: The `use_auth_token` argument is deprecated and will be removed in v5 of Transformers. Please use `token` instead.\n",
      "  warnings.warn(\n"
     ]
    }
   ],
   "source": [
    "lora_config = LoraConfig.from_pretrained(f\"raghavbali/{new_model}\" )#,cache_dir='/workspace')\n",
    "hf_tokenizer = AutoTokenizer.from_pretrained(f\"raghavbali/{new_model}\")\n",
    "\n",
    "hf_ft_model = AutoModelForCausalLM.from_pretrained(\n",
    "    lora_config.base_model_name_or_path,\n",
    "    quantization_config=bnb_config,\n",
    "    use_auth_token=True,\n",
    "    device_map=device_map,)\n",
    "    # cache_dir='/workspace')"
   ]
  },
  {
   "cell_type": "code",
   "execution_count": 41,
   "metadata": {
    "id": "Nzj9rxliuGW7"
   },
   "outputs": [],
   "source": [
    "base_model = AutoModelForCausalLM.from_pretrained(\n",
    "    base_model_name,\n",
    "    quantization_config=bnb_config,\n",
    "    device_map=device_map,\n",
    "    use_auth_token=True,\n",
    "    # cache_dir='/workspace'\n",
    ")"
   ]
  },
  {
   "cell_type": "markdown",
   "metadata": {
    "id": "LTQrGyvXuZXX"
   },
   "source": [
    "### Apply LoRA Adaptors"
   ]
  },
  {
   "cell_type": "code",
   "execution_count": 42,
   "metadata": {
    "colab": {
     "base_uri": "https://localhost:8080/"
    },
    "id": "x3e1upni-Wr1",
    "outputId": "b986bc25-6907-41e1-faf3-2745b165786f"
   },
   "outputs": [
    {
     "name": "stdout",
     "output_type": "stream",
     "text": [
      "torch.float16\n",
      "1242630144\n"
     ]
    }
   ],
   "source": [
    "hf_ft_peft_model = get_peft_model(hf_ft_model, lora_config)\n",
    "print(hf_ft_peft_model.dtype)\n",
    "print(hf_ft_model.num_parameters())"
   ]
  },
  {
   "cell_type": "code",
   "execution_count": 43,
   "metadata": {
    "id": "SJJrPHTQ-Wr1"
   },
   "outputs": [],
   "source": [
    "from IPython.display import display, Markdown"
   ]
  },
  {
   "cell_type": "code",
   "execution_count": 44,
   "metadata": {
    "colab": {
     "base_uri": "https://localhost:8080/",
     "height": 1000
    },
    "id": "KyVz7X0g-Wr1",
    "outputId": "eb207c01-9d2b-4b58-ba4f-8ee2100fffa5"
   },
   "outputs": [
    {
     "name": "stdout",
     "output_type": "stream",
     "text": [
      "----INSTRUCT-TUNED-MODEL ----\n"
     ]
    },
    {
     "data": {
      "text/markdown": [
       "system\n",
       "Convert the following textual question into SQL.\n",
       "user\n",
       "question:What is the description of a ch-47d chinook?\n",
       "output:\n",
       "assistant\n",
       "\n",
       "Here is the SQL query that converts the textual question into a queryable answer:\n",
       "\n",
       "```sql\n",
       "SELECT description\n",
       "FROM ch-47d_chinook\n",
       "```\n",
       "\n",
       "This query will return the description of a Chinook helicopter, which is a variant of the CH-47D."
      ],
      "text/plain": [
       "<IPython.core.display.Markdown object>"
      ]
     },
     "metadata": {},
     "output_type": "display_data"
    },
    {
     "name": "stdout",
     "output_type": "stream",
     "text": [
      "---- NON-INSTRUCT-TUNED-MODEL ----\n"
     ]
    },
    {
     "data": {
      "text/markdown": [
       "system\n",
       "Convert the following textual question into SQL.\n",
       "user\n",
       "question:What is the description of a ch-47d chinook?\n",
       "output:\n",
       "assistant\n",
       "\n",
       "Here is the SQL equivalent of the textual question:\n",
       "\n",
       "```sql\n",
       "SELECT description\n",
       "FROM ch-47d_chinook;\n",
       "```\n",
       "\n",
       "This query will return the description of a CH-47D Chinook aircraft."
      ],
      "text/plain": [
       "<IPython.core.display.Markdown object>"
      ]
     },
     "metadata": {},
     "output_type": "display_data"
    },
    {
     "name": "stdout",
     "output_type": "stream",
     "text": [
      "---- END ----\n",
      "----INSTRUCT-TUNED-MODEL ----\n"
     ]
    },
    {
     "data": {
      "text/markdown": [
       "system\n",
       "Convert the following textual question into SQL.\n",
       "user\n",
       "question:What is the current series where the new series began in June 2011\n",
       "output:\n",
       "assistant\n",
       "\n",
       "Here is the SQL query to answer the question:\n",
       "\n",
       "```sql\n",
       "SELECT *\n",
       "FROM TVSeries\n",
       "WHERE title LIKE '%new series%' AND start_date LIKE '%June 2011%';\n",
       "```\n",
       "\n",
       "This query will return all TV series that have a new series and started in June 2011. \n",
       "\n",
       "Here's a breakdown of the query:\n",
       "\n",
       "- `SELECT *`: This selects all columns from the table.\n",
       "- `FROM TVSeries`: This specifies the table to query.\n",
       "- `WHERE title LIKE"
      ],
      "text/plain": [
       "<IPython.core.display.Markdown object>"
      ]
     },
     "metadata": {},
     "output_type": "display_data"
    },
    {
     "name": "stdout",
     "output_type": "stream",
     "text": [
      "---- NON-INSTRUCT-TUNED-MODEL ----\n"
     ]
    },
    {
     "data": {
      "text/markdown": [
       "system\n",
       "Convert the following textual question into SQL.\n",
       "user\n",
       "question:What is the current series where the new series began in June 2011\n",
       "output:\n",
       "assistant\n",
       "\n",
       "Here is the SQL query to find the current series where the new series began in June 2011:\n",
       "\n",
       "```sql\n",
       "SELECT title, series\n",
       "FROM series\n",
       "WHERE series = 'New Series' AND start_date LIKE 'June 2011%';\n",
       "```\n",
       "\n",
       "This query uses the `LIKE` operator to match the string 'June 2011%' to the start date of the series. The `%` wildcard is used to match any characters after 'June 2011' in the start date"
      ],
      "text/plain": [
       "<IPython.core.display.Markdown object>"
      ]
     },
     "metadata": {},
     "output_type": "display_data"
    },
    {
     "name": "stdout",
     "output_type": "stream",
     "text": [
      "---- END ----\n",
      "----INSTRUCT-TUNED-MODEL ----\n"
     ]
    },
    {
     "data": {
      "text/markdown": [
       "system\n",
       "Convert the following textual question into SQL.\n",
       "user\n",
       "question:How many students are between the ages of 10 and 30\n",
       "output:\n",
       "assistant\n",
       "\n",
       "Here is the SQL query to answer the question:\n",
       "\n",
       "```sql\n",
       "SELECT COUNT(*) \n",
       "FROM students \n",
       "WHERE age BETWEEN 10 AND 30;\n",
       "```\n",
       "\n",
       "This query will return the total number of students who are between the ages of 10 and 30."
      ],
      "text/plain": [
       "<IPython.core.display.Markdown object>"
      ]
     },
     "metadata": {},
     "output_type": "display_data"
    },
    {
     "name": "stdout",
     "output_type": "stream",
     "text": [
      "---- NON-INSTRUCT-TUNED-MODEL ----\n"
     ]
    },
    {
     "data": {
      "text/markdown": [
       "system\n",
       "Convert the following textual question into SQL.\n",
       "user\n",
       "question:How many students are between the ages of 10 and 30\n",
       "output:\n",
       "assistant\n",
       "\n",
       "Here is the SQL query to answer the question:\n",
       "\n",
       "```sql\n",
       "SELECT COUNT(*) \n",
       "FROM students \n",
       "WHERE age BETWEEN 10 AND 30;\n",
       "```\n",
       "\n",
       "This query will return the total number of students in the specified age range."
      ],
      "text/plain": [
       "<IPython.core.display.Markdown object>"
      ]
     },
     "metadata": {},
     "output_type": "display_data"
    },
    {
     "name": "stdout",
     "output_type": "stream",
     "text": [
      "---- END ----\n",
      "----INSTRUCT-TUNED-MODEL ----\n"
     ]
    },
    {
     "data": {
      "text/markdown": [
       "system\n",
       "Convert the following textual question into SQL.\n",
       "user\n",
       "question:Use a ranking function and calculate rank of each student based on their score\n",
       "output:\n",
       "assistant\n",
       "\n",
       "Here is the SQL query that uses a ranking function to calculate the rank of each student based on their score:\n",
       "\n",
       "```sql\n",
       "SELECT \n",
       "    student_id,\n",
       "    score,\n",
       "    RANK() OVER (ORDER BY score DESC) AS rank\n",
       "FROM \n",
       "    students\n",
       "```\n",
       "\n",
       "This query uses the `RANK()` window function, which assigns a rank to each row based on the values in the `score` column. The `OVER` clause specifies the window over which the ranking is performed."
      ],
      "text/plain": [
       "<IPython.core.display.Markdown object>"
      ]
     },
     "metadata": {},
     "output_type": "display_data"
    },
    {
     "name": "stdout",
     "output_type": "stream",
     "text": [
      "---- NON-INSTRUCT-TUNED-MODEL ----\n"
     ]
    },
    {
     "data": {
      "text/markdown": [
       "system\n",
       "Convert the following textual question into SQL.\n",
       "user\n",
       "question:Use a ranking function and calculate rank of each student based on their score\n",
       "output:\n",
       "assistant\n",
       "\n",
       "To solve this problem, we'll use SQL to rank students based on their scores. We'll assume that we have a table `Students` with columns `id`, `name`, and `score`. We'll also assume that we have another table `Scores` with columns `id`, `student_id`, and `score`.\n",
       "\n",
       "Here's the SQL code:\n",
       "\n",
       "```sql\n",
       "SELECT \n",
       "    S1.id AS StudentID1, \n",
       "    S1.name AS StudentName1, \n",
       "    S1"
      ],
      "text/plain": [
       "<IPython.core.display.Markdown object>"
      ]
     },
     "metadata": {},
     "output_type": "display_data"
    },
    {
     "name": "stdout",
     "output_type": "stream",
     "text": [
      "---- END ----\n"
     ]
    }
   ],
   "source": [
    "for question in questions:\n",
    "    prompt = fstr_llama_template(base_model_version,question)\n",
    "    inputs = tokenizer(prompt, return_tensors=\"pt\", return_token_type_ids=False).to(\"cuda:0\")\n",
    "    print(\"----INSTRUCT-TUNED-MODEL ----\")\n",
    "    outputs = hf_ft_peft_model.generate(**inputs,max_new_tokens=100, temperature=0.2)\n",
    "    display(Markdown((tokenizer.decode(outputs[0], skip_special_tokens=True))))\n",
    "    print(\"---- NON-INSTRUCT-TUNED-MODEL ----\")\n",
    "    outputs = base_model.generate(**inputs, max_new_tokens=100)\n",
    "    display(Markdown((tokenizer.decode(outputs[0], skip_special_tokens=True))))\n",
    "    print(\"---- END ----\")"
   ]
  },
  {
   "cell_type": "code",
   "execution_count": null,
   "metadata": {
    "id": "o2QyX0kJ-Wr2"
   },
   "outputs": [],
   "source": []
  }
 ],
 "metadata": {
  "accelerator": "GPU",
  "colab": {
   "gpuType": "T4",
   "provenance": []
  },
  "kernelspec": {
   "display_name": "Python 3 (ipykernel)",
   "language": "python",
   "name": "python3"
  },
  "language_info": {
   "codemirror_mode": {
    "name": "ipython",
    "version": 3
   },
   "file_extension": ".py",
   "mimetype": "text/x-python",
   "name": "python",
   "nbconvert_exporter": "python",
   "pygments_lexer": "ipython3",
   "version": "3.11.9"
  },
  "widgets": {
   "application/vnd.jupyter.widget-state+json": {
    "0ac8cc9b21754fdb91acd5ad632d7872": {
     "model_module": "@jupyter-widgets/controls",
     "model_module_version": "1.5.0",
     "model_name": "ProgressStyleModel",
     "state": {
      "_model_module": "@jupyter-widgets/controls",
      "_model_module_version": "1.5.0",
      "_model_name": "ProgressStyleModel",
      "_view_count": null,
      "_view_module": "@jupyter-widgets/base",
      "_view_module_version": "1.2.0",
      "_view_name": "StyleView",
      "bar_color": null,
      "description_width": ""
     }
    },
    "1973fee2b214468ba4e57060d286a554": {
     "model_module": "@jupyter-widgets/base",
     "model_module_version": "1.2.0",
     "model_name": "LayoutModel",
     "state": {
      "_model_module": "@jupyter-widgets/base",
      "_model_module_version": "1.2.0",
      "_model_name": "LayoutModel",
      "_view_count": null,
      "_view_module": "@jupyter-widgets/base",
      "_view_module_version": "1.2.0",
      "_view_name": "LayoutView",
      "align_content": null,
      "align_items": null,
      "align_self": null,
      "border": null,
      "bottom": null,
      "display": null,
      "flex": null,
      "flex_flow": null,
      "grid_area": null,
      "grid_auto_columns": null,
      "grid_auto_flow": null,
      "grid_auto_rows": null,
      "grid_column": null,
      "grid_gap": null,
      "grid_row": null,
      "grid_template_areas": null,
      "grid_template_columns": null,
      "grid_template_rows": null,
      "height": null,
      "justify_content": null,
      "justify_items": null,
      "left": null,
      "margin": null,
      "max_height": null,
      "max_width": null,
      "min_height": null,
      "min_width": null,
      "object_fit": null,
      "object_position": null,
      "order": null,
      "overflow": null,
      "overflow_x": null,
      "overflow_y": null,
      "padding": null,
      "right": null,
      "top": null,
      "visibility": null,
      "width": null
     }
    },
    "19a942f7ec1541bc98de8dd4bbeb52f0": {
     "model_module": "@jupyter-widgets/controls",
     "model_module_version": "1.5.0",
     "model_name": "HTMLModel",
     "state": {
      "_dom_classes": [],
      "_model_module": "@jupyter-widgets/controls",
      "_model_module_version": "1.5.0",
      "_model_name": "HTMLModel",
      "_view_count": null,
      "_view_module": "@jupyter-widgets/controls",
      "_view_module_version": "1.5.0",
      "_view_name": "HTMLView",
      "description": "",
      "description_tooltip": null,
      "layout": "IPY_MODEL_eb3ab6f62d5e4228a05a7ec77af968ce",
      "placeholder": "​",
      "style": "IPY_MODEL_b4c4fba5def4437d920be90d0d8917f2",
      "value": "Map: 100%"
     }
    },
    "1a7ac37b42d24e969c4ce7f9896f4b30": {
     "model_module": "@jupyter-widgets/controls",
     "model_module_version": "1.5.0",
     "model_name": "HTMLModel",
     "state": {
      "_dom_classes": [],
      "_model_module": "@jupyter-widgets/controls",
      "_model_module_version": "1.5.0",
      "_model_name": "HTMLModel",
      "_view_count": null,
      "_view_module": "@jupyter-widgets/controls",
      "_view_module_version": "1.5.0",
      "_view_name": "HTMLView",
      "description": "",
      "description_tooltip": null,
      "layout": "IPY_MODEL_9a28a5141f744711b55e670996244c63",
      "placeholder": "​",
      "style": "IPY_MODEL_e556d969a90a4c87928bcf547daf428f",
      "value": "events.out.tfevents.1733076951.aeb284157181.370.0: 100%"
     }
    },
    "1bc3b44a22da48fb841b9732467a7102": {
     "model_module": "@jupyter-widgets/controls",
     "model_module_version": "1.5.0",
     "model_name": "ProgressStyleModel",
     "state": {
      "_model_module": "@jupyter-widgets/controls",
      "_model_module_version": "1.5.0",
      "_model_name": "ProgressStyleModel",
      "_view_count": null,
      "_view_module": "@jupyter-widgets/base",
      "_view_module_version": "1.2.0",
      "_view_name": "StyleView",
      "bar_color": null,
      "description_width": ""
     }
    },
    "1daa34b20a354e7aa845f8ce86c4a086": {
     "model_module": "@jupyter-widgets/base",
     "model_module_version": "1.2.0",
     "model_name": "LayoutModel",
     "state": {
      "_model_module": "@jupyter-widgets/base",
      "_model_module_version": "1.2.0",
      "_model_name": "LayoutModel",
      "_view_count": null,
      "_view_module": "@jupyter-widgets/base",
      "_view_module_version": "1.2.0",
      "_view_name": "LayoutView",
      "align_content": null,
      "align_items": null,
      "align_self": null,
      "border": null,
      "bottom": null,
      "display": null,
      "flex": null,
      "flex_flow": null,
      "grid_area": null,
      "grid_auto_columns": null,
      "grid_auto_flow": null,
      "grid_auto_rows": null,
      "grid_column": null,
      "grid_gap": null,
      "grid_row": null,
      "grid_template_areas": null,
      "grid_template_columns": null,
      "grid_template_rows": null,
      "height": null,
      "justify_content": null,
      "justify_items": null,
      "left": null,
      "margin": null,
      "max_height": null,
      "max_width": null,
      "min_height": null,
      "min_width": null,
      "object_fit": null,
      "object_position": null,
      "order": null,
      "overflow": null,
      "overflow_x": null,
      "overflow_y": null,
      "padding": null,
      "right": null,
      "top": null,
      "visibility": null,
      "width": null
     }
    },
    "1f00dae33bc54d29b6f73c52c25f3eb5": {
     "model_module": "@jupyter-widgets/base",
     "model_module_version": "1.2.0",
     "model_name": "LayoutModel",
     "state": {
      "_model_module": "@jupyter-widgets/base",
      "_model_module_version": "1.2.0",
      "_model_name": "LayoutModel",
      "_view_count": null,
      "_view_module": "@jupyter-widgets/base",
      "_view_module_version": "1.2.0",
      "_view_name": "LayoutView",
      "align_content": null,
      "align_items": null,
      "align_self": null,
      "border": null,
      "bottom": null,
      "display": null,
      "flex": null,
      "flex_flow": null,
      "grid_area": null,
      "grid_auto_columns": null,
      "grid_auto_flow": null,
      "grid_auto_rows": null,
      "grid_column": null,
      "grid_gap": null,
      "grid_row": null,
      "grid_template_areas": null,
      "grid_template_columns": null,
      "grid_template_rows": null,
      "height": null,
      "justify_content": null,
      "justify_items": null,
      "left": null,
      "margin": null,
      "max_height": null,
      "max_width": null,
      "min_height": null,
      "min_width": null,
      "object_fit": null,
      "object_position": null,
      "order": null,
      "overflow": null,
      "overflow_x": null,
      "overflow_y": null,
      "padding": null,
      "right": null,
      "top": null,
      "visibility": null,
      "width": null
     }
    },
    "1f311c0ead964f578669aadcb8a35266": {
     "model_module": "@jupyter-widgets/base",
     "model_module_version": "1.2.0",
     "model_name": "LayoutModel",
     "state": {
      "_model_module": "@jupyter-widgets/base",
      "_model_module_version": "1.2.0",
      "_model_name": "LayoutModel",
      "_view_count": null,
      "_view_module": "@jupyter-widgets/base",
      "_view_module_version": "1.2.0",
      "_view_name": "LayoutView",
      "align_content": null,
      "align_items": null,
      "align_self": null,
      "border": null,
      "bottom": null,
      "display": null,
      "flex": null,
      "flex_flow": null,
      "grid_area": null,
      "grid_auto_columns": null,
      "grid_auto_flow": null,
      "grid_auto_rows": null,
      "grid_column": null,
      "grid_gap": null,
      "grid_row": null,
      "grid_template_areas": null,
      "grid_template_columns": null,
      "grid_template_rows": null,
      "height": null,
      "justify_content": null,
      "justify_items": null,
      "left": null,
      "margin": null,
      "max_height": null,
      "max_width": null,
      "min_height": null,
      "min_width": null,
      "object_fit": null,
      "object_position": null,
      "order": null,
      "overflow": null,
      "overflow_x": null,
      "overflow_y": null,
      "padding": null,
      "right": null,
      "top": null,
      "visibility": null,
      "width": null
     }
    },
    "247fc1dac02946289870fbacb8acdbc6": {
     "model_module": "@jupyter-widgets/controls",
     "model_module_version": "1.5.0",
     "model_name": "ProgressStyleModel",
     "state": {
      "_model_module": "@jupyter-widgets/controls",
      "_model_module_version": "1.5.0",
      "_model_name": "ProgressStyleModel",
      "_view_count": null,
      "_view_module": "@jupyter-widgets/base",
      "_view_module_version": "1.2.0",
      "_view_name": "StyleView",
      "bar_color": null,
      "description_width": ""
     }
    },
    "24933a7465924191b2ff6e312e5f9053": {
     "model_module": "@jupyter-widgets/controls",
     "model_module_version": "1.5.0",
     "model_name": "HBoxModel",
     "state": {
      "_dom_classes": [],
      "_model_module": "@jupyter-widgets/controls",
      "_model_module_version": "1.5.0",
      "_model_name": "HBoxModel",
      "_view_count": null,
      "_view_module": "@jupyter-widgets/controls",
      "_view_module_version": "1.5.0",
      "_view_name": "HBoxView",
      "box_style": "",
      "children": [
       "IPY_MODEL_96d4f06e16ab40bfa803a1418084d070",
       "IPY_MODEL_8e313616df2f40e888c9a33477925f84",
       "IPY_MODEL_60ce000ad0d94146901ebde4dd753513"
      ],
      "layout": "IPY_MODEL_e2a4dcdb122b4cab96f5b0e054e1a5b2"
     }
    },
    "29c72cc389134f8a992588232bec5ec0": {
     "model_module": "@jupyter-widgets/controls",
     "model_module_version": "1.5.0",
     "model_name": "DescriptionStyleModel",
     "state": {
      "_model_module": "@jupyter-widgets/controls",
      "_model_module_version": "1.5.0",
      "_model_name": "DescriptionStyleModel",
      "_view_count": null,
      "_view_module": "@jupyter-widgets/base",
      "_view_module_version": "1.2.0",
      "_view_name": "StyleView",
      "description_width": ""
     }
    },
    "2aee87bf6e644805b725fac1b9edd901": {
     "model_module": "@jupyter-widgets/base",
     "model_module_version": "1.2.0",
     "model_name": "LayoutModel",
     "state": {
      "_model_module": "@jupyter-widgets/base",
      "_model_module_version": "1.2.0",
      "_model_name": "LayoutModel",
      "_view_count": null,
      "_view_module": "@jupyter-widgets/base",
      "_view_module_version": "1.2.0",
      "_view_name": "LayoutView",
      "align_content": null,
      "align_items": null,
      "align_self": null,
      "border": null,
      "bottom": null,
      "display": null,
      "flex": null,
      "flex_flow": null,
      "grid_area": null,
      "grid_auto_columns": null,
      "grid_auto_flow": null,
      "grid_auto_rows": null,
      "grid_column": null,
      "grid_gap": null,
      "grid_row": null,
      "grid_template_areas": null,
      "grid_template_columns": null,
      "grid_template_rows": null,
      "height": null,
      "justify_content": null,
      "justify_items": null,
      "left": null,
      "margin": null,
      "max_height": null,
      "max_width": null,
      "min_height": null,
      "min_width": null,
      "object_fit": null,
      "object_position": null,
      "order": null,
      "overflow": null,
      "overflow_x": null,
      "overflow_y": null,
      "padding": null,
      "right": null,
      "top": null,
      "visibility": null,
      "width": null
     }
    },
    "2e85e1fdd6b94e65b0f901abdbfbafd6": {
     "model_module": "@jupyter-widgets/base",
     "model_module_version": "1.2.0",
     "model_name": "LayoutModel",
     "state": {
      "_model_module": "@jupyter-widgets/base",
      "_model_module_version": "1.2.0",
      "_model_name": "LayoutModel",
      "_view_count": null,
      "_view_module": "@jupyter-widgets/base",
      "_view_module_version": "1.2.0",
      "_view_name": "LayoutView",
      "align_content": null,
      "align_items": null,
      "align_self": null,
      "border": null,
      "bottom": null,
      "display": null,
      "flex": null,
      "flex_flow": null,
      "grid_area": null,
      "grid_auto_columns": null,
      "grid_auto_flow": null,
      "grid_auto_rows": null,
      "grid_column": null,
      "grid_gap": null,
      "grid_row": null,
      "grid_template_areas": null,
      "grid_template_columns": null,
      "grid_template_rows": null,
      "height": null,
      "justify_content": null,
      "justify_items": null,
      "left": null,
      "margin": null,
      "max_height": null,
      "max_width": null,
      "min_height": null,
      "min_width": null,
      "object_fit": null,
      "object_position": null,
      "order": null,
      "overflow": null,
      "overflow_x": null,
      "overflow_y": null,
      "padding": null,
      "right": null,
      "top": null,
      "visibility": null,
      "width": null
     }
    },
    "30186e5c1e254e0d8fa2bdf6f6ae0a75": {
     "model_module": "@jupyter-widgets/controls",
     "model_module_version": "1.5.0",
     "model_name": "HTMLModel",
     "state": {
      "_dom_classes": [],
      "_model_module": "@jupyter-widgets/controls",
      "_model_module_version": "1.5.0",
      "_model_name": "HTMLModel",
      "_view_count": null,
      "_view_module": "@jupyter-widgets/controls",
      "_view_module_version": "1.5.0",
      "_view_name": "HTMLView",
      "description": "",
      "description_tooltip": null,
      "layout": "IPY_MODEL_992a274a25094913947dc4d91ca69fc7",
      "placeholder": "​",
      "style": "IPY_MODEL_7efe7bee59004f4289af295550722ff2",
      "value": "adapter_config.json: 100%"
     }
    },
    "3183ceb32c424388b6210de891d7471e": {
     "model_module": "@jupyter-widgets/controls",
     "model_module_version": "1.5.0",
     "model_name": "HTMLModel",
     "state": {
      "_dom_classes": [],
      "_model_module": "@jupyter-widgets/controls",
      "_model_module_version": "1.5.0",
      "_model_name": "HTMLModel",
      "_view_count": null,
      "_view_module": "@jupyter-widgets/controls",
      "_view_module_version": "1.5.0",
      "_view_name": "HTMLView",
      "description": "",
      "description_tooltip": null,
      "layout": "IPY_MODEL_b7289d983ed2468baab8dd81100323f4",
      "placeholder": "​",
      "style": "IPY_MODEL_fe82b929b7e54803afd0c6b4d2784637",
      "value": " 10000/10000 [00:02&lt;00:00, 3720.39 examples/s]"
     }
    },
    "33f94703478243198fc9369504d6a2e2": {
     "model_module": "@jupyter-widgets/controls",
     "model_module_version": "1.5.0",
     "model_name": "ProgressStyleModel",
     "state": {
      "_model_module": "@jupyter-widgets/controls",
      "_model_module_version": "1.5.0",
      "_model_name": "ProgressStyleModel",
      "_view_count": null,
      "_view_module": "@jupyter-widgets/base",
      "_view_module_version": "1.2.0",
      "_view_name": "StyleView",
      "bar_color": null,
      "description_width": ""
     }
    },
    "3c7e8bb7d7d1484696f88a888fb83200": {
     "model_module": "@jupyter-widgets/controls",
     "model_module_version": "1.5.0",
     "model_name": "DescriptionStyleModel",
     "state": {
      "_model_module": "@jupyter-widgets/controls",
      "_model_module_version": "1.5.0",
      "_model_name": "DescriptionStyleModel",
      "_view_count": null,
      "_view_module": "@jupyter-widgets/base",
      "_view_module_version": "1.2.0",
      "_view_name": "StyleView",
      "description_width": ""
     }
    },
    "3cc81773eca24ec48f98230738226a46": {
     "model_module": "@jupyter-widgets/controls",
     "model_module_version": "1.5.0",
     "model_name": "DescriptionStyleModel",
     "state": {
      "_model_module": "@jupyter-widgets/controls",
      "_model_module_version": "1.5.0",
      "_model_name": "DescriptionStyleModel",
      "_view_count": null,
      "_view_module": "@jupyter-widgets/base",
      "_view_module_version": "1.2.0",
      "_view_name": "StyleView",
      "description_width": ""
     }
    },
    "43d78abb37544f669c6debd460f63cb0": {
     "model_module": "@jupyter-widgets/base",
     "model_module_version": "1.2.0",
     "model_name": "LayoutModel",
     "state": {
      "_model_module": "@jupyter-widgets/base",
      "_model_module_version": "1.2.0",
      "_model_name": "LayoutModel",
      "_view_count": null,
      "_view_module": "@jupyter-widgets/base",
      "_view_module_version": "1.2.0",
      "_view_name": "LayoutView",
      "align_content": null,
      "align_items": null,
      "align_self": null,
      "border": null,
      "bottom": null,
      "display": null,
      "flex": null,
      "flex_flow": null,
      "grid_area": null,
      "grid_auto_columns": null,
      "grid_auto_flow": null,
      "grid_auto_rows": null,
      "grid_column": null,
      "grid_gap": null,
      "grid_row": null,
      "grid_template_areas": null,
      "grid_template_columns": null,
      "grid_template_rows": null,
      "height": null,
      "justify_content": null,
      "justify_items": null,
      "left": null,
      "margin": null,
      "max_height": null,
      "max_width": null,
      "min_height": null,
      "min_width": null,
      "object_fit": null,
      "object_position": null,
      "order": null,
      "overflow": null,
      "overflow_x": null,
      "overflow_y": null,
      "padding": null,
      "right": null,
      "top": null,
      "visibility": null,
      "width": null
     }
    },
    "4678f84dff3247fc9361fdce4eea89ea": {
     "model_module": "@jupyter-widgets/base",
     "model_module_version": "1.2.0",
     "model_name": "LayoutModel",
     "state": {
      "_model_module": "@jupyter-widgets/base",
      "_model_module_version": "1.2.0",
      "_model_name": "LayoutModel",
      "_view_count": null,
      "_view_module": "@jupyter-widgets/base",
      "_view_module_version": "1.2.0",
      "_view_name": "LayoutView",
      "align_content": null,
      "align_items": null,
      "align_self": null,
      "border": null,
      "bottom": null,
      "display": null,
      "flex": null,
      "flex_flow": null,
      "grid_area": null,
      "grid_auto_columns": null,
      "grid_auto_flow": null,
      "grid_auto_rows": null,
      "grid_column": null,
      "grid_gap": null,
      "grid_row": null,
      "grid_template_areas": null,
      "grid_template_columns": null,
      "grid_template_rows": null,
      "height": null,
      "justify_content": null,
      "justify_items": null,
      "left": null,
      "margin": null,
      "max_height": null,
      "max_width": null,
      "min_height": null,
      "min_width": null,
      "object_fit": null,
      "object_position": null,
      "order": null,
      "overflow": null,
      "overflow_x": null,
      "overflow_y": null,
      "padding": null,
      "right": null,
      "top": null,
      "visibility": null,
      "width": null
     }
    },
    "490e0482a1174b8987bcd6d9812c18be": {
     "model_module": "@jupyter-widgets/controls",
     "model_module_version": "1.5.0",
     "model_name": "HTMLModel",
     "state": {
      "_dom_classes": [],
      "_model_module": "@jupyter-widgets/controls",
      "_model_module_version": "1.5.0",
      "_model_name": "HTMLModel",
      "_view_count": null,
      "_view_module": "@jupyter-widgets/controls",
      "_view_module_version": "1.5.0",
      "_view_name": "HTMLView",
      "description": "",
      "description_tooltip": null,
      "layout": "IPY_MODEL_1daa34b20a354e7aa845f8ce86c4a086",
      "placeholder": "​",
      "style": "IPY_MODEL_78d54d859244469b9c070be717140982",
      "value": "events.out.tfevents.1733079510.aeb284157181.14403.0: 100%"
     }
    },
    "491fc603699c43d983a0557dd948da0c": {
     "model_module": "@jupyter-widgets/controls",
     "model_module_version": "1.5.0",
     "model_name": "FloatProgressModel",
     "state": {
      "_dom_classes": [],
      "_model_module": "@jupyter-widgets/controls",
      "_model_module_version": "1.5.0",
      "_model_name": "FloatProgressModel",
      "_view_count": null,
      "_view_module": "@jupyter-widgets/controls",
      "_view_module_version": "1.5.0",
      "_view_name": "ProgressView",
      "bar_style": "success",
      "description": "",
      "description_tooltip": null,
      "layout": "IPY_MODEL_1f00dae33bc54d29b6f73c52c25f3eb5",
      "max": 27586,
      "min": 0,
      "orientation": "horizontal",
      "style": "IPY_MODEL_bfeaab8603244feeb3265ed4ab9addb2",
      "value": 27586
     }
    },
    "4e6c8e0ff2d04e2fbb971795bada679a": {
     "model_module": "@jupyter-widgets/controls",
     "model_module_version": "1.5.0",
     "model_name": "DescriptionStyleModel",
     "state": {
      "_model_module": "@jupyter-widgets/controls",
      "_model_module_version": "1.5.0",
      "_model_name": "DescriptionStyleModel",
      "_view_count": null,
      "_view_module": "@jupyter-widgets/base",
      "_view_module_version": "1.2.0",
      "_view_name": "StyleView",
      "description_width": ""
     }
    },
    "504671a2fcf44e6f92a552724425c0c2": {
     "model_module": "@jupyter-widgets/controls",
     "model_module_version": "1.5.0",
     "model_name": "HTMLModel",
     "state": {
      "_dom_classes": [],
      "_model_module": "@jupyter-widgets/controls",
      "_model_module_version": "1.5.0",
      "_model_name": "HTMLModel",
      "_view_count": null,
      "_view_module": "@jupyter-widgets/controls",
      "_view_module_version": "1.5.0",
      "_view_name": "HTMLView",
      "description": "",
      "description_tooltip": null,
      "layout": "IPY_MODEL_bbff7e439b324bedbaa430f7b301446c",
      "placeholder": "​",
      "style": "IPY_MODEL_df99719886e1411490c786877a4549d3",
      "value": " 27.6k/27.6k [00:00&lt;00:00, 121kB/s]"
     }
    },
    "57d9d04a24cf40dda415a987f7d011f6": {
     "model_module": "@jupyter-widgets/controls",
     "model_module_version": "1.5.0",
     "model_name": "HBoxModel",
     "state": {
      "_dom_classes": [],
      "_model_module": "@jupyter-widgets/controls",
      "_model_module_version": "1.5.0",
      "_model_name": "HBoxModel",
      "_view_count": null,
      "_view_module": "@jupyter-widgets/controls",
      "_view_module_version": "1.5.0",
      "_view_name": "HBoxView",
      "box_style": "",
      "children": [
       "IPY_MODEL_30186e5c1e254e0d8fa2bdf6f6ae0a75",
       "IPY_MODEL_6c588d6524a745dbbdd5dc86edd722ac",
       "IPY_MODEL_9283ae28b546470a8906834d2d67d02a"
      ],
      "layout": "IPY_MODEL_b577bc613edf4abdb9309017e92d5abd"
     }
    },
    "590e3d72b23140dd86f6b0d6fba612fc": {
     "model_module": "@jupyter-widgets/controls",
     "model_module_version": "1.5.0",
     "model_name": "DescriptionStyleModel",
     "state": {
      "_model_module": "@jupyter-widgets/controls",
      "_model_module_version": "1.5.0",
      "_model_name": "DescriptionStyleModel",
      "_view_count": null,
      "_view_module": "@jupyter-widgets/base",
      "_view_module_version": "1.2.0",
      "_view_name": "StyleView",
      "description_width": ""
     }
    },
    "5a52822f06c2486fab5ffb1390e13d31": {
     "model_module": "@jupyter-widgets/controls",
     "model_module_version": "1.5.0",
     "model_name": "DescriptionStyleModel",
     "state": {
      "_model_module": "@jupyter-widgets/controls",
      "_model_module_version": "1.5.0",
      "_model_name": "DescriptionStyleModel",
      "_view_count": null,
      "_view_module": "@jupyter-widgets/base",
      "_view_module_version": "1.2.0",
      "_view_name": "StyleView",
      "description_width": ""
     }
    },
    "5af6fd48cd4f45db89e4332d41c6f039": {
     "model_module": "@jupyter-widgets/controls",
     "model_module_version": "1.5.0",
     "model_name": "DescriptionStyleModel",
     "state": {
      "_model_module": "@jupyter-widgets/controls",
      "_model_module_version": "1.5.0",
      "_model_name": "DescriptionStyleModel",
      "_view_count": null,
      "_view_module": "@jupyter-widgets/base",
      "_view_module_version": "1.2.0",
      "_view_name": "StyleView",
      "description_width": ""
     }
    },
    "5bf03489ab114dc0bc36eb595d0eefb8": {
     "model_module": "@jupyter-widgets/controls",
     "model_module_version": "1.5.0",
     "model_name": "HTMLModel",
     "state": {
      "_dom_classes": [],
      "_model_module": "@jupyter-widgets/controls",
      "_model_module_version": "1.5.0",
      "_model_name": "HTMLModel",
      "_view_count": null,
      "_view_module": "@jupyter-widgets/controls",
      "_view_module_version": "1.5.0",
      "_view_name": "HTMLView",
      "description": "",
      "description_tooltip": null,
      "layout": "IPY_MODEL_8fa195247a614158ae993b8d7f3c0fd3",
      "placeholder": "​",
      "style": "IPY_MODEL_3c7e8bb7d7d1484696f88a888fb83200",
      "value": "training_args.bin: 100%"
     }
    },
    "60ce000ad0d94146901ebde4dd753513": {
     "model_module": "@jupyter-widgets/controls",
     "model_module_version": "1.5.0",
     "model_name": "HTMLModel",
     "state": {
      "_dom_classes": [],
      "_model_module": "@jupyter-widgets/controls",
      "_model_module_version": "1.5.0",
      "_model_name": "HTMLModel",
      "_view_count": null,
      "_view_module": "@jupyter-widgets/controls",
      "_view_module_version": "1.5.0",
      "_view_name": "HTMLView",
      "description": "",
      "description_tooltip": null,
      "layout": "IPY_MODEL_71abbaeeb9a44d00a862014e7a91caeb",
      "placeholder": "​",
      "style": "IPY_MODEL_f966cbbbb529487c99d95cb2cb287e8a",
      "value": " 5/5 [00:01&lt;00:00,  1.75s/it]"
     }
    },
    "62e7e863f77f4e96b649d5ce0b6049a9": {
     "model_module": "@jupyter-widgets/controls",
     "model_module_version": "1.5.0",
     "model_name": "DescriptionStyleModel",
     "state": {
      "_model_module": "@jupyter-widgets/controls",
      "_model_module_version": "1.5.0",
      "_model_name": "DescriptionStyleModel",
      "_view_count": null,
      "_view_module": "@jupyter-widgets/base",
      "_view_module_version": "1.2.0",
      "_view_name": "StyleView",
      "description_width": ""
     }
    },
    "6bd4ff9d63d043bd9a5bec9ad3cbb00c": {
     "model_module": "@jupyter-widgets/controls",
     "model_module_version": "1.5.0",
     "model_name": "DescriptionStyleModel",
     "state": {
      "_model_module": "@jupyter-widgets/controls",
      "_model_module_version": "1.5.0",
      "_model_name": "DescriptionStyleModel",
      "_view_count": null,
      "_view_module": "@jupyter-widgets/base",
      "_view_module_version": "1.2.0",
      "_view_name": "StyleView",
      "description_width": ""
     }
    },
    "6c588d6524a745dbbdd5dc86edd722ac": {
     "model_module": "@jupyter-widgets/controls",
     "model_module_version": "1.5.0",
     "model_name": "FloatProgressModel",
     "state": {
      "_dom_classes": [],
      "_model_module": "@jupyter-widgets/controls",
      "_model_module_version": "1.5.0",
      "_model_name": "FloatProgressModel",
      "_view_count": null,
      "_view_module": "@jupyter-widgets/controls",
      "_view_module_version": "1.5.0",
      "_view_name": "ProgressView",
      "bar_style": "success",
      "description": "",
      "description_tooltip": null,
      "layout": "IPY_MODEL_7b2d7433965c4ba9a868ae96110fa45e",
      "max": 657,
      "min": 0,
      "orientation": "horizontal",
      "style": "IPY_MODEL_d59207cc4c2c4f92b593ff7b26094583",
      "value": 657
     }
    },
    "708a6c0b493b48ada3f52fa08942248c": {
     "model_module": "@jupyter-widgets/controls",
     "model_module_version": "1.5.0",
     "model_name": "HTMLModel",
     "state": {
      "_dom_classes": [],
      "_model_module": "@jupyter-widgets/controls",
      "_model_module_version": "1.5.0",
      "_model_name": "HTMLModel",
      "_view_count": null,
      "_view_module": "@jupyter-widgets/controls",
      "_view_module_version": "1.5.0",
      "_view_name": "HTMLView",
      "description": "",
      "description_tooltip": null,
      "layout": "IPY_MODEL_4678f84dff3247fc9361fdce4eea89ea",
      "placeholder": "​",
      "style": "IPY_MODEL_29c72cc389134f8a992588232bec5ec0",
      "value": " 6.57k/6.57k [00:00&lt;00:00, 63.4kB/s]"
     }
    },
    "71abbaeeb9a44d00a862014e7a91caeb": {
     "model_module": "@jupyter-widgets/base",
     "model_module_version": "1.2.0",
     "model_name": "LayoutModel",
     "state": {
      "_model_module": "@jupyter-widgets/base",
      "_model_module_version": "1.2.0",
      "_model_name": "LayoutModel",
      "_view_count": null,
      "_view_module": "@jupyter-widgets/base",
      "_view_module_version": "1.2.0",
      "_view_name": "LayoutView",
      "align_content": null,
      "align_items": null,
      "align_self": null,
      "border": null,
      "bottom": null,
      "display": null,
      "flex": null,
      "flex_flow": null,
      "grid_area": null,
      "grid_auto_columns": null,
      "grid_auto_flow": null,
      "grid_auto_rows": null,
      "grid_column": null,
      "grid_gap": null,
      "grid_row": null,
      "grid_template_areas": null,
      "grid_template_columns": null,
      "grid_template_rows": null,
      "height": null,
      "justify_content": null,
      "justify_items": null,
      "left": null,
      "margin": null,
      "max_height": null,
      "max_width": null,
      "min_height": null,
      "min_width": null,
      "object_fit": null,
      "object_position": null,
      "order": null,
      "overflow": null,
      "overflow_x": null,
      "overflow_y": null,
      "padding": null,
      "right": null,
      "top": null,
      "visibility": null,
      "width": null
     }
    },
    "74daabde41e24d8faac8e81f584d00c7": {
     "model_module": "@jupyter-widgets/base",
     "model_module_version": "1.2.0",
     "model_name": "LayoutModel",
     "state": {
      "_model_module": "@jupyter-widgets/base",
      "_model_module_version": "1.2.0",
      "_model_name": "LayoutModel",
      "_view_count": null,
      "_view_module": "@jupyter-widgets/base",
      "_view_module_version": "1.2.0",
      "_view_name": "LayoutView",
      "align_content": null,
      "align_items": null,
      "align_self": null,
      "border": null,
      "bottom": null,
      "display": null,
      "flex": null,
      "flex_flow": null,
      "grid_area": null,
      "grid_auto_columns": null,
      "grid_auto_flow": null,
      "grid_auto_rows": null,
      "grid_column": null,
      "grid_gap": null,
      "grid_row": null,
      "grid_template_areas": null,
      "grid_template_columns": null,
      "grid_template_rows": null,
      "height": null,
      "justify_content": null,
      "justify_items": null,
      "left": null,
      "margin": null,
      "max_height": null,
      "max_width": null,
      "min_height": null,
      "min_width": null,
      "object_fit": null,
      "object_position": null,
      "order": null,
      "overflow": null,
      "overflow_x": null,
      "overflow_y": null,
      "padding": null,
      "right": null,
      "top": null,
      "visibility": null,
      "width": null
     }
    },
    "756f132d44374238aa875cc1a02a8ecf": {
     "model_module": "@jupyter-widgets/controls",
     "model_module_version": "1.5.0",
     "model_name": "HTMLModel",
     "state": {
      "_dom_classes": [],
      "_model_module": "@jupyter-widgets/controls",
      "_model_module_version": "1.5.0",
      "_model_name": "HTMLModel",
      "_view_count": null,
      "_view_module": "@jupyter-widgets/controls",
      "_view_module_version": "1.5.0",
      "_view_name": "HTMLView",
      "description": "",
      "description_tooltip": null,
      "layout": "IPY_MODEL_2aee87bf6e644805b725fac1b9edd901",
      "placeholder": "​",
      "style": "IPY_MODEL_62e7e863f77f4e96b649d5ce0b6049a9",
      "value": " 27.3M/27.3M [00:01&lt;00:00, 26.1MB/s]"
     }
    },
    "77313803a4994651813c746198575e00": {
     "model_module": "@jupyter-widgets/controls",
     "model_module_version": "1.5.0",
     "model_name": "DescriptionStyleModel",
     "state": {
      "_model_module": "@jupyter-widgets/controls",
      "_model_module_version": "1.5.0",
      "_model_name": "DescriptionStyleModel",
      "_view_count": null,
      "_view_module": "@jupyter-widgets/base",
      "_view_module_version": "1.2.0",
      "_view_name": "StyleView",
      "description_width": ""
     }
    },
    "78d54d859244469b9c070be717140982": {
     "model_module": "@jupyter-widgets/controls",
     "model_module_version": "1.5.0",
     "model_name": "DescriptionStyleModel",
     "state": {
      "_model_module": "@jupyter-widgets/controls",
      "_model_module_version": "1.5.0",
      "_model_name": "DescriptionStyleModel",
      "_view_count": null,
      "_view_module": "@jupyter-widgets/base",
      "_view_module_version": "1.2.0",
      "_view_name": "StyleView",
      "description_width": ""
     }
    },
    "7b2d7433965c4ba9a868ae96110fa45e": {
     "model_module": "@jupyter-widgets/base",
     "model_module_version": "1.2.0",
     "model_name": "LayoutModel",
     "state": {
      "_model_module": "@jupyter-widgets/base",
      "_model_module_version": "1.2.0",
      "_model_name": "LayoutModel",
      "_view_count": null,
      "_view_module": "@jupyter-widgets/base",
      "_view_module_version": "1.2.0",
      "_view_name": "LayoutView",
      "align_content": null,
      "align_items": null,
      "align_self": null,
      "border": null,
      "bottom": null,
      "display": null,
      "flex": null,
      "flex_flow": null,
      "grid_area": null,
      "grid_auto_columns": null,
      "grid_auto_flow": null,
      "grid_auto_rows": null,
      "grid_column": null,
      "grid_gap": null,
      "grid_row": null,
      "grid_template_areas": null,
      "grid_template_columns": null,
      "grid_template_rows": null,
      "height": null,
      "justify_content": null,
      "justify_items": null,
      "left": null,
      "margin": null,
      "max_height": null,
      "max_width": null,
      "min_height": null,
      "min_width": null,
      "object_fit": null,
      "object_position": null,
      "order": null,
      "overflow": null,
      "overflow_x": null,
      "overflow_y": null,
      "padding": null,
      "right": null,
      "top": null,
      "visibility": null,
      "width": null
     }
    },
    "7c2a50ac9ec94f6589f7a240935b83de": {
     "model_module": "@jupyter-widgets/controls",
     "model_module_version": "1.5.0",
     "model_name": "HTMLModel",
     "state": {
      "_dom_classes": [],
      "_model_module": "@jupyter-widgets/controls",
      "_model_module_version": "1.5.0",
      "_model_name": "HTMLModel",
      "_view_count": null,
      "_view_module": "@jupyter-widgets/controls",
      "_view_module_version": "1.5.0",
      "_view_name": "HTMLView",
      "description": "",
      "description_tooltip": null,
      "layout": "IPY_MODEL_c5dffe1091274e0bafb7751d105f1f4b",
      "placeholder": "​",
      "style": "IPY_MODEL_8b1c9d1ebdb24acebe46c732a70767f7",
      "value": "<center> <img\nsrc=https://huggingface.co/front/assets/huggingface_logo-noborder.svg\nalt='Hugging Face'> <br> Copy a token from <a\nhref=\"https://huggingface.co/settings/tokens\" target=\"_blank\">your Hugging Face\ntokens page</a> and paste it below. <br> Immediately click login after copying\nyour token or it might be stored in plain text in this notebook file. </center>"
     }
    },
    "7efe7bee59004f4289af295550722ff2": {
     "model_module": "@jupyter-widgets/controls",
     "model_module_version": "1.5.0",
     "model_name": "DescriptionStyleModel",
     "state": {
      "_model_module": "@jupyter-widgets/controls",
      "_model_module_version": "1.5.0",
      "_model_name": "DescriptionStyleModel",
      "_view_count": null,
      "_view_module": "@jupyter-widgets/base",
      "_view_module_version": "1.2.0",
      "_view_name": "StyleView",
      "description_width": ""
     }
    },
    "81ba67e9d1324992a247b232e4313411": {
     "model_module": "@jupyter-widgets/controls",
     "model_module_version": "1.5.0",
     "model_name": "HBoxModel",
     "state": {
      "_dom_classes": [],
      "_model_module": "@jupyter-widgets/controls",
      "_model_module_version": "1.5.0",
      "_model_name": "HBoxModel",
      "_view_count": null,
      "_view_module": "@jupyter-widgets/controls",
      "_view_module_version": "1.5.0",
      "_view_name": "HBoxView",
      "box_style": "",
      "children": [
       "IPY_MODEL_490e0482a1174b8987bcd6d9812c18be",
       "IPY_MODEL_f81ebdc9739a41d9a40183fb6c60ad68",
       "IPY_MODEL_708a6c0b493b48ada3f52fa08942248c"
      ],
      "layout": "IPY_MODEL_a9cbf804b5ff448c83130ef51f2054d4"
     }
    },
    "8561e53bee5547aaa4fba27ce6c4e534": {
     "model_module": "@jupyter-widgets/base",
     "model_module_version": "1.2.0",
     "model_name": "LayoutModel",
     "state": {
      "_model_module": "@jupyter-widgets/base",
      "_model_module_version": "1.2.0",
      "_model_name": "LayoutModel",
      "_view_count": null,
      "_view_module": "@jupyter-widgets/base",
      "_view_module_version": "1.2.0",
      "_view_name": "LayoutView",
      "align_content": null,
      "align_items": null,
      "align_self": null,
      "border": null,
      "bottom": null,
      "display": null,
      "flex": null,
      "flex_flow": null,
      "grid_area": null,
      "grid_auto_columns": null,
      "grid_auto_flow": null,
      "grid_auto_rows": null,
      "grid_column": null,
      "grid_gap": null,
      "grid_row": null,
      "grid_template_areas": null,
      "grid_template_columns": null,
      "grid_template_rows": null,
      "height": null,
      "justify_content": null,
      "justify_items": null,
      "left": null,
      "margin": null,
      "max_height": null,
      "max_width": null,
      "min_height": null,
      "min_width": null,
      "object_fit": null,
      "object_position": null,
      "order": null,
      "overflow": null,
      "overflow_x": null,
      "overflow_y": null,
      "padding": null,
      "right": null,
      "top": null,
      "visibility": null,
      "width": null
     }
    },
    "8a856bfa9cba4dce8116cf81246ab5b2": {
     "model_module": "@jupyter-widgets/controls",
     "model_module_version": "1.5.0",
     "model_name": "HBoxModel",
     "state": {
      "_dom_classes": [],
      "_model_module": "@jupyter-widgets/controls",
      "_model_module_version": "1.5.0",
      "_model_name": "HBoxModel",
      "_view_count": null,
      "_view_module": "@jupyter-widgets/controls",
      "_view_module_version": "1.5.0",
      "_view_name": "HBoxView",
      "box_style": "",
      "children": [
       "IPY_MODEL_5bf03489ab114dc0bc36eb595d0eefb8",
       "IPY_MODEL_a034386323874298a0a9d5987ea1eec0",
       "IPY_MODEL_93fbf9efb4c743dc9c6d0e5fc0b1b74f"
      ],
      "layout": "IPY_MODEL_c7adc188444b4cadaac60f7c0feb1ecf"
     }
    },
    "8b1c9d1ebdb24acebe46c732a70767f7": {
     "model_module": "@jupyter-widgets/controls",
     "model_module_version": "1.5.0",
     "model_name": "DescriptionStyleModel",
     "state": {
      "_model_module": "@jupyter-widgets/controls",
      "_model_module_version": "1.5.0",
      "_model_name": "DescriptionStyleModel",
      "_view_count": null,
      "_view_module": "@jupyter-widgets/base",
      "_view_module_version": "1.2.0",
      "_view_name": "StyleView",
      "description_width": ""
     }
    },
    "8e313616df2f40e888c9a33477925f84": {
     "model_module": "@jupyter-widgets/controls",
     "model_module_version": "1.5.0",
     "model_name": "FloatProgressModel",
     "state": {
      "_dom_classes": [],
      "_model_module": "@jupyter-widgets/controls",
      "_model_module_version": "1.5.0",
      "_model_name": "FloatProgressModel",
      "_view_count": null,
      "_view_module": "@jupyter-widgets/controls",
      "_view_module_version": "1.5.0",
      "_view_name": "ProgressView",
      "bar_style": "success",
      "description": "",
      "description_tooltip": null,
      "layout": "IPY_MODEL_b53425a19acb422b8f4c7be80397cfca",
      "max": 5,
      "min": 0,
      "orientation": "horizontal",
      "style": "IPY_MODEL_0ac8cc9b21754fdb91acd5ad632d7872",
      "value": 5
     }
    },
    "8e739179d11946e6beb79b96c6d5e199": {
     "model_module": "@jupyter-widgets/base",
     "model_module_version": "1.2.0",
     "model_name": "LayoutModel",
     "state": {
      "_model_module": "@jupyter-widgets/base",
      "_model_module_version": "1.2.0",
      "_model_name": "LayoutModel",
      "_view_count": null,
      "_view_module": "@jupyter-widgets/base",
      "_view_module_version": "1.2.0",
      "_view_name": "LayoutView",
      "align_content": null,
      "align_items": null,
      "align_self": null,
      "border": null,
      "bottom": null,
      "display": null,
      "flex": null,
      "flex_flow": null,
      "grid_area": null,
      "grid_auto_columns": null,
      "grid_auto_flow": null,
      "grid_auto_rows": null,
      "grid_column": null,
      "grid_gap": null,
      "grid_row": null,
      "grid_template_areas": null,
      "grid_template_columns": null,
      "grid_template_rows": null,
      "height": null,
      "justify_content": null,
      "justify_items": null,
      "left": null,
      "margin": null,
      "max_height": null,
      "max_width": null,
      "min_height": null,
      "min_width": null,
      "object_fit": null,
      "object_position": null,
      "order": null,
      "overflow": null,
      "overflow_x": null,
      "overflow_y": null,
      "padding": null,
      "right": null,
      "top": null,
      "visibility": null,
      "width": null
     }
    },
    "8fa195247a614158ae993b8d7f3c0fd3": {
     "model_module": "@jupyter-widgets/base",
     "model_module_version": "1.2.0",
     "model_name": "LayoutModel",
     "state": {
      "_model_module": "@jupyter-widgets/base",
      "_model_module_version": "1.2.0",
      "_model_name": "LayoutModel",
      "_view_count": null,
      "_view_module": "@jupyter-widgets/base",
      "_view_module_version": "1.2.0",
      "_view_name": "LayoutView",
      "align_content": null,
      "align_items": null,
      "align_self": null,
      "border": null,
      "bottom": null,
      "display": null,
      "flex": null,
      "flex_flow": null,
      "grid_area": null,
      "grid_auto_columns": null,
      "grid_auto_flow": null,
      "grid_auto_rows": null,
      "grid_column": null,
      "grid_gap": null,
      "grid_row": null,
      "grid_template_areas": null,
      "grid_template_columns": null,
      "grid_template_rows": null,
      "height": null,
      "justify_content": null,
      "justify_items": null,
      "left": null,
      "margin": null,
      "max_height": null,
      "max_width": null,
      "min_height": null,
      "min_width": null,
      "object_fit": null,
      "object_position": null,
      "order": null,
      "overflow": null,
      "overflow_x": null,
      "overflow_y": null,
      "padding": null,
      "right": null,
      "top": null,
      "visibility": null,
      "width": null
     }
    },
    "9037f88ab7cb47dc9020c6c2d4e11985": {
     "model_module": "@jupyter-widgets/base",
     "model_module_version": "1.2.0",
     "model_name": "LayoutModel",
     "state": {
      "_model_module": "@jupyter-widgets/base",
      "_model_module_version": "1.2.0",
      "_model_name": "LayoutModel",
      "_view_count": null,
      "_view_module": "@jupyter-widgets/base",
      "_view_module_version": "1.2.0",
      "_view_name": "LayoutView",
      "align_content": null,
      "align_items": null,
      "align_self": null,
      "border": null,
      "bottom": null,
      "display": null,
      "flex": null,
      "flex_flow": null,
      "grid_area": null,
      "grid_auto_columns": null,
      "grid_auto_flow": null,
      "grid_auto_rows": null,
      "grid_column": null,
      "grid_gap": null,
      "grid_row": null,
      "grid_template_areas": null,
      "grid_template_columns": null,
      "grid_template_rows": null,
      "height": null,
      "justify_content": null,
      "justify_items": null,
      "left": null,
      "margin": null,
      "max_height": null,
      "max_width": null,
      "min_height": null,
      "min_width": null,
      "object_fit": null,
      "object_position": null,
      "order": null,
      "overflow": null,
      "overflow_x": null,
      "overflow_y": null,
      "padding": null,
      "right": null,
      "top": null,
      "visibility": null,
      "width": null
     }
    },
    "9283ae28b546470a8906834d2d67d02a": {
     "model_module": "@jupyter-widgets/controls",
     "model_module_version": "1.5.0",
     "model_name": "HTMLModel",
     "state": {
      "_dom_classes": [],
      "_model_module": "@jupyter-widgets/controls",
      "_model_module_version": "1.5.0",
      "_model_name": "HTMLModel",
      "_view_count": null,
      "_view_module": "@jupyter-widgets/controls",
      "_view_module_version": "1.5.0",
      "_view_name": "HTMLView",
      "description": "",
      "description_tooltip": null,
      "layout": "IPY_MODEL_8561e53bee5547aaa4fba27ce6c4e534",
      "placeholder": "​",
      "style": "IPY_MODEL_4e6c8e0ff2d04e2fbb971795bada679a",
      "value": " 657/657 [00:00&lt;00:00, 15.4kB/s]"
     }
    },
    "93fbf9efb4c743dc9c6d0e5fc0b1b74f": {
     "model_module": "@jupyter-widgets/controls",
     "model_module_version": "1.5.0",
     "model_name": "HTMLModel",
     "state": {
      "_dom_classes": [],
      "_model_module": "@jupyter-widgets/controls",
      "_model_module_version": "1.5.0",
      "_model_name": "HTMLModel",
      "_view_count": null,
      "_view_module": "@jupyter-widgets/controls",
      "_view_module_version": "1.5.0",
      "_view_name": "HTMLView",
      "description": "",
      "description_tooltip": null,
      "layout": "IPY_MODEL_74daabde41e24d8faac8e81f584d00c7",
      "placeholder": "​",
      "style": "IPY_MODEL_590e3d72b23140dd86f6b0d6fba612fc",
      "value": " 5.56k/5.56k [00:00&lt;00:00, 45.3kB/s]"
     }
    },
    "96d4f06e16ab40bfa803a1418084d070": {
     "model_module": "@jupyter-widgets/controls",
     "model_module_version": "1.5.0",
     "model_name": "HTMLModel",
     "state": {
      "_dom_classes": [],
      "_model_module": "@jupyter-widgets/controls",
      "_model_module_version": "1.5.0",
      "_model_name": "HTMLModel",
      "_view_count": null,
      "_view_module": "@jupyter-widgets/controls",
      "_view_module_version": "1.5.0",
      "_view_name": "HTMLView",
      "description": "",
      "description_tooltip": null,
      "layout": "IPY_MODEL_c0ca3b3e277f40afad3f1447b70a826f",
      "placeholder": "​",
      "style": "IPY_MODEL_3cc81773eca24ec48f98230738226a46",
      "value": "Upload 5 LFS files: 100%"
     }
    },
    "9792c96310da4559ba85f82c7b817996": {
     "model_module": "@jupyter-widgets/base",
     "model_module_version": "1.2.0",
     "model_name": "LayoutModel",
     "state": {
      "_model_module": "@jupyter-widgets/base",
      "_model_module_version": "1.2.0",
      "_model_name": "LayoutModel",
      "_view_count": null,
      "_view_module": "@jupyter-widgets/base",
      "_view_module_version": "1.2.0",
      "_view_name": "LayoutView",
      "align_content": null,
      "align_items": null,
      "align_self": null,
      "border": null,
      "bottom": null,
      "display": null,
      "flex": null,
      "flex_flow": null,
      "grid_area": null,
      "grid_auto_columns": null,
      "grid_auto_flow": null,
      "grid_auto_rows": null,
      "grid_column": null,
      "grid_gap": null,
      "grid_row": null,
      "grid_template_areas": null,
      "grid_template_columns": null,
      "grid_template_rows": null,
      "height": null,
      "justify_content": null,
      "justify_items": null,
      "left": null,
      "margin": null,
      "max_height": null,
      "max_width": null,
      "min_height": null,
      "min_width": null,
      "object_fit": null,
      "object_position": null,
      "order": null,
      "overflow": null,
      "overflow_x": null,
      "overflow_y": null,
      "padding": null,
      "right": null,
      "top": null,
      "visibility": null,
      "width": null
     }
    },
    "98096c6f4678487aa65990e0a29fe98a": {
     "model_module": "@jupyter-widgets/controls",
     "model_module_version": "1.5.0",
     "model_name": "HTMLModel",
     "state": {
      "_dom_classes": [],
      "_model_module": "@jupyter-widgets/controls",
      "_model_module_version": "1.5.0",
      "_model_name": "HTMLModel",
      "_view_count": null,
      "_view_module": "@jupyter-widgets/controls",
      "_view_module_version": "1.5.0",
      "_view_name": "HTMLView",
      "description": "",
      "description_tooltip": null,
      "layout": "IPY_MODEL_da400bccfbc5481797f9b2888bb3f965",
      "placeholder": "​",
      "style": "IPY_MODEL_c6d425bb67ac440eae8d9e65f8cea11e",
      "value": "adapter_model.safetensors: 100%"
     }
    },
    "992a274a25094913947dc4d91ca69fc7": {
     "model_module": "@jupyter-widgets/base",
     "model_module_version": "1.2.0",
     "model_name": "LayoutModel",
     "state": {
      "_model_module": "@jupyter-widgets/base",
      "_model_module_version": "1.2.0",
      "_model_name": "LayoutModel",
      "_view_count": null,
      "_view_module": "@jupyter-widgets/base",
      "_view_module_version": "1.2.0",
      "_view_name": "LayoutView",
      "align_content": null,
      "align_items": null,
      "align_self": null,
      "border": null,
      "bottom": null,
      "display": null,
      "flex": null,
      "flex_flow": null,
      "grid_area": null,
      "grid_auto_columns": null,
      "grid_auto_flow": null,
      "grid_auto_rows": null,
      "grid_column": null,
      "grid_gap": null,
      "grid_row": null,
      "grid_template_areas": null,
      "grid_template_columns": null,
      "grid_template_rows": null,
      "height": null,
      "justify_content": null,
      "justify_items": null,
      "left": null,
      "margin": null,
      "max_height": null,
      "max_width": null,
      "min_height": null,
      "min_width": null,
      "object_fit": null,
      "object_position": null,
      "order": null,
      "overflow": null,
      "overflow_x": null,
      "overflow_y": null,
      "padding": null,
      "right": null,
      "top": null,
      "visibility": null,
      "width": null
     }
    },
    "9a28a5141f744711b55e670996244c63": {
     "model_module": "@jupyter-widgets/base",
     "model_module_version": "1.2.0",
     "model_name": "LayoutModel",
     "state": {
      "_model_module": "@jupyter-widgets/base",
      "_model_module_version": "1.2.0",
      "_model_name": "LayoutModel",
      "_view_count": null,
      "_view_module": "@jupyter-widgets/base",
      "_view_module_version": "1.2.0",
      "_view_name": "LayoutView",
      "align_content": null,
      "align_items": null,
      "align_self": null,
      "border": null,
      "bottom": null,
      "display": null,
      "flex": null,
      "flex_flow": null,
      "grid_area": null,
      "grid_auto_columns": null,
      "grid_auto_flow": null,
      "grid_auto_rows": null,
      "grid_column": null,
      "grid_gap": null,
      "grid_row": null,
      "grid_template_areas": null,
      "grid_template_columns": null,
      "grid_template_rows": null,
      "height": null,
      "justify_content": null,
      "justify_items": null,
      "left": null,
      "margin": null,
      "max_height": null,
      "max_width": null,
      "min_height": null,
      "min_width": null,
      "object_fit": null,
      "object_position": null,
      "order": null,
      "overflow": null,
      "overflow_x": null,
      "overflow_y": null,
      "padding": null,
      "right": null,
      "top": null,
      "visibility": null,
      "width": null
     }
    },
    "9acae49762ec48f7b116739acdf00c12": {
     "model_module": "@jupyter-widgets/controls",
     "model_module_version": "1.5.0",
     "model_name": "ProgressStyleModel",
     "state": {
      "_model_module": "@jupyter-widgets/controls",
      "_model_module_version": "1.5.0",
      "_model_name": "ProgressStyleModel",
      "_view_count": null,
      "_view_module": "@jupyter-widgets/base",
      "_view_module_version": "1.2.0",
      "_view_name": "StyleView",
      "bar_color": null,
      "description_width": ""
     }
    },
    "a034386323874298a0a9d5987ea1eec0": {
     "model_module": "@jupyter-widgets/controls",
     "model_module_version": "1.5.0",
     "model_name": "FloatProgressModel",
     "state": {
      "_dom_classes": [],
      "_model_module": "@jupyter-widgets/controls",
      "_model_module_version": "1.5.0",
      "_model_name": "FloatProgressModel",
      "_view_count": null,
      "_view_module": "@jupyter-widgets/controls",
      "_view_module_version": "1.5.0",
      "_view_name": "ProgressView",
      "bar_style": "success",
      "description": "",
      "description_tooltip": null,
      "layout": "IPY_MODEL_43d78abb37544f669c6debd460f63cb0",
      "max": 5560,
      "min": 0,
      "orientation": "horizontal",
      "style": "IPY_MODEL_1bc3b44a22da48fb841b9732467a7102",
      "value": 5560
     }
    },
    "a5be5d62cc964414a79dc795f14c9e39": {
     "model_module": "@jupyter-widgets/base",
     "model_module_version": "1.2.0",
     "model_name": "LayoutModel",
     "state": {
      "_model_module": "@jupyter-widgets/base",
      "_model_module_version": "1.2.0",
      "_model_name": "LayoutModel",
      "_view_count": null,
      "_view_module": "@jupyter-widgets/base",
      "_view_module_version": "1.2.0",
      "_view_name": "LayoutView",
      "align_content": null,
      "align_items": null,
      "align_self": null,
      "border": null,
      "bottom": null,
      "display": null,
      "flex": null,
      "flex_flow": null,
      "grid_area": null,
      "grid_auto_columns": null,
      "grid_auto_flow": null,
      "grid_auto_rows": null,
      "grid_column": null,
      "grid_gap": null,
      "grid_row": null,
      "grid_template_areas": null,
      "grid_template_columns": null,
      "grid_template_rows": null,
      "height": null,
      "justify_content": null,
      "justify_items": null,
      "left": null,
      "margin": null,
      "max_height": null,
      "max_width": null,
      "min_height": null,
      "min_width": null,
      "object_fit": null,
      "object_position": null,
      "order": null,
      "overflow": null,
      "overflow_x": null,
      "overflow_y": null,
      "padding": null,
      "right": null,
      "top": null,
      "visibility": null,
      "width": null
     }
    },
    "a70ce8b0c1704289b900c4b8755665c2": {
     "model_module": "@jupyter-widgets/base",
     "model_module_version": "1.2.0",
     "model_name": "LayoutModel",
     "state": {
      "_model_module": "@jupyter-widgets/base",
      "_model_module_version": "1.2.0",
      "_model_name": "LayoutModel",
      "_view_count": null,
      "_view_module": "@jupyter-widgets/base",
      "_view_module_version": "1.2.0",
      "_view_name": "LayoutView",
      "align_content": null,
      "align_items": null,
      "align_self": null,
      "border": null,
      "bottom": null,
      "display": null,
      "flex": null,
      "flex_flow": null,
      "grid_area": null,
      "grid_auto_columns": null,
      "grid_auto_flow": null,
      "grid_auto_rows": null,
      "grid_column": null,
      "grid_gap": null,
      "grid_row": null,
      "grid_template_areas": null,
      "grid_template_columns": null,
      "grid_template_rows": null,
      "height": null,
      "justify_content": null,
      "justify_items": null,
      "left": null,
      "margin": null,
      "max_height": null,
      "max_width": null,
      "min_height": null,
      "min_width": null,
      "object_fit": null,
      "object_position": null,
      "order": null,
      "overflow": null,
      "overflow_x": null,
      "overflow_y": null,
      "padding": null,
      "right": null,
      "top": null,
      "visibility": null,
      "width": null
     }
    },
    "a9cbf804b5ff448c83130ef51f2054d4": {
     "model_module": "@jupyter-widgets/base",
     "model_module_version": "1.2.0",
     "model_name": "LayoutModel",
     "state": {
      "_model_module": "@jupyter-widgets/base",
      "_model_module_version": "1.2.0",
      "_model_name": "LayoutModel",
      "_view_count": null,
      "_view_module": "@jupyter-widgets/base",
      "_view_module_version": "1.2.0",
      "_view_name": "LayoutView",
      "align_content": null,
      "align_items": null,
      "align_self": null,
      "border": null,
      "bottom": null,
      "display": null,
      "flex": null,
      "flex_flow": null,
      "grid_area": null,
      "grid_auto_columns": null,
      "grid_auto_flow": null,
      "grid_auto_rows": null,
      "grid_column": null,
      "grid_gap": null,
      "grid_row": null,
      "grid_template_areas": null,
      "grid_template_columns": null,
      "grid_template_rows": null,
      "height": null,
      "justify_content": null,
      "justify_items": null,
      "left": null,
      "margin": null,
      "max_height": null,
      "max_width": null,
      "min_height": null,
      "min_width": null,
      "object_fit": null,
      "object_position": null,
      "order": null,
      "overflow": null,
      "overflow_x": null,
      "overflow_y": null,
      "padding": null,
      "right": null,
      "top": null,
      "visibility": null,
      "width": null
     }
    },
    "ae265d2508e845eda606817bae163c29": {
     "model_module": "@jupyter-widgets/controls",
     "model_module_version": "1.5.0",
     "model_name": "ButtonModel",
     "state": {
      "_dom_classes": [],
      "_model_module": "@jupyter-widgets/controls",
      "_model_module_version": "1.5.0",
      "_model_name": "ButtonModel",
      "_view_count": null,
      "_view_module": "@jupyter-widgets/controls",
      "_view_module_version": "1.5.0",
      "_view_name": "ButtonView",
      "button_style": "",
      "description": "Login",
      "disabled": false,
      "icon": "",
      "layout": "IPY_MODEL_f8b3f1e685284b6f853475ac47f3b05f",
      "style": "IPY_MODEL_d4cd4450133846c6bfeb3a0c0351a82b",
      "tooltip": ""
     }
    },
    "b2a6222958034c69ae6990c4fd414a8d": {
     "model_module": "@jupyter-widgets/controls",
     "model_module_version": "1.5.0",
     "model_name": "HTMLModel",
     "state": {
      "_dom_classes": [],
      "_model_module": "@jupyter-widgets/controls",
      "_model_module_version": "1.5.0",
      "_model_name": "HTMLModel",
      "_view_count": null,
      "_view_module": "@jupyter-widgets/controls",
      "_view_module_version": "1.5.0",
      "_view_name": "HTMLView",
      "description": "",
      "description_tooltip": null,
      "layout": "IPY_MODEL_1f311c0ead964f578669aadcb8a35266",
      "placeholder": "​",
      "style": "IPY_MODEL_5af6fd48cd4f45db89e4332d41c6f039",
      "value": "events.out.tfevents.1733079635.aeb284157181.15109.0: 100%"
     }
    },
    "b4c4fba5def4437d920be90d0d8917f2": {
     "model_module": "@jupyter-widgets/controls",
     "model_module_version": "1.5.0",
     "model_name": "DescriptionStyleModel",
     "state": {
      "_model_module": "@jupyter-widgets/controls",
      "_model_module_version": "1.5.0",
      "_model_name": "DescriptionStyleModel",
      "_view_count": null,
      "_view_module": "@jupyter-widgets/base",
      "_view_module_version": "1.2.0",
      "_view_name": "StyleView",
      "description_width": ""
     }
    },
    "b53425a19acb422b8f4c7be80397cfca": {
     "model_module": "@jupyter-widgets/base",
     "model_module_version": "1.2.0",
     "model_name": "LayoutModel",
     "state": {
      "_model_module": "@jupyter-widgets/base",
      "_model_module_version": "1.2.0",
      "_model_name": "LayoutModel",
      "_view_count": null,
      "_view_module": "@jupyter-widgets/base",
      "_view_module_version": "1.2.0",
      "_view_name": "LayoutView",
      "align_content": null,
      "align_items": null,
      "align_self": null,
      "border": null,
      "bottom": null,
      "display": null,
      "flex": null,
      "flex_flow": null,
      "grid_area": null,
      "grid_auto_columns": null,
      "grid_auto_flow": null,
      "grid_auto_rows": null,
      "grid_column": null,
      "grid_gap": null,
      "grid_row": null,
      "grid_template_areas": null,
      "grid_template_columns": null,
      "grid_template_rows": null,
      "height": null,
      "justify_content": null,
      "justify_items": null,
      "left": null,
      "margin": null,
      "max_height": null,
      "max_width": null,
      "min_height": null,
      "min_width": null,
      "object_fit": null,
      "object_position": null,
      "order": null,
      "overflow": null,
      "overflow_x": null,
      "overflow_y": null,
      "padding": null,
      "right": null,
      "top": null,
      "visibility": null,
      "width": null
     }
    },
    "b577bc613edf4abdb9309017e92d5abd": {
     "model_module": "@jupyter-widgets/base",
     "model_module_version": "1.2.0",
     "model_name": "LayoutModel",
     "state": {
      "_model_module": "@jupyter-widgets/base",
      "_model_module_version": "1.2.0",
      "_model_name": "LayoutModel",
      "_view_count": null,
      "_view_module": "@jupyter-widgets/base",
      "_view_module_version": "1.2.0",
      "_view_name": "LayoutView",
      "align_content": null,
      "align_items": null,
      "align_self": null,
      "border": null,
      "bottom": null,
      "display": null,
      "flex": null,
      "flex_flow": null,
      "grid_area": null,
      "grid_auto_columns": null,
      "grid_auto_flow": null,
      "grid_auto_rows": null,
      "grid_column": null,
      "grid_gap": null,
      "grid_row": null,
      "grid_template_areas": null,
      "grid_template_columns": null,
      "grid_template_rows": null,
      "height": null,
      "justify_content": null,
      "justify_items": null,
      "left": null,
      "margin": null,
      "max_height": null,
      "max_width": null,
      "min_height": null,
      "min_width": null,
      "object_fit": null,
      "object_position": null,
      "order": null,
      "overflow": null,
      "overflow_x": null,
      "overflow_y": null,
      "padding": null,
      "right": null,
      "top": null,
      "visibility": null,
      "width": null
     }
    },
    "b7289d983ed2468baab8dd81100323f4": {
     "model_module": "@jupyter-widgets/base",
     "model_module_version": "1.2.0",
     "model_name": "LayoutModel",
     "state": {
      "_model_module": "@jupyter-widgets/base",
      "_model_module_version": "1.2.0",
      "_model_name": "LayoutModel",
      "_view_count": null,
      "_view_module": "@jupyter-widgets/base",
      "_view_module_version": "1.2.0",
      "_view_name": "LayoutView",
      "align_content": null,
      "align_items": null,
      "align_self": null,
      "border": null,
      "bottom": null,
      "display": null,
      "flex": null,
      "flex_flow": null,
      "grid_area": null,
      "grid_auto_columns": null,
      "grid_auto_flow": null,
      "grid_auto_rows": null,
      "grid_column": null,
      "grid_gap": null,
      "grid_row": null,
      "grid_template_areas": null,
      "grid_template_columns": null,
      "grid_template_rows": null,
      "height": null,
      "justify_content": null,
      "justify_items": null,
      "left": null,
      "margin": null,
      "max_height": null,
      "max_width": null,
      "min_height": null,
      "min_width": null,
      "object_fit": null,
      "object_position": null,
      "order": null,
      "overflow": null,
      "overflow_x": null,
      "overflow_y": null,
      "padding": null,
      "right": null,
      "top": null,
      "visibility": null,
      "width": null
     }
    },
    "bbdbfb8f30674f98b45812935000b4db": {
     "model_module": "@jupyter-widgets/controls",
     "model_module_version": "1.5.0",
     "model_name": "HTMLModel",
     "state": {
      "_dom_classes": [],
      "_model_module": "@jupyter-widgets/controls",
      "_model_module_version": "1.5.0",
      "_model_name": "HTMLModel",
      "_view_count": null,
      "_view_module": "@jupyter-widgets/controls",
      "_view_module_version": "1.5.0",
      "_view_name": "HTMLView",
      "description": "",
      "description_tooltip": null,
      "layout": "IPY_MODEL_9792c96310da4559ba85f82c7b817996",
      "placeholder": "​",
      "style": "IPY_MODEL_5a52822f06c2486fab5ffb1390e13d31",
      "value": " 17.0k/17.0k [00:00&lt;00:00, 143kB/s]"
     }
    },
    "bbff7e439b324bedbaa430f7b301446c": {
     "model_module": "@jupyter-widgets/base",
     "model_module_version": "1.2.0",
     "model_name": "LayoutModel",
     "state": {
      "_model_module": "@jupyter-widgets/base",
      "_model_module_version": "1.2.0",
      "_model_name": "LayoutModel",
      "_view_count": null,
      "_view_module": "@jupyter-widgets/base",
      "_view_module_version": "1.2.0",
      "_view_name": "LayoutView",
      "align_content": null,
      "align_items": null,
      "align_self": null,
      "border": null,
      "bottom": null,
      "display": null,
      "flex": null,
      "flex_flow": null,
      "grid_area": null,
      "grid_auto_columns": null,
      "grid_auto_flow": null,
      "grid_auto_rows": null,
      "grid_column": null,
      "grid_gap": null,
      "grid_row": null,
      "grid_template_areas": null,
      "grid_template_columns": null,
      "grid_template_rows": null,
      "height": null,
      "justify_content": null,
      "justify_items": null,
      "left": null,
      "margin": null,
      "max_height": null,
      "max_width": null,
      "min_height": null,
      "min_width": null,
      "object_fit": null,
      "object_position": null,
      "order": null,
      "overflow": null,
      "overflow_x": null,
      "overflow_y": null,
      "padding": null,
      "right": null,
      "top": null,
      "visibility": null,
      "width": null
     }
    },
    "bfeaab8603244feeb3265ed4ab9addb2": {
     "model_module": "@jupyter-widgets/controls",
     "model_module_version": "1.5.0",
     "model_name": "ProgressStyleModel",
     "state": {
      "_model_module": "@jupyter-widgets/controls",
      "_model_module_version": "1.5.0",
      "_model_name": "ProgressStyleModel",
      "_view_count": null,
      "_view_module": "@jupyter-widgets/base",
      "_view_module_version": "1.2.0",
      "_view_name": "StyleView",
      "bar_color": null,
      "description_width": ""
     }
    },
    "c086d0d543da4f55993c043ea40760a6": {
     "model_module": "@jupyter-widgets/base",
     "model_module_version": "1.2.0",
     "model_name": "LayoutModel",
     "state": {
      "_model_module": "@jupyter-widgets/base",
      "_model_module_version": "1.2.0",
      "_model_name": "LayoutModel",
      "_view_count": null,
      "_view_module": "@jupyter-widgets/base",
      "_view_module_version": "1.2.0",
      "_view_name": "LayoutView",
      "align_content": null,
      "align_items": null,
      "align_self": null,
      "border": null,
      "bottom": null,
      "display": null,
      "flex": null,
      "flex_flow": null,
      "grid_area": null,
      "grid_auto_columns": null,
      "grid_auto_flow": null,
      "grid_auto_rows": null,
      "grid_column": null,
      "grid_gap": null,
      "grid_row": null,
      "grid_template_areas": null,
      "grid_template_columns": null,
      "grid_template_rows": null,
      "height": null,
      "justify_content": null,
      "justify_items": null,
      "left": null,
      "margin": null,
      "max_height": null,
      "max_width": null,
      "min_height": null,
      "min_width": null,
      "object_fit": null,
      "object_position": null,
      "order": null,
      "overflow": null,
      "overflow_x": null,
      "overflow_y": null,
      "padding": null,
      "right": null,
      "top": null,
      "visibility": null,
      "width": null
     }
    },
    "c0ca3b3e277f40afad3f1447b70a826f": {
     "model_module": "@jupyter-widgets/base",
     "model_module_version": "1.2.0",
     "model_name": "LayoutModel",
     "state": {
      "_model_module": "@jupyter-widgets/base",
      "_model_module_version": "1.2.0",
      "_model_name": "LayoutModel",
      "_view_count": null,
      "_view_module": "@jupyter-widgets/base",
      "_view_module_version": "1.2.0",
      "_view_name": "LayoutView",
      "align_content": null,
      "align_items": null,
      "align_self": null,
      "border": null,
      "bottom": null,
      "display": null,
      "flex": null,
      "flex_flow": null,
      "grid_area": null,
      "grid_auto_columns": null,
      "grid_auto_flow": null,
      "grid_auto_rows": null,
      "grid_column": null,
      "grid_gap": null,
      "grid_row": null,
      "grid_template_areas": null,
      "grid_template_columns": null,
      "grid_template_rows": null,
      "height": null,
      "justify_content": null,
      "justify_items": null,
      "left": null,
      "margin": null,
      "max_height": null,
      "max_width": null,
      "min_height": null,
      "min_width": null,
      "object_fit": null,
      "object_position": null,
      "order": null,
      "overflow": null,
      "overflow_x": null,
      "overflow_y": null,
      "padding": null,
      "right": null,
      "top": null,
      "visibility": null,
      "width": null
     }
    },
    "c55bb54e2fad4100bcc0e096999f2390": {
     "model_module": "@jupyter-widgets/base",
     "model_module_version": "1.2.0",
     "model_name": "LayoutModel",
     "state": {
      "_model_module": "@jupyter-widgets/base",
      "_model_module_version": "1.2.0",
      "_model_name": "LayoutModel",
      "_view_count": null,
      "_view_module": "@jupyter-widgets/base",
      "_view_module_version": "1.2.0",
      "_view_name": "LayoutView",
      "align_content": null,
      "align_items": null,
      "align_self": null,
      "border": null,
      "bottom": null,
      "display": null,
      "flex": null,
      "flex_flow": null,
      "grid_area": null,
      "grid_auto_columns": null,
      "grid_auto_flow": null,
      "grid_auto_rows": null,
      "grid_column": null,
      "grid_gap": null,
      "grid_row": null,
      "grid_template_areas": null,
      "grid_template_columns": null,
      "grid_template_rows": null,
      "height": null,
      "justify_content": null,
      "justify_items": null,
      "left": null,
      "margin": null,
      "max_height": null,
      "max_width": null,
      "min_height": null,
      "min_width": null,
      "object_fit": null,
      "object_position": null,
      "order": null,
      "overflow": null,
      "overflow_x": null,
      "overflow_y": null,
      "padding": null,
      "right": null,
      "top": null,
      "visibility": null,
      "width": null
     }
    },
    "c5dffe1091274e0bafb7751d105f1f4b": {
     "model_module": "@jupyter-widgets/base",
     "model_module_version": "1.2.0",
     "model_name": "LayoutModel",
     "state": {
      "_model_module": "@jupyter-widgets/base",
      "_model_module_version": "1.2.0",
      "_model_name": "LayoutModel",
      "_view_count": null,
      "_view_module": "@jupyter-widgets/base",
      "_view_module_version": "1.2.0",
      "_view_name": "LayoutView",
      "align_content": null,
      "align_items": null,
      "align_self": null,
      "border": null,
      "bottom": null,
      "display": null,
      "flex": null,
      "flex_flow": null,
      "grid_area": null,
      "grid_auto_columns": null,
      "grid_auto_flow": null,
      "grid_auto_rows": null,
      "grid_column": null,
      "grid_gap": null,
      "grid_row": null,
      "grid_template_areas": null,
      "grid_template_columns": null,
      "grid_template_rows": null,
      "height": null,
      "justify_content": null,
      "justify_items": null,
      "left": null,
      "margin": null,
      "max_height": null,
      "max_width": null,
      "min_height": null,
      "min_width": null,
      "object_fit": null,
      "object_position": null,
      "order": null,
      "overflow": null,
      "overflow_x": null,
      "overflow_y": null,
      "padding": null,
      "right": null,
      "top": null,
      "visibility": null,
      "width": null
     }
    },
    "c6d425bb67ac440eae8d9e65f8cea11e": {
     "model_module": "@jupyter-widgets/controls",
     "model_module_version": "1.5.0",
     "model_name": "DescriptionStyleModel",
     "state": {
      "_model_module": "@jupyter-widgets/controls",
      "_model_module_version": "1.5.0",
      "_model_name": "DescriptionStyleModel",
      "_view_count": null,
      "_view_module": "@jupyter-widgets/base",
      "_view_module_version": "1.2.0",
      "_view_name": "StyleView",
      "description_width": ""
     }
    },
    "c7adc188444b4cadaac60f7c0feb1ecf": {
     "model_module": "@jupyter-widgets/base",
     "model_module_version": "1.2.0",
     "model_name": "LayoutModel",
     "state": {
      "_model_module": "@jupyter-widgets/base",
      "_model_module_version": "1.2.0",
      "_model_name": "LayoutModel",
      "_view_count": null,
      "_view_module": "@jupyter-widgets/base",
      "_view_module_version": "1.2.0",
      "_view_name": "LayoutView",
      "align_content": null,
      "align_items": null,
      "align_self": null,
      "border": null,
      "bottom": null,
      "display": null,
      "flex": null,
      "flex_flow": null,
      "grid_area": null,
      "grid_auto_columns": null,
      "grid_auto_flow": null,
      "grid_auto_rows": null,
      "grid_column": null,
      "grid_gap": null,
      "grid_row": null,
      "grid_template_areas": null,
      "grid_template_columns": null,
      "grid_template_rows": null,
      "height": null,
      "justify_content": null,
      "justify_items": null,
      "left": null,
      "margin": null,
      "max_height": null,
      "max_width": null,
      "min_height": null,
      "min_width": null,
      "object_fit": null,
      "object_position": null,
      "order": null,
      "overflow": null,
      "overflow_x": null,
      "overflow_y": null,
      "padding": null,
      "right": null,
      "top": null,
      "visibility": null,
      "width": null
     }
    },
    "c9d6212fd7134874afca4308708e4c30": {
     "model_module": "@jupyter-widgets/base",
     "model_module_version": "1.2.0",
     "model_name": "LayoutModel",
     "state": {
      "_model_module": "@jupyter-widgets/base",
      "_model_module_version": "1.2.0",
      "_model_name": "LayoutModel",
      "_view_count": null,
      "_view_module": "@jupyter-widgets/base",
      "_view_module_version": "1.2.0",
      "_view_name": "LayoutView",
      "align_content": null,
      "align_items": null,
      "align_self": null,
      "border": null,
      "bottom": null,
      "display": null,
      "flex": null,
      "flex_flow": null,
      "grid_area": null,
      "grid_auto_columns": null,
      "grid_auto_flow": null,
      "grid_auto_rows": null,
      "grid_column": null,
      "grid_gap": null,
      "grid_row": null,
      "grid_template_areas": null,
      "grid_template_columns": null,
      "grid_template_rows": null,
      "height": null,
      "justify_content": null,
      "justify_items": null,
      "left": null,
      "margin": null,
      "max_height": null,
      "max_width": null,
      "min_height": null,
      "min_width": null,
      "object_fit": null,
      "object_position": null,
      "order": null,
      "overflow": null,
      "overflow_x": null,
      "overflow_y": null,
      "padding": null,
      "right": null,
      "top": null,
      "visibility": null,
      "width": null
     }
    },
    "d0745164440248109d0346dbfb49f2ce": {
     "model_module": "@jupyter-widgets/base",
     "model_module_version": "1.2.0",
     "model_name": "LayoutModel",
     "state": {
      "_model_module": "@jupyter-widgets/base",
      "_model_module_version": "1.2.0",
      "_model_name": "LayoutModel",
      "_view_count": null,
      "_view_module": "@jupyter-widgets/base",
      "_view_module_version": "1.2.0",
      "_view_name": "LayoutView",
      "align_content": null,
      "align_items": "center",
      "align_self": null,
      "border": null,
      "bottom": null,
      "display": "flex",
      "flex": null,
      "flex_flow": "column",
      "grid_area": null,
      "grid_auto_columns": null,
      "grid_auto_flow": null,
      "grid_auto_rows": null,
      "grid_column": null,
      "grid_gap": null,
      "grid_row": null,
      "grid_template_areas": null,
      "grid_template_columns": null,
      "grid_template_rows": null,
      "height": null,
      "justify_content": null,
      "justify_items": null,
      "left": null,
      "margin": null,
      "max_height": null,
      "max_width": null,
      "min_height": null,
      "min_width": null,
      "object_fit": null,
      "object_position": null,
      "order": null,
      "overflow": null,
      "overflow_x": null,
      "overflow_y": null,
      "padding": null,
      "right": null,
      "top": null,
      "visibility": null,
      "width": "50%"
     }
    },
    "d17b3c2d1026461184545d1efaa5df9e": {
     "model_module": "@jupyter-widgets/controls",
     "model_module_version": "1.5.0",
     "model_name": "ProgressStyleModel",
     "state": {
      "_model_module": "@jupyter-widgets/controls",
      "_model_module_version": "1.5.0",
      "_model_name": "ProgressStyleModel",
      "_view_count": null,
      "_view_module": "@jupyter-widgets/base",
      "_view_module_version": "1.2.0",
      "_view_name": "StyleView",
      "bar_color": null,
      "description_width": ""
     }
    },
    "d4cd4450133846c6bfeb3a0c0351a82b": {
     "model_module": "@jupyter-widgets/controls",
     "model_module_version": "1.5.0",
     "model_name": "ButtonStyleModel",
     "state": {
      "_model_module": "@jupyter-widgets/controls",
      "_model_module_version": "1.5.0",
      "_model_name": "ButtonStyleModel",
      "_view_count": null,
      "_view_module": "@jupyter-widgets/base",
      "_view_module_version": "1.2.0",
      "_view_name": "StyleView",
      "button_color": null,
      "font_weight": ""
     }
    },
    "d59207cc4c2c4f92b593ff7b26094583": {
     "model_module": "@jupyter-widgets/controls",
     "model_module_version": "1.5.0",
     "model_name": "ProgressStyleModel",
     "state": {
      "_model_module": "@jupyter-widgets/controls",
      "_model_module_version": "1.5.0",
      "_model_name": "ProgressStyleModel",
      "_view_count": null,
      "_view_module": "@jupyter-widgets/base",
      "_view_module_version": "1.2.0",
      "_view_name": "StyleView",
      "bar_color": null,
      "description_width": ""
     }
    },
    "d67b820422db4d6486d769889b5ca8ff": {
     "model_module": "@jupyter-widgets/controls",
     "model_module_version": "1.5.0",
     "model_name": "VBoxModel",
     "state": {
      "_dom_classes": [],
      "_model_module": "@jupyter-widgets/controls",
      "_model_module_version": "1.5.0",
      "_model_name": "VBoxModel",
      "_view_count": null,
      "_view_module": "@jupyter-widgets/controls",
      "_view_module_version": "1.5.0",
      "_view_name": "VBoxView",
      "box_style": "",
      "children": [
       "IPY_MODEL_7c2a50ac9ec94f6589f7a240935b83de",
       "IPY_MODEL_e922276e4b434747bec68179f56d83f3",
       "IPY_MODEL_f5899ab1e20b4fa8b9d8c15560b3d701",
       "IPY_MODEL_ae265d2508e845eda606817bae163c29",
       "IPY_MODEL_faaaf364c4884d7f876d418f603513ee"
      ],
      "layout": "IPY_MODEL_d0745164440248109d0346dbfb49f2ce"
     }
    },
    "d81d285faa8e476c87d5971a12ebc593": {
     "model_module": "@jupyter-widgets/controls",
     "model_module_version": "1.5.0",
     "model_name": "HBoxModel",
     "state": {
      "_dom_classes": [],
      "_model_module": "@jupyter-widgets/controls",
      "_model_module_version": "1.5.0",
      "_model_name": "HBoxModel",
      "_view_count": null,
      "_view_module": "@jupyter-widgets/controls",
      "_view_module_version": "1.5.0",
      "_view_name": "HBoxView",
      "box_style": "",
      "children": [
       "IPY_MODEL_98096c6f4678487aa65990e0a29fe98a",
       "IPY_MODEL_e18256ff79f74653a14383af52729511",
       "IPY_MODEL_756f132d44374238aa875cc1a02a8ecf"
      ],
      "layout": "IPY_MODEL_a70ce8b0c1704289b900c4b8755665c2"
     }
    },
    "da400bccfbc5481797f9b2888bb3f965": {
     "model_module": "@jupyter-widgets/base",
     "model_module_version": "1.2.0",
     "model_name": "LayoutModel",
     "state": {
      "_model_module": "@jupyter-widgets/base",
      "_model_module_version": "1.2.0",
      "_model_name": "LayoutModel",
      "_view_count": null,
      "_view_module": "@jupyter-widgets/base",
      "_view_module_version": "1.2.0",
      "_view_name": "LayoutView",
      "align_content": null,
      "align_items": null,
      "align_self": null,
      "border": null,
      "bottom": null,
      "display": null,
      "flex": null,
      "flex_flow": null,
      "grid_area": null,
      "grid_auto_columns": null,
      "grid_auto_flow": null,
      "grid_auto_rows": null,
      "grid_column": null,
      "grid_gap": null,
      "grid_row": null,
      "grid_template_areas": null,
      "grid_template_columns": null,
      "grid_template_rows": null,
      "height": null,
      "justify_content": null,
      "justify_items": null,
      "left": null,
      "margin": null,
      "max_height": null,
      "max_width": null,
      "min_height": null,
      "min_width": null,
      "object_fit": null,
      "object_position": null,
      "order": null,
      "overflow": null,
      "overflow_x": null,
      "overflow_y": null,
      "padding": null,
      "right": null,
      "top": null,
      "visibility": null,
      "width": null
     }
    },
    "dabe270638244db7b90a65edc8c637e6": {
     "model_module": "@jupyter-widgets/base",
     "model_module_version": "1.2.0",
     "model_name": "LayoutModel",
     "state": {
      "_model_module": "@jupyter-widgets/base",
      "_model_module_version": "1.2.0",
      "_model_name": "LayoutModel",
      "_view_count": null,
      "_view_module": "@jupyter-widgets/base",
      "_view_module_version": "1.2.0",
      "_view_name": "LayoutView",
      "align_content": null,
      "align_items": null,
      "align_self": null,
      "border": null,
      "bottom": null,
      "display": null,
      "flex": null,
      "flex_flow": null,
      "grid_area": null,
      "grid_auto_columns": null,
      "grid_auto_flow": null,
      "grid_auto_rows": null,
      "grid_column": null,
      "grid_gap": null,
      "grid_row": null,
      "grid_template_areas": null,
      "grid_template_columns": null,
      "grid_template_rows": null,
      "height": null,
      "justify_content": null,
      "justify_items": null,
      "left": null,
      "margin": null,
      "max_height": null,
      "max_width": null,
      "min_height": null,
      "min_width": null,
      "object_fit": null,
      "object_position": null,
      "order": null,
      "overflow": null,
      "overflow_x": null,
      "overflow_y": null,
      "padding": null,
      "right": null,
      "top": null,
      "visibility": null,
      "width": null
     }
    },
    "df99719886e1411490c786877a4549d3": {
     "model_module": "@jupyter-widgets/controls",
     "model_module_version": "1.5.0",
     "model_name": "DescriptionStyleModel",
     "state": {
      "_model_module": "@jupyter-widgets/controls",
      "_model_module_version": "1.5.0",
      "_model_name": "DescriptionStyleModel",
      "_view_count": null,
      "_view_module": "@jupyter-widgets/base",
      "_view_module_version": "1.2.0",
      "_view_name": "StyleView",
      "description_width": ""
     }
    },
    "e18256ff79f74653a14383af52729511": {
     "model_module": "@jupyter-widgets/controls",
     "model_module_version": "1.5.0",
     "model_name": "FloatProgressModel",
     "state": {
      "_dom_classes": [],
      "_model_module": "@jupyter-widgets/controls",
      "_model_module_version": "1.5.0",
      "_model_name": "FloatProgressModel",
      "_view_count": null,
      "_view_module": "@jupyter-widgets/controls",
      "_view_module_version": "1.5.0",
      "_view_name": "ProgressView",
      "bar_style": "success",
      "description": "",
      "description_tooltip": null,
      "layout": "IPY_MODEL_f3f167d27531470c8a8d1e31cf8c7faf",
      "max": 27271552,
      "min": 0,
      "orientation": "horizontal",
      "style": "IPY_MODEL_d17b3c2d1026461184545d1efaa5df9e",
      "value": 27271552
     }
    },
    "e2a4dcdb122b4cab96f5b0e054e1a5b2": {
     "model_module": "@jupyter-widgets/base",
     "model_module_version": "1.2.0",
     "model_name": "LayoutModel",
     "state": {
      "_model_module": "@jupyter-widgets/base",
      "_model_module_version": "1.2.0",
      "_model_name": "LayoutModel",
      "_view_count": null,
      "_view_module": "@jupyter-widgets/base",
      "_view_module_version": "1.2.0",
      "_view_name": "LayoutView",
      "align_content": null,
      "align_items": null,
      "align_self": null,
      "border": null,
      "bottom": null,
      "display": null,
      "flex": null,
      "flex_flow": null,
      "grid_area": null,
      "grid_auto_columns": null,
      "grid_auto_flow": null,
      "grid_auto_rows": null,
      "grid_column": null,
      "grid_gap": null,
      "grid_row": null,
      "grid_template_areas": null,
      "grid_template_columns": null,
      "grid_template_rows": null,
      "height": null,
      "justify_content": null,
      "justify_items": null,
      "left": null,
      "margin": null,
      "max_height": null,
      "max_width": null,
      "min_height": null,
      "min_width": null,
      "object_fit": null,
      "object_position": null,
      "order": null,
      "overflow": null,
      "overflow_x": null,
      "overflow_y": null,
      "padding": null,
      "right": null,
      "top": null,
      "visibility": null,
      "width": null
     }
    },
    "e364693e0ed9433b96a667a76e40b14b": {
     "model_module": "@jupyter-widgets/controls",
     "model_module_version": "1.5.0",
     "model_name": "FloatProgressModel",
     "state": {
      "_dom_classes": [],
      "_model_module": "@jupyter-widgets/controls",
      "_model_module_version": "1.5.0",
      "_model_name": "FloatProgressModel",
      "_view_count": null,
      "_view_module": "@jupyter-widgets/controls",
      "_view_module_version": "1.5.0",
      "_view_name": "ProgressView",
      "bar_style": "success",
      "description": "",
      "description_tooltip": null,
      "layout": "IPY_MODEL_9037f88ab7cb47dc9020c6c2d4e11985",
      "max": 10000,
      "min": 0,
      "orientation": "horizontal",
      "style": "IPY_MODEL_33f94703478243198fc9369504d6a2e2",
      "value": 10000
     }
    },
    "e556d969a90a4c87928bcf547daf428f": {
     "model_module": "@jupyter-widgets/controls",
     "model_module_version": "1.5.0",
     "model_name": "DescriptionStyleModel",
     "state": {
      "_model_module": "@jupyter-widgets/controls",
      "_model_module_version": "1.5.0",
      "_model_name": "DescriptionStyleModel",
      "_view_count": null,
      "_view_module": "@jupyter-widgets/base",
      "_view_module_version": "1.2.0",
      "_view_name": "StyleView",
      "description_width": ""
     }
    },
    "e922276e4b434747bec68179f56d83f3": {
     "model_module": "@jupyter-widgets/controls",
     "model_module_version": "1.5.0",
     "model_name": "PasswordModel",
     "state": {
      "_dom_classes": [],
      "_model_module": "@jupyter-widgets/controls",
      "_model_module_version": "1.5.0",
      "_model_name": "PasswordModel",
      "_view_count": null,
      "_view_module": "@jupyter-widgets/controls",
      "_view_module_version": "1.5.0",
      "_view_name": "PasswordView",
      "continuous_update": true,
      "description": "Token:",
      "description_tooltip": null,
      "disabled": false,
      "layout": "IPY_MODEL_c086d0d543da4f55993c043ea40760a6",
      "placeholder": "​",
      "style": "IPY_MODEL_6bd4ff9d63d043bd9a5bec9ad3cbb00c",
      "value": ""
     }
    },
    "eb3ab6f62d5e4228a05a7ec77af968ce": {
     "model_module": "@jupyter-widgets/base",
     "model_module_version": "1.2.0",
     "model_name": "LayoutModel",
     "state": {
      "_model_module": "@jupyter-widgets/base",
      "_model_module_version": "1.2.0",
      "_model_name": "LayoutModel",
      "_view_count": null,
      "_view_module": "@jupyter-widgets/base",
      "_view_module_version": "1.2.0",
      "_view_name": "LayoutView",
      "align_content": null,
      "align_items": null,
      "align_self": null,
      "border": null,
      "bottom": null,
      "display": null,
      "flex": null,
      "flex_flow": null,
      "grid_area": null,
      "grid_auto_columns": null,
      "grid_auto_flow": null,
      "grid_auto_rows": null,
      "grid_column": null,
      "grid_gap": null,
      "grid_row": null,
      "grid_template_areas": null,
      "grid_template_columns": null,
      "grid_template_rows": null,
      "height": null,
      "justify_content": null,
      "justify_items": null,
      "left": null,
      "margin": null,
      "max_height": null,
      "max_width": null,
      "min_height": null,
      "min_width": null,
      "object_fit": null,
      "object_position": null,
      "order": null,
      "overflow": null,
      "overflow_x": null,
      "overflow_y": null,
      "padding": null,
      "right": null,
      "top": null,
      "visibility": null,
      "width": null
     }
    },
    "f118c9ec59334781bfd621c2d9c38be9": {
     "model_module": "@jupyter-widgets/controls",
     "model_module_version": "1.5.0",
     "model_name": "DescriptionStyleModel",
     "state": {
      "_model_module": "@jupyter-widgets/controls",
      "_model_module_version": "1.5.0",
      "_model_name": "DescriptionStyleModel",
      "_view_count": null,
      "_view_module": "@jupyter-widgets/base",
      "_view_module_version": "1.2.0",
      "_view_name": "StyleView",
      "description_width": ""
     }
    },
    "f3f167d27531470c8a8d1e31cf8c7faf": {
     "model_module": "@jupyter-widgets/base",
     "model_module_version": "1.2.0",
     "model_name": "LayoutModel",
     "state": {
      "_model_module": "@jupyter-widgets/base",
      "_model_module_version": "1.2.0",
      "_model_name": "LayoutModel",
      "_view_count": null,
      "_view_module": "@jupyter-widgets/base",
      "_view_module_version": "1.2.0",
      "_view_name": "LayoutView",
      "align_content": null,
      "align_items": null,
      "align_self": null,
      "border": null,
      "bottom": null,
      "display": null,
      "flex": null,
      "flex_flow": null,
      "grid_area": null,
      "grid_auto_columns": null,
      "grid_auto_flow": null,
      "grid_auto_rows": null,
      "grid_column": null,
      "grid_gap": null,
      "grid_row": null,
      "grid_template_areas": null,
      "grid_template_columns": null,
      "grid_template_rows": null,
      "height": null,
      "justify_content": null,
      "justify_items": null,
      "left": null,
      "margin": null,
      "max_height": null,
      "max_width": null,
      "min_height": null,
      "min_width": null,
      "object_fit": null,
      "object_position": null,
      "order": null,
      "overflow": null,
      "overflow_x": null,
      "overflow_y": null,
      "padding": null,
      "right": null,
      "top": null,
      "visibility": null,
      "width": null
     }
    },
    "f5899ab1e20b4fa8b9d8c15560b3d701": {
     "model_module": "@jupyter-widgets/controls",
     "model_module_version": "1.5.0",
     "model_name": "CheckboxModel",
     "state": {
      "_dom_classes": [],
      "_model_module": "@jupyter-widgets/controls",
      "_model_module_version": "1.5.0",
      "_model_name": "CheckboxModel",
      "_view_count": null,
      "_view_module": "@jupyter-widgets/controls",
      "_view_module_version": "1.5.0",
      "_view_name": "CheckboxView",
      "description": "Add token as git credential?",
      "description_tooltip": null,
      "disabled": false,
      "indent": true,
      "layout": "IPY_MODEL_1973fee2b214468ba4e57060d286a554",
      "style": "IPY_MODEL_f118c9ec59334781bfd621c2d9c38be9",
      "value": true
     }
    },
    "f58e5b1059ab473c80234c46c9fa8b8c": {
     "model_module": "@jupyter-widgets/controls",
     "model_module_version": "1.5.0",
     "model_name": "FloatProgressModel",
     "state": {
      "_dom_classes": [],
      "_model_module": "@jupyter-widgets/controls",
      "_model_module_version": "1.5.0",
      "_model_name": "FloatProgressModel",
      "_view_count": null,
      "_view_module": "@jupyter-widgets/controls",
      "_view_module_version": "1.5.0",
      "_view_name": "ProgressView",
      "bar_style": "success",
      "description": "",
      "description_tooltip": null,
      "layout": "IPY_MODEL_2e85e1fdd6b94e65b0f901abdbfbafd6",
      "max": 17036,
      "min": 0,
      "orientation": "horizontal",
      "style": "IPY_MODEL_247fc1dac02946289870fbacb8acdbc6",
      "value": 17036
     }
    },
    "f6bc8d0013c149029f5a754216e2f702": {
     "model_module": "@jupyter-widgets/controls",
     "model_module_version": "1.5.0",
     "model_name": "HBoxModel",
     "state": {
      "_dom_classes": [],
      "_model_module": "@jupyter-widgets/controls",
      "_model_module_version": "1.5.0",
      "_model_name": "HBoxModel",
      "_view_count": null,
      "_view_module": "@jupyter-widgets/controls",
      "_view_module_version": "1.5.0",
      "_view_name": "HBoxView",
      "box_style": "",
      "children": [
       "IPY_MODEL_19a942f7ec1541bc98de8dd4bbeb52f0",
       "IPY_MODEL_e364693e0ed9433b96a667a76e40b14b",
       "IPY_MODEL_3183ceb32c424388b6210de891d7471e"
      ],
      "layout": "IPY_MODEL_a5be5d62cc964414a79dc795f14c9e39"
     }
    },
    "f81ebdc9739a41d9a40183fb6c60ad68": {
     "model_module": "@jupyter-widgets/controls",
     "model_module_version": "1.5.0",
     "model_name": "FloatProgressModel",
     "state": {
      "_dom_classes": [],
      "_model_module": "@jupyter-widgets/controls",
      "_model_module_version": "1.5.0",
      "_model_name": "FloatProgressModel",
      "_view_count": null,
      "_view_module": "@jupyter-widgets/controls",
      "_view_module_version": "1.5.0",
      "_view_name": "ProgressView",
      "bar_style": "success",
      "description": "",
      "description_tooltip": null,
      "layout": "IPY_MODEL_c55bb54e2fad4100bcc0e096999f2390",
      "max": 6566,
      "min": 0,
      "orientation": "horizontal",
      "style": "IPY_MODEL_9acae49762ec48f7b116739acdf00c12",
      "value": 6566
     }
    },
    "f8b3f1e685284b6f853475ac47f3b05f": {
     "model_module": "@jupyter-widgets/base",
     "model_module_version": "1.2.0",
     "model_name": "LayoutModel",
     "state": {
      "_model_module": "@jupyter-widgets/base",
      "_model_module_version": "1.2.0",
      "_model_name": "LayoutModel",
      "_view_count": null,
      "_view_module": "@jupyter-widgets/base",
      "_view_module_version": "1.2.0",
      "_view_name": "LayoutView",
      "align_content": null,
      "align_items": null,
      "align_self": null,
      "border": null,
      "bottom": null,
      "display": null,
      "flex": null,
      "flex_flow": null,
      "grid_area": null,
      "grid_auto_columns": null,
      "grid_auto_flow": null,
      "grid_auto_rows": null,
      "grid_column": null,
      "grid_gap": null,
      "grid_row": null,
      "grid_template_areas": null,
      "grid_template_columns": null,
      "grid_template_rows": null,
      "height": null,
      "justify_content": null,
      "justify_items": null,
      "left": null,
      "margin": null,
      "max_height": null,
      "max_width": null,
      "min_height": null,
      "min_width": null,
      "object_fit": null,
      "object_position": null,
      "order": null,
      "overflow": null,
      "overflow_x": null,
      "overflow_y": null,
      "padding": null,
      "right": null,
      "top": null,
      "visibility": null,
      "width": null
     }
    },
    "f966cbbbb529487c99d95cb2cb287e8a": {
     "model_module": "@jupyter-widgets/controls",
     "model_module_version": "1.5.0",
     "model_name": "DescriptionStyleModel",
     "state": {
      "_model_module": "@jupyter-widgets/controls",
      "_model_module_version": "1.5.0",
      "_model_name": "DescriptionStyleModel",
      "_view_count": null,
      "_view_module": "@jupyter-widgets/base",
      "_view_module_version": "1.2.0",
      "_view_name": "StyleView",
      "description_width": ""
     }
    },
    "faaaf364c4884d7f876d418f603513ee": {
     "model_module": "@jupyter-widgets/controls",
     "model_module_version": "1.5.0",
     "model_name": "HTMLModel",
     "state": {
      "_dom_classes": [],
      "_model_module": "@jupyter-widgets/controls",
      "_model_module_version": "1.5.0",
      "_model_name": "HTMLModel",
      "_view_count": null,
      "_view_module": "@jupyter-widgets/controls",
      "_view_module_version": "1.5.0",
      "_view_name": "HTMLView",
      "description": "",
      "description_tooltip": null,
      "layout": "IPY_MODEL_c9d6212fd7134874afca4308708e4c30",
      "placeholder": "​",
      "style": "IPY_MODEL_77313803a4994651813c746198575e00",
      "value": "\n<b>Pro Tip:</b> If you don't already have one, you can create a dedicated\n'notebooks' token with 'write' access, that you can then easily reuse for all\nnotebooks. </center>"
     }
    },
    "fc8bb29036764ef5a4effb72d6ea53cc": {
     "model_module": "@jupyter-widgets/controls",
     "model_module_version": "1.5.0",
     "model_name": "HBoxModel",
     "state": {
      "_dom_classes": [],
      "_model_module": "@jupyter-widgets/controls",
      "_model_module_version": "1.5.0",
      "_model_name": "HBoxModel",
      "_view_count": null,
      "_view_module": "@jupyter-widgets/controls",
      "_view_module_version": "1.5.0",
      "_view_name": "HBoxView",
      "box_style": "",
      "children": [
       "IPY_MODEL_b2a6222958034c69ae6990c4fd414a8d",
       "IPY_MODEL_491fc603699c43d983a0557dd948da0c",
       "IPY_MODEL_504671a2fcf44e6f92a552724425c0c2"
      ],
      "layout": "IPY_MODEL_dabe270638244db7b90a65edc8c637e6"
     }
    },
    "fe82b929b7e54803afd0c6b4d2784637": {
     "model_module": "@jupyter-widgets/controls",
     "model_module_version": "1.5.0",
     "model_name": "DescriptionStyleModel",
     "state": {
      "_model_module": "@jupyter-widgets/controls",
      "_model_module_version": "1.5.0",
      "_model_name": "DescriptionStyleModel",
      "_view_count": null,
      "_view_module": "@jupyter-widgets/base",
      "_view_module_version": "1.2.0",
      "_view_name": "StyleView",
      "description_width": ""
     }
    },
    "fe92a018cb214530bf2de3668f17ef7d": {
     "model_module": "@jupyter-widgets/controls",
     "model_module_version": "1.5.0",
     "model_name": "HBoxModel",
     "state": {
      "_dom_classes": [],
      "_model_module": "@jupyter-widgets/controls",
      "_model_module_version": "1.5.0",
      "_model_name": "HBoxModel",
      "_view_count": null,
      "_view_module": "@jupyter-widgets/controls",
      "_view_module_version": "1.5.0",
      "_view_name": "HBoxView",
      "box_style": "",
      "children": [
       "IPY_MODEL_1a7ac37b42d24e969c4ce7f9896f4b30",
       "IPY_MODEL_f58e5b1059ab473c80234c46c9fa8b8c",
       "IPY_MODEL_bbdbfb8f30674f98b45812935000b4db"
      ],
      "layout": "IPY_MODEL_8e739179d11946e6beb79b96c6d5e199"
     }
    }
   }
  }
 },
 "nbformat": 4,
 "nbformat_minor": 4
}
