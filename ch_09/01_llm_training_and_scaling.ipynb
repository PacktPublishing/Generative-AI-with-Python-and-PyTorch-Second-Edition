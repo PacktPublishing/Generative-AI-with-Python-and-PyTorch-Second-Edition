{
 "cells": [
  {
   "cell_type": "markdown",
   "id": "96259c76-dffd-4b6a-b4a9-29591e5e07d6",
   "metadata": {},
   "source": [
    "# Scaling Neural Nets and Efficient Training"
   ]
  },
  {
   "attachments": {
    "08264d12-83d1-45ac-8664-90c3f5af5ad6.png": {
     "image/png": "[encoded data removed]"
    }
   },
   "cell_type": "markdown",
   "id": "d087106d-f174-4fc0-bc53-042842996eff",
   "metadata": {},
   "source": [
    "## Estimating Compute Costs\n",
    "> Back of the Envelope Calculations : A quick way to get rough estimates\n",
    "\n",
    "\n",
    "**[LLaMA 3.1](https://github.com/meta-llama/llama-models/blob/main/models/llama3_1/MODEL_CARD.md)** from Meta.AI launched very recently. The model is available in 8B, 70B and 405B sizes and is outperforming a number of existing LLMs on various benchmarks. \n",
    "\n",
    "![image.png](attachment:08264d12-83d1-45ac-8664-90c3f5af5ad6.png)"
   ]
  },
  {
   "cell_type": "markdown",
   "id": "04de8150-f71a-4478-89b6-075cf10a602b",
   "metadata": {},
   "source": [
    "## But how much does it cost to train such model(s)?\n",
    "<img src=\"./assets/ch_09_01.png\">\n",
    "\n",
    "> Source: https://x.com/deedydas/status/1629312480165109760\n",
    "\n",
    "__Assumptions__\n",
    "For the sake of our understanding, we will make the following assumptions:\n",
    "- Ignore costs associated with preparing datasets\n",
    "- Ignore costs associated with training restarts, infra-failures, etc.\n",
    "- Cost of forward and backward pass is set to 1\n",
    "- Assume a very simplified view of overhead associated with multi-GPU/multi-node clusters by setting a standard efficiency ratio (ex: 0.25 efficiency in terms of TFLOPs)"
   ]
  },
  {
   "cell_type": "markdown",
   "id": "060e81bd-68c3-4d3f-b04b-2fb47d176b16",
   "metadata": {},
   "source": [
    "### Model Parameters\n",
    "- Model Size : 405 **B**illion\n",
    "- Training Dataset : 15 **T**rillion"
   ]
  },
  {
   "cell_type": "code",
   "execution_count": 39,
   "id": "baea2c80-41aa-420a-a9f1-a84b75ff0c89",
   "metadata": {},
   "outputs": [],
   "source": [
    "# define model and dataset size\n",
    "model_name = 'LLaMA3.1'\n",
    "model_size = 405e9\n",
    "dataset_size = 15e12 #15Trillion Tokens. Hint use scientific notation\n",
    "forward_backward_pass_ops = 1 # better estimate from table 1 @ Kaplan et. al."
   ]
  },
  {
   "cell_type": "markdown",
   "id": "cf57b284-9971-4dbe-b3b5-42346a8d0cea",
   "metadata": {},
   "source": [
    "### Compute Required "
   ]
  },
  {
   "cell_type": "code",
   "execution_count": 40,
   "id": "6ce98c19-04c0-429b-b198-81afad05316f",
   "metadata": {},
   "outputs": [
    {
     "name": "stdout",
     "output_type": "stream",
     "text": [
      "We will need approximately \u001b[1m6.075e+24\u001b[0m FLOPs to train \u001b[1mLLaMA3.1\u001b[0m\n",
      "\t,where FLOPs is Floating Point Operations Per Second\n"
     ]
    }
   ],
   "source": [
    "APPROX_COMPUTE_REQUIRED = model_size * dataset_size * forward_backward_pass_ops\n",
    "print(f\"We will need approximately \\033[1m{APPROX_COMPUTE_REQUIRED}\\033[0m FLOPs to train \\033[1m{model_name}\\033[0m\")\n",
    "print(\"\\t,where FLOPs is Floating Point Operations Per Second\")"
   ]
  },
  {
   "cell_type": "markdown",
   "id": "97faa229-cc24-4635-8ade-ade15bd51eb4",
   "metadata": {},
   "source": [
    "### GPU Performance and Compute Time"
   ]
  },
  {
   "cell_type": "code",
   "execution_count": 41,
   "id": "cda26c00-0ff2-4ff5-b337-122abacf2368",
   "metadata": {},
   "outputs": [],
   "source": [
    "# cost source: https://fullstackdeeplearning.com/cloud-gpus/\n",
    "gpu_details = {\n",
    "    't4':{\n",
    "        'flops':0.081e14, #colab free\n",
    "        'cost':0.21, #usd per hour\n",
    "        'ram':16 #gb\n",
    "    },\n",
    "    'v100':{\n",
    "        'flops':0.164e14, #standard nvidia\n",
    "        'cost':0.84, #usd per hour\n",
    "        'ram':32 #gb\n",
    "        \n",
    "    },\n",
    "    'a100':{\n",
    "        'flops':3.12e14, #standard nvidia\n",
    "        'cost':1.1, #usd per hour\n",
    "        'ram':80 #gb\n",
    "    },\n",
    "}\n",
    "hour_constant = 60*60 # number of seconds in an hour\n",
    "gpu_efficiency = 0.5 #50% efficiency"
   ]
  },
  {
   "cell_type": "code",
   "execution_count": 42,
   "id": "0db43d82-5fc3-4bce-8e51-5b76dd49d4a4",
   "metadata": {},
   "outputs": [
    {
     "name": "stdout",
     "output_type": "stream",
     "text": [
      "We will need approximately \u001b[1m1.08E+07\u001b[0m GPU hours to train \u001b[1mLLaMA3.1\u001b[0m on a \u001b[1ma100\u001b[0m GPU\n"
     ]
    }
   ],
   "source": [
    "gpu = #TODO: Select one of the GPUs, ex: a100\n",
    "COMPUTE_TIME = APPROX_COMPUTE_REQUIRED/(gpu_details.get(gpu).get('flops')*hour_constant*gpu_efficiency)\n",
    "print(f\"We will need approximately \\033[1m{COMPUTE_TIME:.2E}\\033[0m GPU hours to train \\033[1m{model_name}\\033[0m on a \\033[1m{gpu}\\033[0m GPU\")"
   ]
  },
  {
   "cell_type": "markdown",
   "id": "313aa189-1ec4-4885-9300-022284d39480",
   "metadata": {},
   "source": [
    "### Cost of Training"
   ]
  },
  {
   "cell_type": "code",
   "execution_count": 43,
   "id": "c7383ba9-a742-4a26-a361-046770020450",
   "metadata": {},
   "outputs": [
    {
     "name": "stdout",
     "output_type": "stream",
     "text": [
      "We will need approximately spend \u001b[1m$11,899,038.46\u001b[0m to train \u001b[1mLLaMA3.1\u001b[0m on a \u001b[1ma100\u001b[0m GPU\n"
     ]
    }
   ],
   "source": [
    "TRAINING_COST = COMPUTE_TIME*gpu_details.get(gpu).get('cost')\n",
    "print(f\"We will need approximately spend \\033[1m${TRAINING_COST:,.2f}\\033[0m to train \\033[1m{model_name}\\033[0m on a \\033[1m{gpu}\\033[0m GPU\")"
   ]
  },
  {
   "cell_type": "markdown",
   "id": "7b02f0be-2c00-440c-9303-597c68c16893",
   "metadata": {},
   "source": [
    "## Big but How Big?\n",
    "\n",
    "The latest and the greatest seem to be a thing only the _GPU-rich_ can afford to play with. The exponential increase in the size of models along with their training datasets (we saw GPT vs GPT2 vs GPT3.5 in the previous module) indicates scale is our best friend. \n",
    "\n",
    "Work by Kaplan et. al. in the work titled **[Scaling Laws for Neural Language Models](https://arxiv.org/pdf/2001.08361)** presents some interesting takeaways. \n",
    "We will use the notation from paper as:\n",
    "- **$N$**: Model parameters excluding embeddings\n",
    "- **$D$**: Size of the dataset\n",
    "- **$C$**: Compute used for training the model\n",
    "\n",
    "_Scale is a function of $N$, $D$ and $C$_\n",
    "\n",
    "\n",
    "Let's look at some of the insights from the paper:"
   ]
  },
  {
   "cell_type": "markdown",
   "id": "fbfb1e79-23b5-42b4-81c2-a77486a9ac19",
   "metadata": {},
   "source": [
    "1. Performance depends **strongly on scale** and weakly on model shape\n",
    "2. Performance improves predictably as long as we **scale up** **$N$** and **$D$** : \n",
    "_Every time we increase model size 8x, we only need to increase the dataset by roughly 5x_\n",
    "3. Large Models are more **sample efficient** than small models reaching same level of performance with fewer steps and fewer data points"
   ]
  },
  {
   "cell_type": "markdown",
   "id": "7da49860-5be3-4cd6-bac7-fcfde7403193",
   "metadata": {},
   "source": [
    "<img src=\"./assets/ch_09_02.png\">\n",
    "\n",
    "> Source: [Kaplan et. al.](https://arxiv.org/pdf/2001.08361)"
   ]
  },
  {
   "cell_type": "markdown",
   "id": "c4b3aab8-83db-4bcd-ae71-84f723fd7194",
   "metadata": {},
   "source": [
    "## So Should We Just Keep Growing?\n",
    "\n",
    "**TL;DR**: Probably not! \n",
    "\n",
    "**Long Answer**: In their work titled [Training Compute-Optimal Large Language Models](https://arxiv.org/pdf/2203.15556) Hoffman et. al. build upon the previous works to showcase that current(_2022_) set of models are **significantly under trained** or the current set of LLMs are far too large for their compute budgets and datasets!\n",
    "\n",
    "They present a 70B parameter model titled **Chincilla** which was:\n",
    "- 4x smaller than 280B parameter Gopher\n",
    "- trained on 4x more data than Gopher, 1.3T tokens vs 300B tokens\n",
    "\n",
    "and yet **outperformed** Gopher on every task they evaluated!\n",
    "\n",
    "<img src=\"./assets/ch_09_03.png\">\n",
    "\n",
    "> Source: [Hoffman et. al.](https://arxiv.org/pdf/2203.15556)\n",
    "> Fine-print: Though undertrained, LLMs increasingly show performance improvement with increasing dataset size"
   ]
  },
  {
   "cell_type": "markdown",
   "id": "05fcc526-f317-404d-bbaa-0bbd5204a82e",
   "metadata": {},
   "source": [
    "## Ok, So I have a lot of Compute, What's the Problem?\n",
    "\n",
    "The scaling laws are all good for BigTech, but you could say that most companies have a lot of compute available. Where is the problem? Let us understand this with a simple example walk through\n",
    "\n",
    "Assumptions/Setup:\n",
    "- System RAM (CPU): 32GB\n",
    "- GPU RAM : 32 GB\n",
    "- Model Size : 20B\n",
    "- Parameter Size: 2bytes"
   ]
  },
  {
   "cell_type": "code",
   "execution_count": 1,
   "id": "18976f94-44ff-41ae-923e-5f851e15ac4b",
   "metadata": {},
   "outputs": [],
   "source": [
    "from utils import humanbytes, memory_fit"
   ]
  },
  {
   "cell_type": "code",
   "execution_count": 2,
   "id": "b0ea1172-6d32-417d-832d-1b5aa51c80c2",
   "metadata": {},
   "outputs": [],
   "source": [
    "CPU_RAM = 32e9 # 32GB\n",
    "GPU_RAM = 32e9 #32GB\n",
    "model_size = 20e9 #20B\n",
    "param_size = 2"
   ]
  },
  {
   "cell_type": "code",
   "execution_count": 6,
   "id": "a845b652-3eff-4d78-8244-58268c312526",
   "metadata": {},
   "outputs": [],
   "source": [
    "inference_memory = #TODO: Model Size Multiplied with Bytes per Parameter\n",
    "inference_outcome = memory_fit(inference_memory,CPU_RAM,GPU_RAM)"
   ]
  },
  {
   "cell_type": "code",
   "execution_count": 8,
   "id": "89408375-8106-44e8-8214-e3c29c287129",
   "metadata": {},
   "outputs": [
    {
     "name": "stdout",
     "output_type": "stream",
     "text": [
      "Amount of memory needed to load model for inference=\u001b[1m40.00 GB\u001b[0m\n",
      "\n",
      "Can this work on my setup?\n",
      "\u001b[1mYes, but fit needs both CPU and GPU\u001b[0m\n"
     ]
    }
   ],
   "source": [
    "print(f\"Amount of memory needed to load model for inference=\\033[1m{humanbytes(inference_memory)}\\033[0m\")\n",
    "print()\n",
    "print(f\"Can this work on my setup?\\n\\033[1m{inference_outcome}\\033[0m\")"
   ]
  },
  {
   "cell_type": "markdown",
   "id": "8aad896f-ce57-463d-8dfc-6a9e551caab7",
   "metadata": {},
   "source": [
    "\n",
    "This is good for inference but we need to train/fine-tune this model.\n",
    "We need to accomodate for:\n",
    "- **Gradients/backpropagation** : Size same as model size\n",
    "- **Optimizer States** (ex: ADAM needs momentum and variance, can't be FP16): typically 12x of model size"
   ]
  },
  {
   "cell_type": "code",
   "execution_count": 9,
   "id": "cea8e259-3f88-4304-8f04-889e24bc859b",
   "metadata": {},
   "outputs": [],
   "source": [
    "gradient_params = model_size\n",
    "optimizer_memory = model_size*12"
   ]
  },
  {
   "cell_type": "code",
   "execution_count": 10,
   "id": "e7371150-4a51-4c94-a2da-54bdd382d9ff",
   "metadata": {},
   "outputs": [],
   "source": [
    "finetune_memory = inference_memory + gradient_params + optimizer_memory\n",
    "finetune_outcome = memory_fit(finetune_memory,CPU_RAM,GPU_RAM)"
   ]
  },
  {
   "cell_type": "code",
   "execution_count": 11,
   "id": "7f9bc390-e1d5-4501-b733-5538b6d29ca9",
   "metadata": {},
   "outputs": [
    {
     "name": "stdout",
     "output_type": "stream",
     "text": [
      "Amount of memory needed to load model for fintuning=\u001b[1m300.00 GB\u001b[0m\n",
      "\n",
      "Can this work on my setup?\n",
      "\u001b[1mNope, does not fit available memory\u001b[0m\n"
     ]
    }
   ],
   "source": [
    "print(f\"Amount of memory needed to load model for fintuning=\\033[1m{humanbytes(finetune_memory)}\\033[0m\")\n",
    "print()\n",
    "print(f\"Can this work on my setup?\\n\\033[1m{finetune_outcome}\\033[0m\")"
   ]
  },
  {
   "cell_type": "markdown",
   "id": "5d07e0ca-4baa-423c-bc68-fe1726bb6de7",
   "metadata": {},
   "source": [
    "We need more memory (and faster GPUs). But just by usual scaling we would need:"
   ]
  },
  {
   "cell_type": "code",
   "execution_count": 38,
   "id": "c60e7c9f-f5c7-4a64-a29f-e6c0fe6a63e9",
   "metadata": {},
   "outputs": [
    {
     "name": "stdout",
     "output_type": "stream",
     "text": [
      "We Would need roughly need \u001b[1m8.0 more GPUs\u001b[0m to setup fine-tuning\n"
     ]
    }
   ],
   "source": [
    "additional_gpus = #TODO: HINT Required Memory / RAM per GPU\n",
    "print(f\"We Would need roughly need \\033[1m{additional_gpus} more GPUs\\033[0m to setup fine-tuning\")"
   ]
  },
  {
   "cell_type": "code",
   "execution_count": 47,
   "id": "d4aad26e-ac4c-4599-924a-c751dd08609a",
   "metadata": {},
   "outputs": [
    {
     "name": "stdout",
     "output_type": "stream",
     "text": [
      "We Would spend roughly \u001b[1m$7.56/hr\u001b[0m to for fine-tuning with this setup\n"
     ]
    }
   ],
   "source": [
    "gpu = 'v100' # GPU RAM size is same for our example\n",
    "total_gpu_cost_per_hour = gpu_details.get(gpu).get('cost')*(additional_gpus+1)\n",
    "print(f\"We Would spend roughly \\033[1m${total_gpu_cost_per_hour}/hr\\033[0m to for fine-tuning with this setup\")"
   ]
  }
 ],
 "metadata": {
  "kernelspec": {
   "display_name": "Python 3 (ipykernel)",
   "language": "python",
   "name": "python3"
  },
  "language_info": {
   "codemirror_mode": {
    "name": "ipython",
    "version": 3
   },
   "file_extension": ".py",
   "mimetype": "text/x-python",
   "name": "python",
   "nbconvert_exporter": "python",
   "pygments_lexer": "ipython3",
   "version": "3.11.9"
  }
 },
 "nbformat": 4,
 "nbformat_minor": 5
}
